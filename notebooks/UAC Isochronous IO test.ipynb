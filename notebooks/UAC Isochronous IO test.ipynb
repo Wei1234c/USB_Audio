{
 "cells": [
  {
   "cell_type": "markdown",
   "metadata": {},
   "source": [
    "# UAC Isochronous IO test"
   ]
  },
  {
   "cell_type": "code",
   "execution_count": 1,
   "metadata": {},
   "outputs": [
    {
     "name": "stdout",
     "output_type": "stream",
     "text": [
      "Populating the interactive namespace from numpy and matplotlib\n"
     ]
    }
   ],
   "source": [
    "%pylab inline  "
   ]
  },
  {
   "cell_type": "code",
   "execution_count": 2,
   "metadata": {},
   "outputs": [],
   "source": [
    "import os\n",
    "import sys\n",
    "sys.path.append(os.path.abspath(os.path.join('..', 'codes')))\n",
    "\n",
    "path = os.sep.join(['..', '..', '..', '..', '..', '..', '待處理', 'USB', 'Universal Serial Bus', 'bitbucket', 'github', 'codes'])\n",
    "sys.path.append(path) \n",
    "\n",
    "path = os.sep.join(['..', '..', '..', '..', '..', '..', '待處理', 'ORM', 'bitbucket', 'github', 'codes'])\n",
    "sys.path.append(path) \n",
    " \n",
    "from universal_serial_bus import *\n",
    "from usb_audio.orm.uac10 import UACdevice"
   ]
  },
  {
   "cell_type": "markdown",
   "metadata": {},
   "source": [
    "## Devices"
   ]
  },
  {
   "cell_type": "code",
   "execution_count": 3,
   "metadata": {},
   "outputs": [
    {
     "data": {
      "text/plain": [
       "[(6975, 8199)]"
      ]
     },
     "execution_count": 3,
     "metadata": {},
     "output_type": "execute_result"
    }
   ],
   "source": [
    "devices, devices_ids = find_all_devices_by_class(DEVICE_CLASS.Audio)\n",
    "devices_ids"
   ]
  },
  {
   "cell_type": "markdown",
   "metadata": {},
   "source": [
    "## Device"
   ]
  },
  {
   "cell_type": "code",
   "execution_count": 4,
   "metadata": {},
   "outputs": [],
   "source": [
    "# idVendor = 0x1b3f\n",
    "# idProduct = 0x2008\n",
    "\n",
    "idVendor = 6975\n",
    "idProduct = 8199\n",
    "\n",
    "dev = UACdevice(vid = idVendor, pid = idProduct) \n",
    "# print(dev)"
   ]
  },
  {
   "cell_type": "code",
   "execution_count": 5,
   "metadata": {},
   "outputs": [
    {
     "data": {
      "text/plain": [
       "{5: <ENDPOINT 0x5: Isochronous OUT>,\n",
       " 134: <ENDPOINT 0x86: Isochronous IN>,\n",
       " 131: <ENDPOINT 0x83: Interrupt IN>}"
      ]
     },
     "execution_count": 5,
     "metadata": {},
     "output_type": "execute_result"
    }
   ],
   "source": [
    "dev.endpoints"
   ]
  },
  {
   "cell_type": "code",
   "execution_count": 6,
   "metadata": {},
   "outputs": [
    {
     "name": "stdout",
     "output_type": "stream",
     "text": [
      "{'Interrupt': {'In': [<ENDPOINT 0x83: Interrupt IN>]},\n",
      " 'Isochronous': {'In': [<ENDPOINT 0x86: Isochronous IN>],\n",
      "                 'Out': [<ENDPOINT 0x5: Isochronous OUT>]}}\n"
     ]
    }
   ],
   "source": [
    "from pprint import pprint\n",
    "\n",
    "pprint(dev.pipes)"
   ]
  },
  {
   "cell_type": "code",
   "execution_count": 7,
   "metadata": {},
   "outputs": [
    {
     "data": {
      "text/plain": [
       "[<ENDPOINT 0x86: Isochronous IN>]"
      ]
     },
     "execution_count": 7,
     "metadata": {},
     "output_type": "execute_result"
    }
   ],
   "source": [
    "dev.pipes.Isochronous.In"
   ]
  },
  {
   "cell_type": "code",
   "execution_count": 8,
   "metadata": {},
   "outputs": [
    {
     "data": {
      "text/plain": [
       "[<ENDPOINT 0x5: Isochronous OUT>]"
      ]
     },
     "execution_count": 8,
     "metadata": {},
     "output_type": "execute_result"
    }
   ],
   "source": [
    "dev.pipes.Isochronous.Out"
   ]
  },
  {
   "cell_type": "code",
   "execution_count": 9,
   "metadata": {},
   "outputs": [],
   "source": [
    "ep_in = dev.pipes.Isochronous.In[0]\n",
    "ep_out = dev.pipes.Isochronous.Out[0]"
   ]
  },
  {
   "cell_type": "code",
   "execution_count": 10,
   "metadata": {},
   "outputs": [
    {
     "data": {
      "text/plain": [
       "'Data_endpoint'"
      ]
     },
     "execution_count": 10,
     "metadata": {},
     "output_type": "execute_result"
    }
   ],
   "source": [
    "ep_in.usage_type"
   ]
  },
  {
   "cell_type": "code",
   "execution_count": 11,
   "metadata": {},
   "outputs": [
    {
     "data": {
      "text/plain": [
       "'No_Synchronization'"
      ]
     },
     "execution_count": 11,
     "metadata": {},
     "output_type": "execute_result"
    }
   ],
   "source": [
    "ep_in.synchronization_type"
   ]
  },
  {
   "cell_type": "code",
   "execution_count": 12,
   "metadata": {},
   "outputs": [
    {
     "data": {
      "text/plain": [
       "'Isochronous'"
      ]
     },
     "execution_count": 12,
     "metadata": {},
     "output_type": "execute_result"
    }
   ],
   "source": [
    "ep_in.transfer_type"
   ]
  },
  {
   "cell_type": "code",
   "execution_count": 13,
   "metadata": {},
   "outputs": [
    {
     "data": {
      "text/plain": [
       "'ENDPOINT 0x86: Isochronous IN'"
      ]
     },
     "execution_count": 13,
     "metadata": {},
     "output_type": "execute_result"
    }
   ],
   "source": [
    "ep_in.type_direction"
   ]
  },
  {
   "cell_type": "code",
   "execution_count": 14,
   "metadata": {},
   "outputs": [
    {
     "data": {
      "text/plain": [
       "'In'"
      ]
     },
     "execution_count": 14,
     "metadata": {},
     "output_type": "execute_result"
    }
   ],
   "source": [
    "ep_in.direction"
   ]
  },
  {
   "cell_type": "code",
   "execution_count": 15,
   "metadata": {},
   "outputs": [
    {
     "data": {
      "text/plain": [
       "{'device': <DEVICE ID 1b3f:2007 on Bus 000 Address 001>,\n",
       " 'interface': <INTERFACE 1, 1: Audio>,\n",
       " 'index': 0,\n",
       " 'bLength': 9,\n",
       " 'bDescriptorType': 5,\n",
       " 'bEndpointAddress': 5,\n",
       " 'bmAttributes': 1,\n",
       " 'wMaxPacketSize': 192,\n",
       " 'bInterval': 1,\n",
       " 'bRefresh': 0,\n",
       " 'bSynchAddress': 0,\n",
       " 'extra_descriptors': [7, 37, 1, 1, 0, 0, 0]}"
      ]
     },
     "execution_count": 15,
     "metadata": {},
     "output_type": "execute_result"
    }
   ],
   "source": [
    "ep_out.__dict__"
   ]
  },
  {
   "cell_type": "code",
   "execution_count": 16,
   "metadata": {},
   "outputs": [
    {
     "data": {
      "text/plain": [
       "[<universal_serial_bus.orm.usb20.descriptors.StandardDeviceDescriptor at 0x171cc2da5f8>,\n",
       " <universal_serial_bus.orm.usb20.descriptors.StandardConfigurationDescriptor at 0x171cc2dae48>,\n",
       " <universal_serial_bus.orm.usb20.descriptors.StandardInterfaceDescriptor at 0x171cc2e30b8>,\n",
       " <usb_audio.orm.uac10.descriptors.ClassSpecificAcInterfaceHeaderDescriptor at 0x171cc2e32b0>,\n",
       " <usb_audio.orm.uac10.descriptors.InputTerminalDescriptor at 0x171cc2e3518>,\n",
       " <usb_audio.orm.uac10.descriptors.InputTerminalDescriptor at 0x171cc2e3780>,\n",
       " <usb_audio.orm.uac10.descriptors.OutputTerminalDescriptor at 0x171cc2e3978>,\n",
       " <usb_audio.orm.uac10.descriptors.OutputTerminalDescriptor at 0x171cc2e3b70>,\n",
       " <usb_audio.orm.uac10.descriptors.SelectorUnitDescriptor at 0x171cc2e3d30>,\n",
       " <usb_audio.orm.uac10.descriptors.FeatureUnitDescriptor at 0x171cc2e3f28>,\n",
       " <usb_audio.orm.uac10.descriptors.FeatureUnitDescriptor at 0x171cc2e6160>,\n",
       " <usb_audio.orm.uac10.descriptors.FeatureUnitDescriptor at 0x171cc2e6358>,\n",
       " <usb_audio.orm.uac10.descriptors.MixerUnitDescriptor at 0x171cc2e6630>,\n",
       " <universal_serial_bus.orm.usb20.descriptors.StandardInterfaceDescriptor at 0x171cc2e6860>,\n",
       " <universal_serial_bus.orm.usb20.descriptors.StandardInterfaceDescriptor at 0x171cc2e6a90>,\n",
       " <usb_audio.orm.uac10.descriptors.ClassSpecificAsInterfaceDescriptor at 0x171cc2e6c18>,\n",
       " <usb_audio.orm.uac10.formats.descriptors.TypeIFormatTypeDescriptor at 0x171cc2e6e10>,\n",
       " <usb_audio.orm.uac10.descriptors.StandardAsIsochronousAudioDataEndpointDescriptor at 0x171cc2e7048>,\n",
       " <usb_audio.orm.uac10.descriptors.ClassSpecificAsIsochronousAudioDataEndpointDescriptor at 0x171cc2e7198>,\n",
       " <universal_serial_bus.orm.usb20.descriptors.StandardInterfaceDescriptor at 0x171cc2e73c8>,\n",
       " <universal_serial_bus.orm.usb20.descriptors.StandardInterfaceDescriptor at 0x171cc2e75f8>,\n",
       " <usb_audio.orm.uac10.descriptors.ClassSpecificAsInterfaceDescriptor at 0x171cc2e7780>,\n",
       " <usb_audio.orm.uac10.formats.descriptors.TypeIFormatTypeDescriptor at 0x171cc2e7978>,\n",
       " <usb_audio.orm.uac10.descriptors.StandardAsIsochronousAudioDataEndpointDescriptor at 0x171cc2e7b70>,\n",
       " <usb_audio.orm.uac10.descriptors.ClassSpecificAsIsochronousAudioDataEndpointDescriptor at 0x171cc2e7cc0>,\n",
       " <universal_serial_bus.orm.usb20.descriptors.StandardInterfaceDescriptor at 0x171cc2e7ef0>,\n",
       " <usb_audio.orm.uac10.descriptors.StandardAsIsochronousAudioDataEndpointDescriptor at 0x171cc2e80b8>]"
      ]
     },
     "execution_count": 16,
     "metadata": {},
     "output_type": "execute_result"
    }
   ],
   "source": [
    "dps = dev.descriptors_dbos\n",
    "dps"
   ]
  },
  {
   "cell_type": "code",
   "execution_count": 17,
   "metadata": {},
   "outputs": [
    {
     "data": {
      "text/plain": [
       "<usb_audio.orm.uac10.descriptors.StandardAsIsochronousAudioDataEndpointDescriptor at 0x171cc2e7b70>"
      ]
     },
     "execution_count": 17,
     "metadata": {},
     "output_type": "execute_result"
    }
   ],
   "source": [
    "dp = dps[23]\n",
    "dp"
   ]
  },
  {
   "cell_type": "code",
   "execution_count": 18,
   "metadata": {},
   "outputs": [
    {
     "data": {
      "text/plain": [
       "{'parent_id': None,\n",
       " 'bLength': '0c',\n",
       " 'bDescriptorType': '24',\n",
       " 'bDescriptorSubtype': '02',\n",
       " 'bTerminalID': '01',\n",
       " 'wTerminalType': '0101',\n",
       " 'bAssocTerminal': '00',\n",
       " 'bNrChannels': '02',\n",
       " 'wChannelConfig': '0300',\n",
       " 'iChannelNames': '00',\n",
       " 'iTerminal': '00'}"
      ]
     },
     "execution_count": 18,
     "metadata": {},
     "output_type": "execute_result"
    }
   ],
   "source": [
    "dps[4].attributes"
   ]
  },
  {
   "cell_type": "code",
   "execution_count": 19,
   "metadata": {},
   "outputs": [
    {
     "data": {
      "text/plain": [
       "{'parent_id': None,\n",
       " 'bLength': '0c',\n",
       " 'bDescriptorType': '24',\n",
       " 'bDescriptorSubtype': '02',\n",
       " 'bTerminalID': '04',\n",
       " 'wTerminalType': '0102',\n",
       " 'bAssocTerminal': '00',\n",
       " 'bNrChannels': '01',\n",
       " 'wChannelConfig': '0100',\n",
       " 'iChannelNames': '00',\n",
       " 'iTerminal': '00'}"
      ]
     },
     "execution_count": 19,
     "metadata": {},
     "output_type": "execute_result"
    }
   ],
   "source": [
    "dps[5].attributes"
   ]
  },
  {
   "cell_type": "code",
   "execution_count": 20,
   "metadata": {},
   "outputs": [],
   "source": [
    "ep_in.set_interface()"
   ]
  },
  {
   "cell_type": "code",
   "execution_count": 21,
   "metadata": {},
   "outputs": [
    {
     "data": {
      "text/plain": [
       "array('B')"
      ]
     },
     "execution_count": 21,
     "metadata": {},
     "output_type": "execute_result"
    }
   ],
   "source": [
    "ep_in.read(ep_in.wMaxPacketSize)"
   ]
  },
  {
   "cell_type": "code",
   "execution_count": 22,
   "metadata": {},
   "outputs": [],
   "source": [
    "# dev.set_interface_altsetting(1, 1)"
   ]
  },
  {
   "cell_type": "code",
   "execution_count": 23,
   "metadata": {},
   "outputs": [],
   "source": [
    "dev.reset()"
   ]
  }
 ],
 "metadata": {
  "kernelspec": {
   "display_name": "Python 3",
   "language": "python",
   "name": "python3"
  },
  "language_info": {
   "codemirror_mode": {
    "name": "ipython",
    "version": 3
   },
   "file_extension": ".py",
   "mimetype": "text/x-python",
   "name": "python",
   "nbconvert_exporter": "python",
   "pygments_lexer": "ipython3",
   "version": "3.6.9"
  }
 },
 "nbformat": 4,
 "nbformat_minor": 2
}
