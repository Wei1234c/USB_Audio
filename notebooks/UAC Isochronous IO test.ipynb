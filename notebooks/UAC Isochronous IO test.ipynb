{
 "cells": [
  {
   "cell_type": "markdown",
   "metadata": {},
   "source": [
    "# UAC Isochronous IO test"
   ]
  },
  {
   "cell_type": "code",
   "execution_count": 1,
   "metadata": {},
   "outputs": [
    {
     "name": "stdout",
     "output_type": "stream",
     "text": [
      "Populating the interactive namespace from numpy and matplotlib\n"
     ]
    }
   ],
   "source": [
    "%pylab inline  "
   ]
  },
  {
   "cell_type": "code",
   "execution_count": 2,
   "metadata": {},
   "outputs": [],
   "source": [
    "import os\n",
    "import sys\n",
    "sys.path.append(os.path.abspath(os.path.join('..', 'codes')))\n",
    "\n",
    "path = os.sep.join(['..', '..', '..', '..', '..', '待處理', 'Universal Serial Bus', 'bitbucket', 'github', 'codes'])\n",
    "sys.path.append(path) \n",
    "\n",
    "path = os.sep.join(['..', '..', '..', '..', '..', '待處理', 'ORM', 'bitbucket', 'github', 'codes'])\n",
    "sys.path.append(path) \n",
    " \n",
    "import usb\n",
    "from usb_audio.orm.uac20 import UACdevice"
   ]
  },
  {
   "cell_type": "markdown",
   "metadata": {},
   "source": [
    "## Device"
   ]
  },
  {
   "cell_type": "code",
   "execution_count": 3,
   "metadata": {},
   "outputs": [],
   "source": [
    "idVendor = 0x1b3f\n",
    "idProduct = 0x2008\n",
    "\n",
    "dev = UACdevice(vid = idVendor, pid = idProduct) \n",
    "# print(dev)"
   ]
  },
  {
   "cell_type": "code",
   "execution_count": 4,
   "metadata": {},
   "outputs": [
    {
     "data": {
      "text/plain": [
       "{5: <ENDPOINT 0x5: Isochronous OUT>,\n",
       " 134: <ENDPOINT 0x86: Isochronous IN>,\n",
       " 131: <ENDPOINT 0x83: Interrupt IN>}"
      ]
     },
     "execution_count": 4,
     "metadata": {},
     "output_type": "execute_result"
    }
   ],
   "source": [
    "dev.endpoints"
   ]
  },
  {
   "cell_type": "code",
   "execution_count": 5,
   "metadata": {},
   "outputs": [
    {
     "name": "stdout",
     "output_type": "stream",
     "text": [
      "{'Interrupt': {'In': [<ENDPOINT 0x83: Interrupt IN>]},\n",
      " 'Isochronous': {'In': [<ENDPOINT 0x86: Isochronous IN>],\n",
      "                 'Out': [<ENDPOINT 0x5: Isochronous OUT>]}}\n"
     ]
    }
   ],
   "source": [
    "from pprint import pprint\n",
    "\n",
    "pprint(dev.pipes)"
   ]
  },
  {
   "cell_type": "code",
   "execution_count": 6,
   "metadata": {},
   "outputs": [
    {
     "data": {
      "text/plain": [
       "[<ENDPOINT 0x86: Isochronous IN>]"
      ]
     },
     "execution_count": 6,
     "metadata": {},
     "output_type": "execute_result"
    }
   ],
   "source": [
    "dev.pipes.Isochronous.In"
   ]
  },
  {
   "cell_type": "code",
   "execution_count": 7,
   "metadata": {},
   "outputs": [
    {
     "data": {
      "text/plain": [
       "[<ENDPOINT 0x5: Isochronous OUT>]"
      ]
     },
     "execution_count": 7,
     "metadata": {},
     "output_type": "execute_result"
    }
   ],
   "source": [
    "dev.pipes.Isochronous.Out"
   ]
  },
  {
   "cell_type": "code",
   "execution_count": 8,
   "metadata": {},
   "outputs": [],
   "source": [
    "ep_in = dev.pipes.Isochronous.In[0]\n",
    "ep_out = dev.pipes.Isochronous.Out[0]"
   ]
  },
  {
   "cell_type": "code",
   "execution_count": 9,
   "metadata": {},
   "outputs": [
    {
     "data": {
      "text/plain": [
       "'Isochronous'"
      ]
     },
     "execution_count": 9,
     "metadata": {},
     "output_type": "execute_result"
    }
   ],
   "source": [
    "ep_in.type"
   ]
  },
  {
   "cell_type": "code",
   "execution_count": 10,
   "metadata": {},
   "outputs": [
    {
     "data": {
      "text/plain": [
       "'In'"
      ]
     },
     "execution_count": 10,
     "metadata": {},
     "output_type": "execute_result"
    }
   ],
   "source": [
    "ep_in.direction"
   ]
  },
  {
   "cell_type": "code",
   "execution_count": 11,
   "metadata": {},
   "outputs": [
    {
     "data": {
      "text/plain": [
       "'Isochronous'"
      ]
     },
     "execution_count": 11,
     "metadata": {},
     "output_type": "execute_result"
    }
   ],
   "source": [
    "ep_out.type"
   ]
  },
  {
   "cell_type": "code",
   "execution_count": 12,
   "metadata": {},
   "outputs": [
    {
     "data": {
      "text/plain": [
       "{'device': <DEVICE ID 1b3f:2008 on Bus 000 Address 002>,\n",
       " 'interface': <INTERFACE 1, 1: Audio>,\n",
       " 'index': 0,\n",
       " 'bLength': 9,\n",
       " 'bDescriptorType': 5,\n",
       " 'bEndpointAddress': 5,\n",
       " 'bmAttributes': 1,\n",
       " 'wMaxPacketSize': 192,\n",
       " 'bInterval': 1,\n",
       " 'bRefresh': 0,\n",
       " 'bSynchAddress': 0,\n",
       " 'extra_descriptors': [7, 37, 1, 1, 0, 0, 0]}"
      ]
     },
     "execution_count": 12,
     "metadata": {},
     "output_type": "execute_result"
    }
   ],
   "source": [
    "ep_out.__dict__"
   ]
  },
  {
   "cell_type": "code",
   "execution_count": 13,
   "metadata": {},
   "outputs": [
    {
     "data": {
      "text/plain": [
       "[<universal_serial_bus.orm.usb20.descriptors.StandardDeviceDescriptor at 0x273375e12e8>,\n",
       " <universal_serial_bus.orm.usb20.descriptors.StandardConfigurationDescriptor at 0x273375e1be0>,\n",
       " <universal_serial_bus.orm.usb20.descriptors.StandardInterfaceDescriptor at 0x273375e1e10>,\n",
       " <usb_audio.orm.uac20.descriptors.ClassSpecificAcInterfaceHeaderDescriptor at 0x273375e1fd0>,\n",
       " <usb_audio.orm.uac20.descriptors.InputTerminalDescriptor at 0x273375e7240>,\n",
       " <usb_audio.orm.uac20.descriptors.InputTerminalDescriptor at 0x273375e7470>,\n",
       " <usb_audio.orm.uac20.descriptors.OutputTerminalDescriptor at 0x273375e7668>,\n",
       " <usb_audio.orm.uac20.descriptors.OutputTerminalDescriptor at 0x273375e7860>,\n",
       " <usb_audio.orm.uac20.descriptors.SelectorUnitDescriptor at 0x273375e7a20>,\n",
       " <usb_audio.orm.uac20.descriptors.FeatureUnitDescriptor at 0x273375e7ba8>,\n",
       " <usb_audio.orm.uac20.descriptors.FeatureUnitDescriptor at 0x273375e7cf8>,\n",
       " <usb_audio.orm.uac20.descriptors.FeatureUnitDescriptor at 0x273375e7e48>,\n",
       " <usb_audio.orm.uac20.descriptors.MixerUnitDescriptor at 0x273375e90b8>,\n",
       " <universal_serial_bus.orm.usb20.descriptors.StandardInterfaceDescriptor at 0x273375e92e8>,\n",
       " <universal_serial_bus.orm.usb20.descriptors.StandardInterfaceDescriptor at 0x273375e9518>,\n",
       " <usb_audio.orm.uac20.descriptors.ClassSpecificAsInterfaceDescriptor at 0x273375e96d8>,\n",
       " <usb_audio.orm.uac20.formats.descriptors.TypeIFormatTypeDescriptor at 0x273375e9860>,\n",
       " <usb_audio.orm.uac20.descriptors.StandardAsIsochronousAudioDataEndpointDescriptor at 0x273375e99e8>,\n",
       " <usb_audio.orm.uac20.descriptors.ClassSpecificAsIsochronousAudioDataEndpointDescriptor at 0x273375e9ba8>,\n",
       " <universal_serial_bus.orm.usb20.descriptors.StandardInterfaceDescriptor at 0x273375e9dd8>,\n",
       " <universal_serial_bus.orm.usb20.descriptors.StandardInterfaceDescriptor at 0x273375eb048>,\n",
       " <usb_audio.orm.uac20.descriptors.ClassSpecificAsInterfaceDescriptor at 0x273375eb208>,\n",
       " <usb_audio.orm.uac20.formats.descriptors.TypeIFormatTypeDescriptor at 0x273375eb390>,\n",
       " <usb_audio.orm.uac20.descriptors.StandardAsIsochronousAudioDataEndpointDescriptor at 0x273375eb518>,\n",
       " <usb_audio.orm.uac20.descriptors.ClassSpecificAsIsochronousAudioDataEndpointDescriptor at 0x273375eb6d8>,\n",
       " <universal_serial_bus.orm.usb20.descriptors.StandardInterfaceDescriptor at 0x273375eb908>,\n",
       " <universal_serial_bus.orm.usb20.descriptors.StandardEndpointDescriptor at 0x273375eba90>]"
      ]
     },
     "execution_count": 13,
     "metadata": {},
     "output_type": "execute_result"
    }
   ],
   "source": [
    "dps = dev.descriptors_dbos\n",
    "dps"
   ]
  },
  {
   "cell_type": "code",
   "execution_count": 14,
   "metadata": {},
   "outputs": [
    {
     "data": {
      "text/plain": [
       "<usb_audio.orm.uac20.descriptors.StandardAsIsochronousAudioDataEndpointDescriptor at 0x273375eb518>"
      ]
     },
     "execution_count": 14,
     "metadata": {},
     "output_type": "execute_result"
    }
   ],
   "source": [
    "dp = dps[23]\n",
    "dp"
   ]
  },
  {
   "cell_type": "code",
   "execution_count": 15,
   "metadata": {},
   "outputs": [
    {
     "data": {
      "text/plain": [
       "{'parent_id': None,\n",
       " 'bLength': '07',\n",
       " 'bDescriptorType': '25',\n",
       " 'bDescriptorSubtype': '01',\n",
       " 'bmAttributes': '01',\n",
       " 'bmControls': '00',\n",
       " 'bLockDelayUnits': '00',\n",
       " 'wLockDelay': '00'}"
      ]
     },
     "execution_count": 15,
     "metadata": {},
     "output_type": "execute_result"
    }
   ],
   "source": [
    "dps[-3].attributes"
   ]
  },
  {
   "cell_type": "code",
   "execution_count": 16,
   "metadata": {},
   "outputs": [],
   "source": [
    "ep_in.set_interface()"
   ]
  },
  {
   "cell_type": "code",
   "execution_count": 17,
   "metadata": {},
   "outputs": [
    {
     "data": {
      "text/plain": [
       "array('B')"
      ]
     },
     "execution_count": 17,
     "metadata": {},
     "output_type": "execute_result"
    }
   ],
   "source": [
    "ep_in.read(ep_in.wMaxPacketSize)"
   ]
  },
  {
   "cell_type": "code",
   "execution_count": 18,
   "metadata": {},
   "outputs": [],
   "source": [
    "# dev.set_interface_altsetting(1, 1)"
   ]
  }
 ],
 "metadata": {
  "kernelspec": {
   "display_name": "Python 3",
   "language": "python",
   "name": "python3"
  },
  "language_info": {
   "codemirror_mode": {
    "name": "ipython",
    "version": 3
   },
   "file_extension": ".py",
   "mimetype": "text/x-python",
   "name": "python",
   "nbconvert_exporter": "python",
   "pygments_lexer": "ipython3",
   "version": "3.6.8"
  }
 },
 "nbformat": 4,
 "nbformat_minor": 2
}
