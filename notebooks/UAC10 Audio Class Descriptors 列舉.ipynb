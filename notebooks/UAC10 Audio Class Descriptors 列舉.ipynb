{
 "cells": [
  {
   "cell_type": "markdown",
   "metadata": {},
   "source": [
    "# UAC10 Audio Class Descriptors 列舉"
   ]
  },
  {
   "cell_type": "markdown",
   "metadata": {},
   "source": [
    "### 需安裝\n",
    "\n",
    "```\n",
    "pip install pyusb\n",
    "\n",
    "```\n",
    "\n",
    "### Windows DLL\n",
    "[libusb-win32-devel-filter-1.2.6.0.exe](https://sourceforge.net/projects/libusb-win32/files/libusb-win32-releases/1.2.6.0/)  \n",
    "\n",
    "https://sourceforge.net/projects/libusb-win32/  \n",
    "\n",
    "\n",
    "\n",
    "### Linux 權限\n",
    "https://ubuntuforums.org/showthread.php?t=1682084  \n",
    "https://linuxconfig.org/tutorial-on-how-to-write-basic-udev-rules-in-linux  \n",
    "```\n",
    "If anyone is interested.. fixed with udev rule:\n",
    "\n",
    "cd /etc/udev/rules.d/\n",
    "\n",
    "nano 70-ch341.rules\n",
    "\n",
    "SUBSYSTEM==\"usb\", ATTRS{idVendor}==\"1a86\", GROUP=\"dialout\"\n",
    "SUBSYSTEM==\"usb\", ATTRS{idVendor}==\"1a86\", MODE=\"666\"\n",
    "\n",
    "then reloaded udev rules:\n",
    "\n",
    "$ sudo udevadm control --reload-rules  \n",
    "$ sudo udevadm trigger\n",
    "\n",
    "```"
   ]
  },
  {
   "cell_type": "code",
   "execution_count": 1,
   "metadata": {},
   "outputs": [
    {
     "name": "stdout",
     "output_type": "stream",
     "text": [
      "Populating the interactive namespace from numpy and matplotlib\n"
     ]
    }
   ],
   "source": [
    "%pylab inline  "
   ]
  },
  {
   "cell_type": "code",
   "execution_count": 1,
   "metadata": {},
   "outputs": [],
   "source": [
    "import os\n",
    "import sys\n",
    "sys.path.append(os.path.abspath(os.path.join('..', 'codes')))\n",
    "\n",
    "path = os.sep.join(['..', '..', '..', '..', '..', '待處理', 'Universal Serial Bus', 'bitbucket', 'github', 'codes'])\n",
    "sys.path.append(path) \n",
    "\n",
    "path = os.sep.join(['..', '..', '..', '..', '..', '待處理', 'ORM', 'bitbucket', 'github', 'codes'])\n",
    "sys.path.append(path) \n",
    " \n",
    "import universal_serial_bus\n",
    "from universal_serial_bus import *\n",
    "from universal_serial_bus.orm import ModelBuilder\n",
    "from usb_audio.orm.uac10 import UACdevice"
   ]
  },
  {
   "cell_type": "markdown",
   "metadata": {},
   "source": [
    "## USB Descriptors"
   ]
  },
  {
   "cell_type": "code",
   "execution_count": 3,
   "metadata": {},
   "outputs": [],
   "source": [
    "from universal_serial_bus.orm.usb20.descriptors import * \n",
    "\n",
    "db_path = 'C:\\\\Users\\\\Wei\\\\Dropbox\\\\Coding\\\\notebooks\\\\專案\\\\待處理\\\\Universal Serial Bus\\\\bitbucket\\\\github\\\\spec\\\\usb20\\\\'\n",
    "db_path = db_path + 'usb_2_0_descriptors.sqlite'\n",
    "db_url = 'sqlite:///' + db_path  \n",
    "\n",
    "ModelBuilder._truncate_tables(db_url) \n",
    "_, _, tables, session_usb_descriptors = map_db_objects(db_url)"
   ]
  },
  {
   "cell_type": "markdown",
   "metadata": {},
   "source": [
    "## USB Codes"
   ]
  },
  {
   "cell_type": "code",
   "execution_count": 4,
   "metadata": {},
   "outputs": [],
   "source": [
    "from universal_serial_bus.orm.usb20.codes import * \n",
    "\n",
    "db_path = 'C:\\\\Users\\\\Wei\\\\Dropbox\\\\Coding\\\\notebooks\\\\專案\\\\待處理\\\\Universal Serial Bus\\\\bitbucket\\\\github\\\\spec\\\\usb20\\\\'\n",
    "db_path = db_path + 'usb_2_0_codes.sqlite'\n",
    "db_url = 'sqlite:///' + db_path  \n",
    "\n",
    "# ModelBuilder._truncate_tables(db_url) \n",
    "_, _, tables, session_usb_codes = map_db_objects(db_url)"
   ]
  },
  {
   "cell_type": "markdown",
   "metadata": {},
   "source": [
    "## UAC Descriptors"
   ]
  },
  {
   "cell_type": "code",
   "execution_count": 5,
   "metadata": {},
   "outputs": [],
   "source": [
    "from usb_audio.orm.uac10.descriptors import *\n",
    "\n",
    "db_path = 'C:\\\\Users\\\\Wei\\\\Dropbox\\\\Coding\\\\notebooks\\\\專案\\\\待處理\\\\USB Audio\\\\bitbucket\\\\github\\\\spec\\\\uac10\\\\'\n",
    "db_path = db_path + 'uac_1_0_descriptors.sqlite'\n",
    "db_url = 'sqlite:///' + db_path \n",
    "\n",
    "ModelBuilder._truncate_tables(db_url)\n",
    "_, _, tables, session_uac_descriptors = map_db_objects(db_url)"
   ]
  },
  {
   "cell_type": "code",
   "execution_count": 6,
   "metadata": {
    "scrolled": false
   },
   "outputs": [],
   "source": [
    "# ModelBuilder.gen_all(db_url, True)"
   ]
  },
  {
   "cell_type": "markdown",
   "metadata": {},
   "source": [
    "## UAC Codes"
   ]
  },
  {
   "cell_type": "code",
   "execution_count": 7,
   "metadata": {},
   "outputs": [],
   "source": [
    "from usb_audio.orm.uac10.codes import *\n",
    "\n",
    "db_path = 'C:\\\\Users\\\\Wei\\\\Dropbox\\\\Coding\\\\notebooks\\\\專案\\\\待處理\\\\USB Audio\\\\bitbucket\\\\github\\\\spec\\\\uac10\\\\'\n",
    "db_path = db_path + 'uac_1_0_codes.sqlite'\n",
    "db_url = 'sqlite:///' + db_path \n",
    "\n",
    "_, _, tables, session_uac_codes = map_db_objects(db_url)"
   ]
  },
  {
   "cell_type": "code",
   "execution_count": 8,
   "metadata": {},
   "outputs": [],
   "source": [
    "# ModelBuilder.gen_all(db_url, True)"
   ]
  },
  {
   "cell_type": "markdown",
   "metadata": {},
   "source": [
    "## UAC Format Type Descriptors"
   ]
  },
  {
   "cell_type": "code",
   "execution_count": 9,
   "metadata": {},
   "outputs": [],
   "source": [
    "from usb_audio.orm.uac10.formats.descriptors import *\n",
    "\n",
    "db_path = 'C:\\\\Users\\\\Wei\\\\Dropbox\\\\Coding\\\\notebooks\\\\專案\\\\待處理\\\\USB Audio\\\\bitbucket\\\\github\\\\spec\\\\uac10\\\\'\n",
    "db_path = db_path + 'uac_1_0_data_formats_descriptors.sqlite'\n",
    "db_url = 'sqlite:///' + db_path \n",
    "\n",
    "ModelBuilder._truncate_tables(db_url)\n",
    "_, _, tables, session_uac_format_descriptors = map_db_objects(db_url)"
   ]
  },
  {
   "cell_type": "code",
   "execution_count": 10,
   "metadata": {
    "scrolled": false
   },
   "outputs": [],
   "source": [
    "# ModelBuilder.gen_all(db_url, True)"
   ]
  },
  {
   "cell_type": "markdown",
   "metadata": {},
   "source": [
    "## UAC Format Types"
   ]
  },
  {
   "cell_type": "code",
   "execution_count": 11,
   "metadata": {},
   "outputs": [],
   "source": [
    "from usb_audio.orm.uac10.formats.formats import *\n",
    "\n",
    "db_path = 'C:\\\\Users\\\\Wei\\\\Dropbox\\\\Coding\\\\notebooks\\\\專案\\\\待處理\\\\USB Audio\\\\bitbucket\\\\github\\\\spec\\\\uac10\\\\'\n",
    "db_path = db_path + 'uac_1_0_data_formats.sqlite'\n",
    "db_url = 'sqlite:///' + db_path \n",
    "\n",
    "_, _, tables, session_uac_formats = map_db_objects(db_url)"
   ]
  },
  {
   "cell_type": "code",
   "execution_count": 12,
   "metadata": {},
   "outputs": [],
   "source": [
    "# ModelBuilder.gen_all(db_url, True)"
   ]
  },
  {
   "cell_type": "markdown",
   "metadata": {},
   "source": [
    "## UAC Terminal Types"
   ]
  },
  {
   "cell_type": "code",
   "execution_count": 13,
   "metadata": {},
   "outputs": [],
   "source": [
    "from usb_audio.orm.uac10.terminals import *\n",
    "\n",
    "db_path = 'C:\\\\Users\\\\Wei\\\\Dropbox\\\\Coding\\\\notebooks\\\\專案\\\\待處理\\\\USB Audio\\\\bitbucket\\\\github\\\\spec\\\\uac10\\\\'\n",
    "db_path = db_path + 'uac_1_0_terminal_types.sqlite'\n",
    "db_url = 'sqlite:///' + db_path \n",
    "\n",
    "_, _, tables, session_uac_terminal_types = map_db_objects(db_url)"
   ]
  },
  {
   "cell_type": "code",
   "execution_count": 14,
   "metadata": {},
   "outputs": [],
   "source": [
    "# ModelBuilder.gen_all(db_url, True)"
   ]
  },
  {
   "cell_type": "markdown",
   "metadata": {},
   "source": [
    "## Device"
   ]
  },
  {
   "cell_type": "code",
   "execution_count": 15,
   "metadata": {},
   "outputs": [],
   "source": [
    "idVendor = 0x1b3f\n",
    "idProduct = 0x2008\n",
    "\n",
    "usb_device = UACdevice(vid = idVendor, pid = idProduct)\n",
    "usb_device.id = 1\n",
    "# print(dev)"
   ]
  },
  {
   "cell_type": "code",
   "execution_count": 16,
   "metadata": {},
   "outputs": [
    {
     "data": {
      "text/plain": [
       "1.0"
      ]
     },
     "execution_count": 16,
     "metadata": {},
     "output_type": "execute_result"
    }
   ],
   "source": [
    "usb_device.uac_version"
   ]
  },
  {
   "cell_type": "code",
   "execution_count": 17,
   "metadata": {},
   "outputs": [
    {
     "name": "stdout",
     "output_type": "stream",
     "text": [
      "DEVICE ID 1b3f:2008 on Bus 000 Address 002 =================\n",
      " bLength                :   0x12 (18 bytes)\n",
      " bDescriptorType        :    0x1 Device\n",
      " bcdUSB                 :  0x110 USB 1.1\n",
      " bDeviceClass           :    0x0 Specified at interface\n",
      " bDeviceSubClass        :    0x0\n",
      " bDeviceProtocol        :    0x0\n",
      " bMaxPacketSize0        :    0x8 (8 bytes)\n",
      " idVendor               : 0x1b3f\n",
      " idProduct              : 0x2008\n",
      " bcdDevice              :  0x100 Device 1.0\n",
      " iManufacturer          :    0x1 GeneralPlus\n",
      " iProduct               :    0x2 USB Audio Device\n",
      " iSerialNumber          :    0x0 \n",
      " bNumConfigurations     :    0x1\n",
      "  CONFIGURATION 1: 100 mA ==================================\n",
      "   bLength              :    0x9 (9 bytes)\n",
      "   bDescriptorType      :    0x2 Configuration\n",
      "   wTotalLength         :   0xfd (253 bytes)\n",
      "   bNumInterfaces       :    0x4\n",
      "   bConfigurationValue  :    0x1\n",
      "   iConfiguration       :    0x0 \n",
      "   bmAttributes         :   0x80 Bus Powered\n",
      "   bMaxPower            :   0x32 (100 mA)\n",
      "    INTERFACE 0: Audio =====================================\n",
      "     bLength            :    0x9 (9 bytes)\n",
      "     bDescriptorType    :    0x4 Interface\n",
      "     bInterfaceNumber   :    0x0\n",
      "     bAlternateSetting  :    0x0\n",
      "     bNumEndpoints      :    0x0\n",
      "     bInterfaceClass    :    0x1 Audio\n",
      "     bInterfaceSubClass :    0x1\n",
      "     bInterfaceProtocol :    0x0\n",
      "     iInterface         :    0x0 \n",
      "    INTERFACE 1: Audio =====================================\n",
      "     bLength            :    0x9 (9 bytes)\n",
      "     bDescriptorType    :    0x4 Interface\n",
      "     bInterfaceNumber   :    0x1\n",
      "     bAlternateSetting  :    0x0\n",
      "     bNumEndpoints      :    0x0\n",
      "     bInterfaceClass    :    0x1 Audio\n",
      "     bInterfaceSubClass :    0x2\n",
      "     bInterfaceProtocol :    0x0\n",
      "     iInterface         :    0x0 \n",
      "    INTERFACE 1, 1: Audio ==================================\n",
      "     bLength            :    0x9 (9 bytes)\n",
      "     bDescriptorType    :    0x4 Interface\n",
      "     bInterfaceNumber   :    0x1\n",
      "     bAlternateSetting  :    0x1\n",
      "     bNumEndpoints      :    0x1\n",
      "     bInterfaceClass    :    0x1 Audio\n",
      "     bInterfaceSubClass :    0x2\n",
      "     bInterfaceProtocol :    0x0\n",
      "     iInterface         :    0x0 \n",
      "      ENDPOINT 0x5: Isochronous OUT ========================\n",
      "       bLength          :    0x9 (7 bytes)\n",
      "       bDescriptorType  :    0x5 Endpoint\n",
      "       bEndpointAddress :    0x5 OUT\n",
      "       bmAttributes     :    0x1 Isochronous\n",
      "       wMaxPacketSize   :   0xc0 (192 bytes)\n",
      "       bInterval        :    0x1\n",
      "    INTERFACE 2: Audio =====================================\n",
      "     bLength            :    0x9 (9 bytes)\n",
      "     bDescriptorType    :    0x4 Interface\n",
      "     bInterfaceNumber   :    0x2\n",
      "     bAlternateSetting  :    0x0\n",
      "     bNumEndpoints      :    0x0\n",
      "     bInterfaceClass    :    0x1 Audio\n",
      "     bInterfaceSubClass :    0x2\n",
      "     bInterfaceProtocol :    0x0\n",
      "     iInterface         :    0x0 \n",
      "    INTERFACE 2, 1: Audio ==================================\n",
      "     bLength            :    0x9 (9 bytes)\n",
      "     bDescriptorType    :    0x4 Interface\n",
      "     bInterfaceNumber   :    0x2\n",
      "     bAlternateSetting  :    0x1\n",
      "     bNumEndpoints      :    0x1\n",
      "     bInterfaceClass    :    0x1 Audio\n",
      "     bInterfaceSubClass :    0x2\n",
      "     bInterfaceProtocol :    0x0\n",
      "     iInterface         :    0x0 \n",
      "      ENDPOINT 0x86: Isochronous IN ========================\n",
      "       bLength          :    0x9 (7 bytes)\n",
      "       bDescriptorType  :    0x5 Endpoint\n",
      "       bEndpointAddress :   0x86 IN\n",
      "       bmAttributes     :    0x1 Isochronous\n",
      "       wMaxPacketSize   :   0x64 (100 bytes)\n",
      "       bInterval        :    0x1\n",
      "    INTERFACE 3: Human Interface Device ====================\n",
      "     bLength            :    0x9 (9 bytes)\n",
      "     bDescriptorType    :    0x4 Interface\n",
      "     bInterfaceNumber   :    0x3\n",
      "     bAlternateSetting  :    0x0\n",
      "     bNumEndpoints      :    0x1\n",
      "     bInterfaceClass    :    0x3 Human Interface Device\n",
      "     bInterfaceSubClass :    0x0\n",
      "     bInterfaceProtocol :    0x0\n",
      "     iInterface         :    0x0 \n",
      "      ENDPOINT 0x83: Interrupt IN ==========================\n",
      "       bLength          :    0x7 (7 bytes)\n",
      "       bDescriptorType  :    0x5 Endpoint\n",
      "       bEndpointAddress :   0x83 IN\n",
      "       bmAttributes     :    0x3 Interrupt\n",
      "       wMaxPacketSize   :    0x8 (8 bytes)\n",
      "       bInterval        :   0x20\n"
     ]
    }
   ],
   "source": [
    "print(usb_device)"
   ]
  },
  {
   "cell_type": "markdown",
   "metadata": {},
   "source": [
    "## Device descriptor\n",
    "https://www.beyondlogic.org/usbnutshell/usb5.shtml#DeviceDescriptors  "
   ]
  },
  {
   "cell_type": "code",
   "execution_count": 18,
   "metadata": {},
   "outputs": [],
   "source": [
    "bmRequestType = usb.util.build_request_type(CONTROL_REQUEST.DIRECTION.IN, \n",
    "                                            CONTROL_REQUEST.TYPE.STANDARD, \n",
    "                                            CONTROL_REQUEST.RECIPIENT.DEVICE)"
   ]
  },
  {
   "cell_type": "code",
   "execution_count": 19,
   "metadata": {},
   "outputs": [
    {
     "data": {
      "text/plain": [
       "array('B', [18, 1, 16, 1, 0, 0, 0, 8, 63, 27, 8, 32, 0, 1, 1, 2, 0, 1])"
      ]
     },
     "execution_count": 19,
     "metadata": {},
     "output_type": "execute_result"
    }
   ],
   "source": [
    "descriptor = usb_device.ctrl_transfer(bmRequestType = bmRequestType, \n",
    "                                      bRequest = CONTROL_REQUEST.GET_DESCRIPTOR, \n",
    "                                      wValue = DESCRIPTOR.TYPE.DEVICE << 8, \n",
    "                                      wIndex = 0, \n",
    "                                      data_or_wLength = DESCRIPTOR.SIZE.DEVICE)\n",
    "descriptor"
   ]
  },
  {
   "cell_type": "code",
   "execution_count": 20,
   "metadata": {
    "scrolled": false
   },
   "outputs": [
    {
     "data": {
      "text/plain": [
       "1"
      ]
     },
     "execution_count": 20,
     "metadata": {},
     "output_type": "execute_result"
    }
   ],
   "source": [
    "dev_dscrpt = StandardDeviceDescriptor.from_byte_array(descriptor, parent_id = usb_device.id)\n",
    "session_usb_descriptors.add(dev_dscrpt)\n",
    "session_usb_descriptors.commit()\n",
    "dev_dscrpt.id"
   ]
  },
  {
   "cell_type": "markdown",
   "metadata": {},
   "source": [
    "## Configuration descriptor\n",
    "https://www.beyondlogic.org/usbnutshell/usb5.shtml#ConfigurationDescriptors  "
   ]
  },
  {
   "cell_type": "code",
   "execution_count": 21,
   "metadata": {},
   "outputs": [
    {
     "data": {
      "text/plain": [
       "array('B', [9, 2, 253, 0, 4, 1, 0, 128, 50])"
      ]
     },
     "execution_count": 21,
     "metadata": {},
     "output_type": "execute_result"
    }
   ],
   "source": [
    "descriptor = usb_device.ctrl_transfer(bmRequestType = bmRequestType, \n",
    "                                      bRequest = CONTROL_REQUEST.GET_DESCRIPTOR, \n",
    "                                      wValue = DESCRIPTOR.TYPE.CONFIG << 8, \n",
    "                                      wIndex = 0, \n",
    "                                      data_or_wLength = DESCRIPTOR.SIZE.CONFIG)\n",
    "descriptor"
   ]
  },
  {
   "cell_type": "code",
   "execution_count": 22,
   "metadata": {
    "scrolled": false
   },
   "outputs": [
    {
     "data": {
      "text/plain": [
       "1"
      ]
     },
     "execution_count": 22,
     "metadata": {},
     "output_type": "execute_result"
    }
   ],
   "source": [
    "# config = StandardConfigurationDescriptor(*(StandardConfigurationDescriptor.get_descriptor_fields_values(descriptor)))\n",
    "config_dscrpt = StandardConfigurationDescriptor.from_byte_array(descriptor, parent_id = dev_dscrpt.id)\n",
    "session_usb_descriptors.add(config_dscrpt)\n",
    "session_usb_descriptors.commit()\n",
    "config_dscrpt.id"
   ]
  },
  {
   "cell_type": "markdown",
   "metadata": {},
   "source": [
    "### Host 再一次發送 GetDescriptor(Config類) 的請求\n",
    "完整的長度 = wTotalLength"
   ]
  },
  {
   "cell_type": "code",
   "execution_count": 23,
   "metadata": {},
   "outputs": [
    {
     "data": {
      "text/plain": [
       "array('B', [9, 2, 253, 0, 4, 1, 0, 128, 50, 9, 4, 0, 0, 0, 1, 1, 0, 0, 10, 36, 1, 0, 1, 100, 0, 2, 1, 2, 12, 36, 2, 1, 1, 1, 0, 2, 3, 0, 0, 0, 12, 36, 2, 4, 1, 2, 0, 1, 1, 0, 0, 0, 9, 36, 3, 3, 1, 3, 0, 6, 0, 9, 36, 3, 2, 1, 1, 0, 9, 0, 7, 36, 5, 9, 1, 5, 0, 10, 36, 6, 6, 8, 1, 1, 2, 2, 0, 9, 36, 6, 5, 4, 1, 67, 0, 0, 9, 36, 6, 7, 4, 1, 3, 0, 0, 13, 36, 4, 8, 2, 1, 7, 2, 3, 0, 0, 0, 0, 9, 4, 1, 0, 0, 1, 2, 0, 0, 9, 4, 1, 1, 1, 1, 2, 0, 0, 7, 36, 1, 1, 1, 1, 0, 14, 36, 2, 1, 2, 2, 16, 2, 68, 172, 0, 128, 187, 0, 9, 5, 5, 1, 192, 0, 1, 0, 0, 7, 37, 1, 1, 0, 0, 0, 9, 4, 2, 0, 0, 1, 2, 0, 0, 9, 4, 2, 1, 1, 1, 2, 0, 0, 7, 36, 1, 2, 1, 1, 0, 14, 36, 2, 1, 1, 2, 16, 2, 68, 172, 0, 128, 187, 0, 9, 5, 134, 1, 100, 0, 1, 0, 0, 7, 37, 1, 1, 0, 0, 0, 9, 4, 3, 0, 1, 3, 0, 0, 0, 9, 33, 1, 2, 0, 1, 34, 41, 0, 7, 5, 131, 3, 8, 0, 32])"
      ]
     },
     "execution_count": 23,
     "metadata": {},
     "output_type": "execute_result"
    }
   ],
   "source": [
    "descriptor = usb_device.ctrl_transfer(bmRequestType = bmRequestType, \n",
    "                                      bRequest = CONTROL_REQUEST.GET_DESCRIPTOR, \n",
    "                                      wValue = DESCRIPTOR.TYPE.CONFIG << 8, \n",
    "                                      wIndex = 0, \n",
    "                                      data_or_wLength = descriptor[2])\n",
    "descriptor"
   ]
  },
  {
   "cell_type": "code",
   "execution_count": 24,
   "metadata": {
    "scrolled": false
   },
   "outputs": [
    {
     "data": {
      "text/plain": [
       "array('B', [18, 1, 16, 1, 0, 0, 0, 8, 63, 27, 8, 32, 0, 1, 1, 2, 0, 1, 9, 2, 253, 0, 4, 1, 0, 128, 50, 9, 4, 0, 0, 0, 1, 1, 0, 0, 10, 36, 1, 0, 1, 100, 0, 2, 1, 12, 36, 2, 1, 1, 1, 0, 2, 3, 0, 0, 0, 12, 36, 2, 4, 1, 2, 0, 1, 1, 0, 0, 0, 9, 36, 3, 3, 1, 3, 0, 6, 0, 9, 36, 3, 2, 1, 1, 0, 9, 0, 7, 36, 5, 9, 1, 5, 0, 10, 36, 6, 6, 8, 1, 1, 2, 2, 0, 9, 36, 6, 5, 4, 1, 67, 0, 0, 9, 36, 6, 7, 4, 1, 3, 0, 0, 13, 36, 4, 8, 2, 1, 7, 2, 3, 0, 0, 0, 0, 9, 4, 1, 0, 0, 1, 2, 0, 0, 9, 4, 1, 1, 1, 1, 2, 0, 0, 7, 36, 1, 1, 1, 1, 0, 14, 36, 2, 1, 2, 2, 9, 5, 5, 1, 192, 0, 1, 7, 37, 1, 1, 0, 0, 0, 9, 4, 2, 0, 0, 1, 2, 0, 0, 9, 4, 2, 1, 1, 1, 2, 0, 0, 7, 36, 1, 2, 1, 1, 0, 14, 36, 2, 1, 1, 2, 9, 5, 134, 1, 100, 0, 1, 7, 37, 1, 1, 0, 0, 0, 9, 4, 3, 0, 1, 3, 0, 0, 0, 7, 5, 131, 3, 8, 0, 32])"
      ]
     },
     "execution_count": 24,
     "metadata": {},
     "output_type": "execute_result"
    }
   ],
   "source": [
    "OrmClassBase.concate_byte_arrays(usb_device.descriptors_dbos)"
   ]
  },
  {
   "cell_type": "markdown",
   "metadata": {},
   "source": [
    "## 所有的 descriptors"
   ]
  },
  {
   "cell_type": "code",
   "execution_count": 25,
   "metadata": {},
   "outputs": [
    {
     "data": {
      "text/plain": [
       "[array('B', [9, 2, 253, 0, 4, 1, 0, 128, 50]),\n",
       " array('B', [9, 4, 0, 0, 0, 1, 1, 0, 0]),\n",
       " array('B', [10, 36, 1, 0, 1, 100, 0, 2, 1, 2]),\n",
       " array('B', [12, 36, 2, 1, 1, 1, 0, 2, 3, 0, 0, 0]),\n",
       " array('B', [12, 36, 2, 4, 1, 2, 0, 1, 1, 0, 0, 0]),\n",
       " array('B', [9, 36, 3, 3, 1, 3, 0, 6, 0]),\n",
       " array('B', [9, 36, 3, 2, 1, 1, 0, 9, 0]),\n",
       " array('B', [7, 36, 5, 9, 1, 5, 0]),\n",
       " array('B', [10, 36, 6, 6, 8, 1, 1, 2, 2, 0]),\n",
       " array('B', [9, 36, 6, 5, 4, 1, 67, 0, 0]),\n",
       " array('B', [9, 36, 6, 7, 4, 1, 3, 0, 0]),\n",
       " array('B', [13, 36, 4, 8, 2, 1, 7, 2, 3, 0, 0, 0, 0]),\n",
       " array('B', [9, 4, 1, 0, 0, 1, 2, 0, 0]),\n",
       " array('B', [9, 4, 1, 1, 1, 1, 2, 0, 0]),\n",
       " array('B', [7, 36, 1, 1, 1, 1, 0]),\n",
       " array('B', [14, 36, 2, 1, 2, 2, 16, 2, 68, 172, 0, 128, 187, 0]),\n",
       " array('B', [9, 5, 5, 1, 192, 0, 1, 0, 0]),\n",
       " array('B', [7, 37, 1, 1, 0, 0, 0]),\n",
       " array('B', [9, 4, 2, 0, 0, 1, 2, 0, 0]),\n",
       " array('B', [9, 4, 2, 1, 1, 1, 2, 0, 0]),\n",
       " array('B', [7, 36, 1, 2, 1, 1, 0]),\n",
       " array('B', [14, 36, 2, 1, 1, 2, 16, 2, 68, 172, 0, 128, 187, 0]),\n",
       " array('B', [9, 5, 134, 1, 100, 0, 1, 0, 0]),\n",
       " array('B', [7, 37, 1, 1, 0, 0, 0]),\n",
       " array('B', [9, 4, 3, 0, 1, 3, 0, 0, 0]),\n",
       " array('B', [9, 33, 1, 2, 0, 1, 34, 41, 0]),\n",
       " array('B', [7, 5, 131, 3, 8, 0, 32])]"
      ]
     },
     "execution_count": 25,
     "metadata": {},
     "output_type": "execute_result"
    }
   ],
   "source": [
    "descriptors = list(usb_device.split_descriptor(descriptor))\n",
    "descriptors"
   ]
  },
  {
   "cell_type": "markdown",
   "metadata": {},
   "source": [
    "## 判斷 descriptors 的種類，並儲存到 db"
   ]
  },
  {
   "cell_type": "code",
   "execution_count": 26,
   "metadata": {},
   "outputs": [],
   "source": [
    "def is_a(descpt, i, code):\n",
    "    return OrmClassBase.int_eq_hex(descpt[i], code)\n",
    "\n",
    " \n",
    "def get_descriptor_class(dscrpt, intf_type = None): \n",
    "    _class = None\n",
    "    session = None\n",
    "         \n",
    "    if is_a(dscrpt, 1, '02'):  # 如果是 config\n",
    "        _class = StandardConfigurationDescriptor  \n",
    "        session = session_usb_descriptors    \n",
    "     \n",
    "    if is_a(dscrpt, 1, '05'):  # 如果是 endpoint\n",
    "        if intf_type == \"HID\":\n",
    "            _class = StandardEndpointDescriptor\n",
    "            session = session_usb_descriptors \n",
    "        \n",
    "        if intf_type == \"AS\":\n",
    "            _class = StandardAsIsochronousAudioDataEndpointDescriptor\n",
    "            session = session_uac_descriptors\n",
    "\n",
    "    if is_a(dscrpt, 1, '04'):  # 如果是 interface\n",
    "        \n",
    "        _class = StandardInterfaceDescriptor      \n",
    "        session = session_usb_descriptors    \n",
    "        \n",
    "        if is_a(dscrpt, 5, '03'):  # 如果是 audio\n",
    "            intf_type =  \"HID\" \n",
    "                \n",
    "        if is_a(dscrpt, 5, '01'):  # 如果是 audio\n",
    "            if is_a(dscrpt, 6, '01'):  # 如果是 AC interface\n",
    "                intf_type =  \"AC\" \n",
    "            if is_a(dscrpt, 6, '02'):  # 如果是 AC interface\n",
    "                intf_type =  \"AS\" \n",
    "                        \n",
    "    if is_a(dscrpt, 1, '24'):  # 如果是 CS_INTERFACE\n",
    "        session = session_uac_descriptors\n",
    "        if intf_type == \"AC\":             \n",
    "            _classes = {'00': None,\n",
    "                        '01': ClassSpecificAcInterfaceHeaderDescriptor,\n",
    "                        '02': InputTerminalDescriptor,\n",
    "                        '03': OutputTerminalDescriptor,\n",
    "                        '04': MixerUnitDescriptor,\n",
    "                        '05': SelectorUnitDescriptor,\n",
    "                        '06': FeatureUnitDescriptor,\n",
    "                        '07': 'EFFECT_UNIT',\n",
    "                        '08': 'PROCESSING_UNIT',\n",
    "                        '09': ExtensionUnitDescriptor}\n",
    "            \n",
    "            code = OrmClassBase.int_to_hex(dscrpt[2])\n",
    "            _class = _classes[code]            \n",
    "            \n",
    "        if intf_type == \"AS\":\n",
    "             \n",
    "            _classes = {'00': None,\n",
    "                        '01': ClassSpecificAsInterfaceDescriptor,\n",
    "                        '02': TypeIFormatTypeDescriptor}\n",
    "            \n",
    "            code = OrmClassBase.int_to_hex(dscrpt[2])\n",
    "            _class = _classes[code]            \n",
    "            if code == '02': session = session_uac_format_descriptors\n",
    "\n",
    "                        \n",
    "    if is_a(dscrpt, 1, '25'):  # 如果是 CS_ENDPOINT\n",
    "        session = session_uac_descriptors\n",
    "        if intf_type == \"AC\":  \n",
    "            pass    \n",
    "            \n",
    "        if intf_type == \"AS\":             \n",
    "            _classes = {'00': None,\n",
    "                        '01': ClassSpecificAsIsochronousAudioDataEndpointDescriptor}\n",
    "            \n",
    "            code = OrmClassBase.int_to_hex(dscrpt[2])\n",
    "            _class = _classes[code]\n",
    "            if code == '02': session = session_uac_format_descriptors\n",
    "                \n",
    "    return _class, session, intf_type "
   ]
  },
  {
   "cell_type": "code",
   "execution_count": 27,
   "metadata": {
    "scrolled": false
   },
   "outputs": [
    {
     "name": "stdout",
     "output_type": "stream",
     "text": [
      "\n",
      "0\n",
      "<class 'universal_serial_bus.orm.usb20.descriptors.StandardConfigurationDescriptor'> None\n",
      "array('B', [9, 2, 253, 0, 4, 1, 0, 128, 50])\n",
      "array('B', [9, 2, 253, 0, 4, 1, 0, 128, 50])\n",
      "\n",
      "1\n",
      "<class 'universal_serial_bus.orm.usb20.descriptors.StandardInterfaceDescriptor'> AC\n",
      "array('B', [9, 4, 0, 0, 0, 1, 1, 0, 0])\n",
      "array('B', [9, 4, 0, 0, 0, 1, 1, 0, 0])\n",
      "\n",
      "2\n",
      "<class 'usb_audio.orm.uac10.descriptors.ClassSpecificAcInterfaceHeaderDescriptor'> AC\n",
      "array('B', [10, 36, 1, 0, 1, 100, 0, 2, 1, 2])\n",
      "array('B', [10, 36, 1, 0, 1, 100, 0, 2, 1, 2])\n",
      "\n",
      "3\n",
      "<class 'usb_audio.orm.uac10.descriptors.InputTerminalDescriptor'> AC\n",
      "array('B', [12, 36, 2, 1, 1, 1, 0, 2, 3, 0, 0, 0])\n",
      "array('B', [12, 36, 2, 1, 1, 1, 0, 2, 3, 0, 0, 0])\n",
      "\n",
      "4\n",
      "<class 'usb_audio.orm.uac10.descriptors.InputTerminalDescriptor'> AC\n",
      "array('B', [12, 36, 2, 4, 1, 2, 0, 1, 1, 0, 0, 0])\n",
      "array('B', [12, 36, 2, 4, 1, 2, 0, 1, 1, 0, 0, 0])\n",
      "\n",
      "5\n",
      "<class 'usb_audio.orm.uac10.descriptors.OutputTerminalDescriptor'> AC\n",
      "array('B', [9, 36, 3, 3, 1, 3, 0, 6, 0])\n",
      "array('B', [9, 36, 3, 3, 1, 3, 0, 6, 0])\n",
      "\n",
      "6\n",
      "<class 'usb_audio.orm.uac10.descriptors.OutputTerminalDescriptor'> AC\n",
      "array('B', [9, 36, 3, 2, 1, 1, 0, 9, 0])\n",
      "array('B', [9, 36, 3, 2, 1, 1, 0, 9, 0])\n",
      "\n",
      "7\n",
      "<class 'usb_audio.orm.uac10.descriptors.SelectorUnitDescriptor'> AC\n",
      "array('B', [7, 36, 5, 9, 1, 5, 0])\n",
      "array('B', [7, 36, 5, 9, 1, 5, 0])\n",
      "\n",
      "8\n",
      "<class 'usb_audio.orm.uac10.descriptors.FeatureUnitDescriptor'> AC\n",
      "array('B', [10, 36, 6, 6, 8, 1, 1, 2, 2, 0])\n",
      "array('B', [10, 36, 6, 6, 8, 1, 1, 2])\n",
      "\n",
      "9\n",
      "<class 'usb_audio.orm.uac10.descriptors.FeatureUnitDescriptor'> AC\n",
      "array('B', [9, 36, 6, 5, 4, 1, 67, 0, 0])\n",
      "array('B', [9, 36, 6, 5, 4, 1, 67, 0])\n",
      "\n",
      "10\n",
      "<class 'usb_audio.orm.uac10.descriptors.FeatureUnitDescriptor'> AC\n",
      "array('B', [9, 36, 6, 7, 4, 1, 3, 0, 0])\n",
      "array('B', [9, 36, 6, 7, 4, 1, 3, 0])\n",
      "\n",
      "11\n",
      "<class 'usb_audio.orm.uac10.descriptors.MixerUnitDescriptor'> AC\n",
      "array('B', [13, 36, 4, 8, 2, 1, 7, 2, 3, 0, 0, 0, 0])\n",
      "array('B', [13, 36, 4, 8, 2, 1, 7, 2, 3, 0, 0, 0, 0])\n",
      "\n",
      "12\n",
      "<class 'universal_serial_bus.orm.usb20.descriptors.StandardInterfaceDescriptor'> AS\n",
      "array('B', [9, 4, 1, 0, 0, 1, 2, 0, 0])\n",
      "array('B', [9, 4, 1, 0, 0, 1, 2, 0, 0])\n",
      "\n",
      "13\n",
      "<class 'universal_serial_bus.orm.usb20.descriptors.StandardInterfaceDescriptor'> AS\n",
      "array('B', [9, 4, 1, 1, 1, 1, 2, 0, 0])\n",
      "array('B', [9, 4, 1, 1, 1, 1, 2, 0, 0])\n",
      "\n",
      "14\n",
      "<class 'usb_audio.orm.uac10.descriptors.ClassSpecificAsInterfaceDescriptor'> AS\n",
      "array('B', [7, 36, 1, 1, 1, 1, 0])\n",
      "array('B', [7, 36, 1, 1, 1, 1, 0])\n",
      "\n",
      "15\n",
      "<class 'usb_audio.orm.uac10.formats.descriptors.TypeIFormatTypeDescriptor'> AS\n",
      "array('B', [14, 36, 2, 1, 2, 2, 16, 2, 68, 172, 0, 128, 187, 0])\n",
      "array('B', [14, 36, 2, 1, 2, 2, 16, 2])\n",
      "\n",
      "16\n",
      "<class 'usb_audio.orm.uac10.descriptors.StandardAsIsochronousAudioDataEndpointDescriptor'> AS\n",
      "array('B', [9, 5, 5, 1, 192, 0, 1, 0, 0])\n",
      "array('B', [9, 5, 5, 1, 192, 0, 1, 0, 0])\n",
      "\n",
      "17\n",
      "<class 'usb_audio.orm.uac10.descriptors.ClassSpecificAsIsochronousAudioDataEndpointDescriptor'> AS\n",
      "array('B', [7, 37, 1, 1, 0, 0, 0])\n",
      "array('B', [7, 37, 1, 1, 0])\n",
      "\n",
      "18\n",
      "<class 'universal_serial_bus.orm.usb20.descriptors.StandardInterfaceDescriptor'> AS\n",
      "array('B', [9, 4, 2, 0, 0, 1, 2, 0, 0])\n",
      "array('B', [9, 4, 2, 0, 0, 1, 2, 0, 0])\n",
      "\n",
      "19\n",
      "<class 'universal_serial_bus.orm.usb20.descriptors.StandardInterfaceDescriptor'> AS\n",
      "array('B', [9, 4, 2, 1, 1, 1, 2, 0, 0])\n",
      "array('B', [9, 4, 2, 1, 1, 1, 2, 0, 0])\n",
      "\n",
      "20\n",
      "<class 'usb_audio.orm.uac10.descriptors.ClassSpecificAsInterfaceDescriptor'> AS\n",
      "array('B', [7, 36, 1, 2, 1, 1, 0])\n",
      "array('B', [7, 36, 1, 2, 1, 1, 0])\n",
      "\n",
      "21\n",
      "<class 'usb_audio.orm.uac10.formats.descriptors.TypeIFormatTypeDescriptor'> AS\n",
      "array('B', [14, 36, 2, 1, 1, 2, 16, 2, 68, 172, 0, 128, 187, 0])\n",
      "array('B', [14, 36, 2, 1, 1, 2, 16, 2])\n",
      "\n",
      "22\n",
      "<class 'usb_audio.orm.uac10.descriptors.StandardAsIsochronousAudioDataEndpointDescriptor'> AS\n",
      "array('B', [9, 5, 134, 1, 100, 0, 1, 0, 0])\n",
      "array('B', [9, 5, 134, 1, 100, 0, 1, 0, 0])\n",
      "\n",
      "23\n",
      "<class 'usb_audio.orm.uac10.descriptors.ClassSpecificAsIsochronousAudioDataEndpointDescriptor'> AS\n",
      "array('B', [7, 37, 1, 1, 0, 0, 0])\n",
      "array('B', [7, 37, 1, 1, 0])\n",
      "\n",
      "24\n",
      "<class 'universal_serial_bus.orm.usb20.descriptors.StandardInterfaceDescriptor'> HID\n",
      "array('B', [9, 4, 3, 0, 1, 3, 0, 0, 0])\n",
      "array('B', [9, 4, 3, 0, 1, 3, 0, 0, 0])\n",
      "\n",
      "25\n",
      "None HID\n",
      "array('B', [9, 33, 1, 2, 0, 1, 34, 41, 0])\n",
      "\n",
      "26\n",
      "<class 'universal_serial_bus.orm.usb20.descriptors.StandardEndpointDescriptor'> HID\n",
      "array('B', [7, 5, 131, 3, 8, 0, 32])\n",
      "array('B', [7, 5, 131, 3, 8, 0, 32])\n"
     ]
    }
   ],
   "source": [
    "intf_type = None\n",
    "i = 0\n",
    "\n",
    "dbos = []\n",
    "\n",
    "for descriptor in descriptors:\n",
    "    _class, session, intf_type = get_descriptor_class(descriptor, intf_type)\n",
    "    \n",
    "    print()\n",
    "    print(i)\n",
    "    i+=1    \n",
    "    \n",
    "    print(_class, intf_type)\n",
    "    print(descriptor)\n",
    "\n",
    "    \n",
    "    if _class is not None:\n",
    "        dbo = _class.from_byte_array(descriptor)\n",
    "        dbos.append(dbo)\n",
    "        print(dbo.byte_array)\n",
    "        session.add(dbo)\n",
    "        session.commit()"
   ]
  },
  {
   "cell_type": "code",
   "execution_count": 28,
   "metadata": {},
   "outputs": [
    {
     "data": {
      "image/png": "[encoded data removed]",
      "text/plain": [
       "<Figure size 1152x576 with 1 Axes>"
      ]
     },
     "metadata": {},
     "output_type": "display_data"
    }
   ],
   "source": [
    "plt.figure(figsize = (16, 8))\n",
    "\n",
    "usb_device.draw_topolograph()"
   ]
  },
  {
   "cell_type": "markdown",
   "metadata": {},
   "source": [
    "## 各種 codes"
   ]
  },
  {
   "cell_type": "code",
   "execution_count": 29,
   "metadata": {
    "scrolled": false
   },
   "outputs": [
    {
     "data": {
      "text/plain": [
       "{('01',): ('device',),\n",
       " ('02',): ('configuration',),\n",
       " ('03',): ('string',),\n",
       " ('04',): ('interface',),\n",
       " ('05',): ('endpoint',),\n",
       " ('06',): ('device_qualifier',),\n",
       " ('07',): ('other_speed_configuration',),\n",
       " ('08',): ('interface_power',),\n",
       " ('09',): ('OTG',),\n",
       " ('0a',): ('debug',),\n",
       " ('0b',): ('interface_association',)}"
      ]
     },
     "execution_count": 29,
     "metadata": {},
     "output_type": "execute_result"
    }
   ],
   "source": [
    "descriptor_types = DescriptorType.to_dict(['bDescriptorType'], ['dscrpt_type'], session_usb_codes)\n",
    "descriptor_types"
   ]
  },
  {
   "cell_type": "code",
   "execution_count": 30,
   "metadata": {},
   "outputs": [
    {
     "data": {
      "text/plain": [
       "{('00',): ('Use class information in the Interface Descriptors',),\n",
       " ('01',): ('Audio',),\n",
       " ('02',): ('Communications and CDC Control',),\n",
       " ('03',): ('HID (Human Interface Device)',),\n",
       " ('05',): ('Physical',),\n",
       " ('06',): ('Image',),\n",
       " ('07',): ('Printer',),\n",
       " ('08',): ('Mass Storage',),\n",
       " ('09',): ('Hub',),\n",
       " ('0a',): ('CDC-Data',),\n",
       " ('0b',): ('Smart Card',),\n",
       " ('0d',): ('Content Security',),\n",
       " ('0e',): ('Video',),\n",
       " ('0f',): ('Personal Healthcare',),\n",
       " ('10',): ('Audio/Video Devices',),\n",
       " ('11',): ('Billboard Device Class',),\n",
       " ('12',): ('USB Type-C Bridge Class',),\n",
       " ('dc',): ('Diagnostic Device',),\n",
       " ('e0',): ('Wireless Controller',),\n",
       " ('ef',): ('Miscellaneous',),\n",
       " ('fe',): ('Application Specific',),\n",
       " ('ff',): ('Vendor Specific',)}"
      ]
     },
     "execution_count": 30,
     "metadata": {},
     "output_type": "execute_result"
    }
   ],
   "source": [
    "class_codes = ClassCode.to_dict(['base_code'], ['description'], session_usb_codes)\n",
    "class_codes"
   ]
  },
  {
   "cell_type": "code",
   "execution_count": 31,
   "metadata": {},
   "outputs": [
    {
     "data": {
      "text/plain": [
       "{('00',): ('SUBCLASS_UNDEFINED',),\n",
       " ('01',): ('AUDIOCONTROL',),\n",
       " ('02',): ('AUDIOSTREAMING',),\n",
       " ('03',): ('MIDISTREAMING',)}"
      ]
     },
     "execution_count": 31,
     "metadata": {},
     "output_type": "execute_result"
    }
   ],
   "source": [
    "uac_subclasses = AudioInterfaceSubclassCode.to_dict(['value'], ['audio_subclass_code'], session_uac_codes)\n",
    "uac_subclasses"
   ]
  },
  {
   "cell_type": "code",
   "execution_count": 32,
   "metadata": {
    "scrolled": true
   },
   "outputs": [
    {
     "data": {
      "text/plain": [
       "{('20',): ('CS_UNDEFINED',),\n",
       " ('21',): ('CS_DEVICE',),\n",
       " ('22',): ('CS_CONFIGURATION',),\n",
       " ('23',): ('CS_STRING',),\n",
       " ('24',): ('CS_INTERFACE',),\n",
       " ('25',): ('CS_ENDPOINT',)}"
      ]
     },
     "execution_count": 32,
     "metadata": {},
     "output_type": "execute_result"
    }
   ],
   "source": [
    "ac_descriptor_types = AudioClassSpecificDescriptorType.to_dict(['value'], ['descriptor_type'], session_uac_codes)\n",
    "ac_descriptor_types"
   ]
  },
  {
   "cell_type": "code",
   "execution_count": 33,
   "metadata": {},
   "outputs": [
    {
     "data": {
      "text/plain": [
       "{('00',): ('AC_DESCRIPTOR_UNDEFINED',),\n",
       " ('01',): ('HEADER',),\n",
       " ('02',): ('INPUT_TERMINAL',),\n",
       " ('03',): ('OUTPUT_TERMINAL',),\n",
       " ('04',): ('MIXER_UNIT',),\n",
       " ('05',): ('SELECTOR_UNIT',),\n",
       " ('06',): ('FEATURE_UNIT',),\n",
       " ('07',): ('PROCESSING_UNIT',),\n",
       " ('08',): ('EXTENSION_UNIT',)}"
      ]
     },
     "execution_count": 33,
     "metadata": {},
     "output_type": "execute_result"
    }
   ],
   "source": [
    "ac_descriptor_subtypes = AudioClassSpecificAcInterfaceDescriptorSubtype.to_dict(['value'], ['descriptor_subtype'], session_uac_codes)\n",
    "ac_descriptor_subtypes"
   ]
  },
  {
   "cell_type": "code",
   "execution_count": 34,
   "metadata": {
    "scrolled": true
   },
   "outputs": [
    {
     "data": {
      "text/plain": [
       "{('00',): ('AS_DESCRIPTOR_UNDEFINED',),\n",
       " ('01',): ('AS_GENERAL',),\n",
       " ('02',): ('FORMAT_TYPE',),\n",
       " ('03',): ('FORMAT_SPECIFIC',)}"
      ]
     },
     "execution_count": 34,
     "metadata": {},
     "output_type": "execute_result"
    }
   ],
   "source": [
    "as_descriptor_subtypes = \\\n",
    "    AudioClassSpecificAsInterfaceDescriptorSubtype.to_dict(['value'], ['descriptor_subtype'], session_uac_codes)\n",
    "as_descriptor_subtypes"
   ]
  },
  {
   "cell_type": "code",
   "execution_count": 35,
   "metadata": {
    "scrolled": true
   },
   "outputs": [
    {
     "data": {
      "text/plain": [
       "{('00',): ('DESCRIPTOR_UNDEFINED',), ('01',): ('EP_GENERAL',)}"
      ]
     },
     "execution_count": 35,
     "metadata": {},
     "output_type": "execute_result"
    }
   ],
   "source": [
    "ep_descriptor_subtypes = \\\n",
    "    AudioClassSpecificEndpointDescriptorSubtype.to_dict(['value'], ['descriptor_subtype'], session_uac_codes)\n",
    "ep_descriptor_subtypes"
   ]
  },
  {
   "cell_type": "markdown",
   "metadata": {},
   "source": [
    "## String descriptor\n",
    "https://www.beyondlogic.org/usbnutshell/usb5.shtml#StringDescriptors  "
   ]
  },
  {
   "cell_type": "code",
   "execution_count": 36,
   "metadata": {},
   "outputs": [
    {
     "data": {
      "text/plain": [
       "['', 'GeneralPlus', 'USB Audio Device']"
      ]
     },
     "execution_count": 36,
     "metadata": {},
     "output_type": "execute_result"
    }
   ],
   "source": [
    "string_descriptors = usb_device.get_strings()\n",
    "string_descriptors"
   ]
  },
  {
   "cell_type": "code",
   "execution_count": 37,
   "metadata": {},
   "outputs": [],
   "source": [
    "for i in range(len(string_descriptors)): \n",
    "        if string_descriptors[i] is not None:\n",
    "            string = UnicodeStringDescriptor(len(string_descriptors[i]),\n",
    "                                             UnicodeStringDescriptor.int_to_hex(3), \n",
    "                                             string_descriptors[i], parent_id = usb_device.id)   \n",
    "            session_usb_descriptors.add(string)\n",
    "        \n",
    "session_usb_descriptors.commit() "
   ]
  }
 ],
 "metadata": {
  "kernelspec": {
   "display_name": "Python 3",
   "language": "python",
   "name": "python3"
  },
  "language_info": {
   "codemirror_mode": {
    "name": "ipython",
    "version": 3
   },
   "file_extension": ".py",
   "mimetype": "text/x-python",
   "name": "python",
   "nbconvert_exporter": "python",
   "pygments_lexer": "ipython3",
   "version": "3.6.8"
  }
 },
 "nbformat": 4,
 "nbformat_minor": 2
}
