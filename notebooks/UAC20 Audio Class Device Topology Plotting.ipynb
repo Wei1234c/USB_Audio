{
 "cells": [
  {
   "cell_type": "markdown",
   "metadata": {},
   "source": [
    "# UAC20 Audio Class Device Topology Plotting"
   ]
  },
  {
   "cell_type": "code",
   "execution_count": 1,
   "metadata": {},
   "outputs": [
    {
     "name": "stdout",
     "output_type": "stream",
     "text": [
      "Populating the interactive namespace from numpy and matplotlib\n"
     ]
    }
   ],
   "source": [
    "%pylab inline  "
   ]
  },
  {
   "cell_type": "code",
   "execution_count": 2,
   "metadata": {},
   "outputs": [],
   "source": [
    "import os\n",
    "import sys\n",
    "\n",
    "sys.path.append(os.path.abspath(os.path.join('..', 'codes')))\n",
    "\n",
    "path = os.sep.join(['..', '..', '..', '..', '..', '..', '待處理', 'USB', 'Universal Serial Bus', 'bitbucket', 'github', 'codes'])\n",
    "sys.path.append(path) \n",
    "\n",
    "path = os.sep.join(['..', '..', '..', '..', '..', '..', '待處理', 'ORM', 'bitbucket', 'github', 'codes'])\n",
    "sys.path.append(path) \n",
    " \n",
    "from universal_serial_bus import *\n",
    "# from universal_serial_bus.orm import OrmClassBase #, ModelBuilder,\n",
    "from usb_audio.orm import Topologen"
   ]
  },
  {
   "cell_type": "markdown",
   "metadata": {},
   "source": [
    "## USB Codes and Descriptors"
   ]
  },
  {
   "cell_type": "code",
   "execution_count": 3,
   "metadata": {},
   "outputs": [],
   "source": [
    "from universal_serial_bus.orm.usb20.descriptors import *\n",
    "from universal_serial_bus.orm.usb20.codes import *"
   ]
  },
  {
   "cell_type": "markdown",
   "metadata": {},
   "source": [
    "## UAC Descriptors"
   ]
  },
  {
   "cell_type": "code",
   "execution_count": 4,
   "metadata": {},
   "outputs": [],
   "source": [
    "from usb_audio.orm.uac20.descriptors import *"
   ]
  },
  {
   "cell_type": "code",
   "execution_count": 5,
   "metadata": {
    "scrolled": false
   },
   "outputs": [],
   "source": [
    "# ModelBuilder.gen_all(db_url, True)"
   ]
  },
  {
   "cell_type": "markdown",
   "metadata": {},
   "source": [
    "## UAC Format Type Descriptors"
   ]
  },
  {
   "cell_type": "code",
   "execution_count": 6,
   "metadata": {},
   "outputs": [],
   "source": [
    "from usb_audio.orm.uac20.formats.descriptors import *"
   ]
  },
  {
   "cell_type": "markdown",
   "metadata": {},
   "source": [
    "## Devices"
   ]
  },
  {
   "cell_type": "code",
   "execution_count": 7,
   "metadata": {},
   "outputs": [
    {
     "data": {
      "text/plain": [
       "[(46084, 1018)]"
      ]
     },
     "execution_count": 7,
     "metadata": {},
     "output_type": "execute_result"
    }
   ],
   "source": [
    "devices, devices_ids = find_all_devices_by_class(DEVICE_CLASS.Audio)\n",
    "devices_ids"
   ]
  },
  {
   "cell_type": "markdown",
   "metadata": {},
   "source": [
    "## Device"
   ]
  },
  {
   "cell_type": "code",
   "execution_count": 8,
   "metadata": {},
   "outputs": [],
   "source": [
    "# idVendor = 0x1b3f\n",
    "# idProduct = 0x2008\n",
    "\n",
    "idVendor, idProduct = devices_ids[0]\n",
    "\n",
    "dev = USBdevice(vid = idVendor, pid = idProduct)\n",
    "# print(dev)"
   ]
  },
  {
   "cell_type": "markdown",
   "metadata": {},
   "source": [
    "## Device descriptor\n",
    "https://www.beyondlogic.org/usbnutshell/usb5.shtml#DeviceDescriptors  "
   ]
  },
  {
   "cell_type": "code",
   "execution_count": 9,
   "metadata": {},
   "outputs": [],
   "source": [
    "bmRequestType = usb.util.build_request_type(CONTROL_REQUEST.DIRECTION.IN, \n",
    "                                            CONTROL_REQUEST.TYPE.STANDARD, \n",
    "                                            CONTROL_REQUEST.RECIPIENT.DEVICE)"
   ]
  },
  {
   "cell_type": "code",
   "execution_count": 10,
   "metadata": {},
   "outputs": [
    {
     "data": {
      "text/plain": [
       "array('B', [18, 1, 0, 2, 239, 2, 1, 64, 4, 180, 250, 3, 1, 160, 0, 0, 0, 1])"
      ]
     },
     "execution_count": 10,
     "metadata": {},
     "output_type": "execute_result"
    }
   ],
   "source": [
    "descriptor = dev.ctrl_transfer(bmRequestType = bmRequestType, \n",
    "                               bRequest = CONTROL_REQUEST.GET_DESCRIPTOR, \n",
    "                               wValue = DESCRIPTOR.TYPE.DEVICE << 8, \n",
    "                               wIndex = 0, \n",
    "                               data_or_wLength = DESCRIPTOR.SIZE.DEVICE)\n",
    "descriptor"
   ]
  },
  {
   "cell_type": "markdown",
   "metadata": {},
   "source": [
    "## Configuration descriptor\n",
    "https://www.beyondlogic.org/usbnutshell/usb5.shtml#ConfigurationDescriptors  "
   ]
  },
  {
   "cell_type": "code",
   "execution_count": 11,
   "metadata": {},
   "outputs": [
    {
     "data": {
      "text/plain": [
       "array('B', [9, 2, 153, 0, 2, 1, 0, 128, 50])"
      ]
     },
     "execution_count": 11,
     "metadata": {},
     "output_type": "execute_result"
    }
   ],
   "source": [
    "descriptor = dev.ctrl_transfer(bmRequestType = bmRequestType, \n",
    "                               bRequest = CONTROL_REQUEST.GET_DESCRIPTOR, \n",
    "                               wValue = DESCRIPTOR.TYPE.CONFIG << 8, \n",
    "                               wIndex = 0, \n",
    "                               data_or_wLength = DESCRIPTOR.SIZE.CONFIG)\n",
    "descriptor"
   ]
  },
  {
   "cell_type": "markdown",
   "metadata": {},
   "source": [
    "### Host 再一次發送 GetDescriptor(Config類) 的請求\n",
    "完整的長度 = wTotalLength"
   ]
  },
  {
   "cell_type": "code",
   "execution_count": 12,
   "metadata": {},
   "outputs": [],
   "source": [
    "descriptor = dev.ctrl_transfer(bmRequestType = bmRequestType, \n",
    "                               bRequest = CONTROL_REQUEST.GET_DESCRIPTOR, \n",
    "                               wValue = DESCRIPTOR.TYPE.CONFIG << 8, \n",
    "                               wIndex = 0, \n",
    "                               data_or_wLength = descriptor[2])\n",
    "# descriptor"
   ]
  },
  {
   "cell_type": "markdown",
   "metadata": {},
   "source": [
    "## 所有的 descriptors"
   ]
  },
  {
   "cell_type": "code",
   "execution_count": 13,
   "metadata": {},
   "outputs": [
    {
     "data": {
      "text/plain": [
       "[array('B', [9, 2, 153, 0, 2, 1, 0, 128, 50]),\n",
       " array('B', [8, 11, 0, 2, 1, 0, 32, 0]),\n",
       " array('B', [9, 4, 0, 0, 0, 1, 1, 32, 0]),\n",
       " array('B', [9, 36, 1, 0, 2, 1, 68, 0, 0]),\n",
       " array('B', [8, 36, 10, 16, 5, 3, 0, 0]),\n",
       " array('B', [21, 36, 2, 1, 1, 1, 0, 16, 2, 3, 0, 0, 0, 3, 0, 0, 0, 0, 0, 0, 0]),\n",
       " array('B', [18, 36, 6, 2, 1, 3, 0, 0, 0, 0, 0, 0, 0, 0, 0, 0, 0, 0]),\n",
       " array('B', [12, 36, 3, 3, 3, 1, 0, 2, 16, 0, 0, 0]),\n",
       " array('B', [9, 4, 1, 0, 0, 1, 2, 32, 0]),\n",
       " array('B', [9, 4, 1, 1, 1, 1, 2, 32, 0]),\n",
       " array('B', [20, 36, 1, 1, 0, 1, 1, 0, 0, 0, 2, 3, 0, 0, 0, 3, 0, 0, 0, 0]),\n",
       " array('B', [6, 36, 2, 1, 4, 24]),\n",
       " array('B', [7, 5, 2, 13, 0, 4, 1]),\n",
       " array('B', [8, 37, 1, 0, 0, 0, 0, 0])]"
      ]
     },
     "execution_count": 13,
     "metadata": {},
     "output_type": "execute_result"
    }
   ],
   "source": [
    "descriptors = list(dev.split_descriptor(descriptor))\n",
    "descriptors"
   ]
  },
  {
   "cell_type": "markdown",
   "metadata": {},
   "source": [
    "## 判斷 descriptors 的種類，並儲存到 db\n",
    "- CS_INTERFACE\n",
    "  - HEADER | CS_INTERFACE | Table 4-5: Class-Specific AC Interface Header Descriptor\n",
    "  - CLOCK_SOURCE | CS_INTERFACE | Table 4-6: Clock Source Descriptor\n",
    "  - CLOCK_SELECTOR | CS_INTERFACE | Table 4-7: Clock Selector Descriptor\n",
    "  - CLOCK_MULTIPLIER | CS_INTERFACE | Table 4-8: Clock Multiplier Descriptor\n",
    "  - INPUT_TERMINAL | CS_INTERFACE | Table 4-9: Input Terminal Descriptor\n",
    "  - OUTPUT_TERMINAL | CS_INTERFACE | Table 4-10: Output Terminal Descriptor\n",
    "  - MIXER_UNIT | CS_INTERFACE | Table 4-11: Mixer Unit Descriptor\n",
    "  - SELECTOR_UNIT | CS_INTERFACE | Table 4-12: Selector Unit Descriptor\n",
    "  - FEATURE_UNIT | CS_INTERFACE | Table 4-13: Feature Unit Descriptor\n",
    "  - SAMPLE_RATE_CONVERTER | CS_INTERFACE | Table 4-14: Sampling Rate Converter Unit Descriptor\n",
    "  - EFFECT_UNIT | CS_INTERFACE | Table 4-15: Common Part of the Effect Unit Descriptor\n",
    "  - EFFECT_UNIT | CS_INTERFACE | Table 4-16: Parametric Equalizer Section Effect Unit Descriptor\n",
    "  - EFFECT_UNIT | CS_INTERFACE | Table 4-17: Reverberation Effect Unit Descriptor\n",
    "  - EFFECT_UNIT | CS_INTERFACE | Table 4-18: Modulation Delay Effect Unit Descriptor\n",
    "  - EFFECT_UNIT | CS_INTERFACE | Table 4-19: Dynamic Range Compressor Effect Unit Descriptor\n",
    "  - PROCESSING_UNIT | CS_INTERFACE | Table 4-20: Common Part of the Processing Unit Descriptor\n",
    "  - PROCESSING_UNIT | CS_INTERFACE | Table 4-21: Up/Down-mix Processing Unit Descriptor\n",
    "  - PROCESSING_UNIT | CS_INTERFACE | Table 4-22: Dolby Prologic Processing Unit Descriptor\n",
    "  - PROCESSING_UNIT | CS_INTERFACE | Table 4-23: Stereo Extender Processing Unit Descriptor\n",
    "  - EXTENSION_UNIT | CS_INTERFACE | Table 4-24: Extension Unit Descriptor\n",
    "  - AS_GENERAL | CS_INTERFACE | Table 4-27: Class-Specific AS Interface Descriptor\n",
    "  - ENCODER | CS_INTERFACE | Table 4-28: Encoder Descriptor\n",
    "  - DECODER | CS_INTERFACE | Table 4-29: MPEG Decoder Descriptor\n",
    "  - DECODER | CS_INTERFACE | Table 4-30: AC-3 Decoder Descriptor\n",
    "  - DECODER | CS_INTERFACE | Table 4-31: WMA Decoder Descriptor\n",
    "  - DECODER | CS_INTERFACE | Table 4-32: DTS Decoder Descriptor\n",
    "- CS_ENDPOINT\n",
    "  - EP_GENERAL | CS_ENDPOINT | Table 4-34: Class-Specific AS Isochronous Audio Data Endpoint Descriptor\n",
    "\n"
   ]
  },
  {
   "cell_type": "code",
   "execution_count": 14,
   "metadata": {},
   "outputs": [],
   "source": [
    "def is_a(descpt, i, code):\n",
    "    return OrmClassBase.int_eq_hex(descpt[i], code)\n",
    "\n",
    " \n",
    "def get_descriptor_class(dscrpt, intf_type = None): \n",
    "    _class = None\n",
    "    session = None\n",
    "    session_usb = session_uac_descriptors = session_uac_format_descriptors  = None\n",
    "         \n",
    "    if is_a(dscrpt, 1, '02'):  # 如果是 config\n",
    "        _class, session = StandardConfigurationDescriptor, session_usb        \n",
    "     \n",
    "    if is_a(dscrpt, 1, '05'):  # 如果是 endpoint\n",
    "        _class, session = StandardEndpointDescriptor, session_usb\n",
    "        \n",
    "    if is_a(dscrpt, 1, '04'):  # 如果是 interface\n",
    "        \n",
    "        _class, session,  = StandardInterfaceDescriptor, session_usb\n",
    "        \n",
    "        if is_a(dscrpt, 5, '01'):  # 如果是 audio\n",
    "            if is_a(dscrpt, 6, '01'):  # 如果是 AC interface\n",
    "                intf_type =  \"AC\" \n",
    "            if is_a(dscrpt, 6, '02'):  # 如果是 AC interface\n",
    "                intf_type =  \"AS\" \n",
    "                        \n",
    "    if is_a(dscrpt, 1, '24'):  # 如果是 CS_INTERFACE\n",
    "        session = session_uac_descriptors\n",
    "        if intf_type == \"AC\":             \n",
    "            _classes = {'00': None,\n",
    "                        '01': ClassSpecificAcInterfaceHeaderDescriptor,\n",
    "                        '02': InputTerminalDescriptor,\n",
    "                        '03': OutputTerminalDescriptor,\n",
    "                        '04': MixerUnitDescriptor,\n",
    "                        '05': SelectorUnitDescriptor,\n",
    "                        '06': FeatureUnitDescriptor,\n",
    "                        '07': 'EFFECT_UNIT',\n",
    "                        '08': 'PROCESSING_UNIT',\n",
    "                        '09': ExtensionUnitDescriptor,\n",
    "                        '0A': ClockSourceDescriptor,\n",
    "                        '0B': ClockSelectorDescriptor,\n",
    "                        '0C': ClockMultiplierDescriptor,\n",
    "                        '0D': SamplingRateConverterUnitDescriptor}\n",
    "            \n",
    "            code = OrmClassBase.int_to_hex(dscrpt[2]).upper()\n",
    "            _class = _classes[code]            \n",
    "            \n",
    "        if intf_type == \"AS\":             \n",
    "            _classes = {'00': None,\n",
    "                        '01': ClassSpecificAsInterfaceDescriptor,\n",
    "                        '02': TypeIFormatTypeDescriptor,\n",
    "                        '03': EncoderDescriptor,\n",
    "                        '04': 'DECODER'}\n",
    "            \n",
    "            code = OrmClassBase.int_to_hex(dscrpt[2]).upper()\n",
    "            _class = _classes[code]            \n",
    "            if code == '02': session = session_uac_format_descriptors\n",
    "\n",
    "                        \n",
    "    if is_a(dscrpt, 1, '25'):  # 如果是 CS_ENDPOINT\n",
    "        session = session_uac_descriptors\n",
    "        if intf_type == \"AC\":    \n",
    "            pass\n",
    "        \n",
    "        if intf_type == \"AS\":             \n",
    "            _classes = {'00': None,\n",
    "                        '01': ClassSpecificAsIsochronousAudioDataEndpointDescriptor}\n",
    "            \n",
    "            code = OrmClassBase.int_to_hex(dscrpt[2]).upper()\n",
    "            _class = _classes[code]\n",
    "            if code == '02': session = session_uac_format_descriptors\n",
    "                \n",
    "    return _class, session, intf_type "
   ]
  },
  {
   "cell_type": "code",
   "execution_count": 15,
   "metadata": {
    "scrolled": false
   },
   "outputs": [],
   "source": [
    "dbos = []\n",
    "intf_type = None\n",
    "i = 0\n",
    "\n",
    "for descriptor in descriptors:\n",
    "    _class, session, intf_type = get_descriptor_class(descriptor, intf_type) \n",
    "    \n",
    "    if _class is not None:\n",
    "        dbo = _class.from_byte_array(descriptor)\n",
    "        dbos.append(dbo)        "
   ]
  },
  {
   "cell_type": "markdown",
   "metadata": {},
   "source": [
    "### Plotting tips\n",
    "[draw_networkx_nodes](https://networkx.github.io/documentation/stable/reference/generated/networkx.drawing.nx_pylab.draw_networkx_nodes.html)  \n",
    "[draw_networkx_edges](https://networkx.github.io/documentation/stable/reference/generated/networkx.drawing.nx_pylab.draw_networkx_edges.html?highlight=draw_networkx_edges#)  \n",
    "[arrow style](https://matplotlib.org/gallery/pyplots/whats_new_98_4_fancy.html#sphx-glr-gallery-pyplots-whats-new-98-4-fancy-py)  \n",
    "[ConnectionStyle](https://matplotlib.org/api/_as_gen/matplotlib.patches.ConnectionStyle.html)  \n",
    "[FancyArrowPatch](https://matplotlib.org/api/_as_gen/matplotlib.patches.FancyArrowPatch.html)  "
   ]
  },
  {
   "cell_type": "code",
   "execution_count": 16,
   "metadata": {
    "scrolled": false
   },
   "outputs": [
    {
     "name": "stderr",
     "output_type": "stream",
     "text": [
      "C:\\Softwares\\Python\\lib\\site-packages\\networkx\\drawing\\nx_pylab.py:579: MatplotlibDeprecationWarning: \n",
      "The iterable function was deprecated in Matplotlib 3.1 and will be removed in 3.3. Use np.iterable instead.\n",
      "  if not cb.iterable(width):\n",
      "C:\\Softwares\\Python\\lib\\site-packages\\networkx\\drawing\\nx_pylab.py:676: MatplotlibDeprecationWarning: \n",
      "The iterable function was deprecated in Matplotlib 3.1 and will be removed in 3.3. Use np.iterable instead.\n",
      "  if cb.iterable(node_size):  # many node sizes\n"
     ]
    },
    {
     "data": {
      "image/png": "[encoded data removed]",
      "text/plain": [
       "<Figure size 1440x720 with 1 Axes>"
      ]
     },
     "metadata": {},
     "output_type": "display_data"
    }
   ],
   "source": [
    "fig = plt.figure(figsize = (20, 10))\n",
    "\n",
    "Topologen.draw_topolograph(dbos)# , label_font_size = 14, edge_width = 5, edge_arrowstyle = '->', edge_arrowsize = 50,)\n",
    "\n",
    "title = 'USB audio device (sound card) functional topolograph' #.title()\n",
    "title = 'UAC Protoype ( 0xb404 0x3fa ) functional topolograph' #.title()\n",
    "fig.suptitle(title, fontsize = 24)\n",
    "\n",
    "plt.tight_layout()\n",
    "plt.savefig(title + '.png')\n",
    "plt.show()"
   ]
  },
  {
   "cell_type": "code",
   "execution_count": 17,
   "metadata": {},
   "outputs": [
    {
     "data": {
      "image/png": "[encoded data removed]",
      "text/plain": [
       "<Figure size 432x288 with 1 Axes>"
      ]
     },
     "metadata": {},
     "output_type": "display_data"
    }
   ],
   "source": [
    "from usb_audio.orm.uac20 import *\n",
    "dev = UACdevice(vid = idVendor, pid = idProduct)\n",
    "\n",
    "dev.draw_topolograph(node_size = 500, label_font_size = 12,\n",
    "                     edge_width = 5, edge_arrowstyle = '->', edge_arrowsize = 50)"
   ]
  },
  {
   "cell_type": "code",
   "execution_count": 18,
   "metadata": {},
   "outputs": [],
   "source": [
    "dev.dump_descriptors('UAC Protoype ( 0xb404 0x3fa ) descriptors.json')"
   ]
  }
 ],
 "metadata": {
  "kernelspec": {
   "display_name": "Python 3",
   "language": "python",
   "name": "python3"
  },
  "language_info": {
   "codemirror_mode": {
    "name": "ipython",
    "version": 3
   },
   "file_extension": ".py",
   "mimetype": "text/x-python",
   "name": "python",
   "nbconvert_exporter": "python",
   "pygments_lexer": "ipython3",
   "version": "3.6.9"
  }
 },
 "nbformat": 4,
 "nbformat_minor": 2
}
