{
 "cells": [
  {
   "cell_type": "markdown",
   "metadata": {},
   "source": [
    "# USB Standard Descriptors 列舉\n",
    "https://wwssllabcd.github.io/blog/2012/11/28/usb-emulation/  \n",
    "https://www.beyondlogic.org/usbnutshell/  "
   ]
  },
  {
   "cell_type": "markdown",
   "metadata": {},
   "source": [
    "### 需安裝\n",
    "\n",
    "```\n",
    "pip install pyusb\n",
    "\n",
    "```\n",
    "\n",
    "### Windows DLL\n",
    "[libusb-win32-devel-filter-1.2.6.0.exe](https://sourceforge.net/projects/libusb-win32/files/libusb-win32-releases/1.2.6.0/)  \n",
    "\n",
    "https://sourceforge.net/projects/libusb-win32/  \n",
    "\n",
    "\n",
    "\n",
    "### Linux 權限\n",
    "https://ubuntuforums.org/showthread.php?t=1682084  \n",
    "https://linuxconfig.org/tutorial-on-how-to-write-basic-udev-rules-in-linux  \n",
    "```\n",
    "If anyone is interested.. fixed with udev rule:\n",
    "\n",
    "cd /etc/udev/rules.d/\n",
    "\n",
    "nano 70-ch341.rules\n",
    "\n",
    "SUBSYSTEM==\"usb\", ATTRS{idVendor}==\"1a86\", GROUP=\"dialout\"\n",
    "SUBSYSTEM==\"usb\", ATTRS{idVendor}==\"1a86\", MODE=\"666\"\n",
    "\n",
    "then reloaded udev rules:\n",
    "\n",
    "$ sudo udevadm control --reload-rules  \n",
    "$ sudo udevadm trigger\n",
    "\n",
    "```"
   ]
  },
  {
   "cell_type": "code",
   "execution_count": 1,
   "metadata": {},
   "outputs": [
    {
     "name": "stdout",
     "output_type": "stream",
     "text": [
      "Populating the interactive namespace from numpy and matplotlib\n"
     ]
    }
   ],
   "source": [
    "%pylab inline  \n",
    "\n",
    "import usb"
   ]
  },
  {
   "cell_type": "code",
   "execution_count": 2,
   "metadata": {},
   "outputs": [],
   "source": [
    "import os\n",
    "import sys\n",
    "sys.path.append(os.path.abspath(os.path.join('..', 'codes')))\n",
    "\n",
    "path = os.sep.join(['..', '..', '..', '..', '..', '待處理', 'ORM', 'bitbucket', 'github', 'codes'])\n",
    "sys.path.append(path) \n",
    "\n",
    "path = os.sep.join(['..', '..', '..', '..', '..', '待處理', 'Universal Serial Bus', 'bitbucket', 'github', 'codes'])\n",
    "sys.path.append(path)\n",
    "\n",
    "import universal_serial_bus\n",
    "from universal_serial_bus import * \n",
    "from universal_serial_bus.orm.usb20 import *"
   ]
  },
  {
   "cell_type": "code",
   "execution_count": 3,
   "metadata": {},
   "outputs": [],
   "source": [
    "db_path = 'C:\\\\Users\\\\Wei\\\\Dropbox\\\\Coding\\\\notebooks\\\\專案\\\\待處理\\\\Universal Serial Bus\\\\bitbucket\\\\github\\\\spec\\\\db\\\\'\n",
    "db_path = db_path + 'usb_2_0.sqlite'\n",
    "db_url = 'sqlite:///' + db_path "
   ]
  },
  {
   "cell_type": "code",
   "execution_count": 4,
   "metadata": {
    "scrolled": false
   },
   "outputs": [
    {
     "name": "stdout",
     "output_type": "stream",
     "text": [
      "\n",
      "class ClassCode(OrmClassBase):\n",
      "\n",
      "    fields_sizes = [('base_code', 1),]\n",
      "\n",
      "    def __init__(self, description, descriptor_usage, base_code):\n",
      "\n",
      "        self.description = description\n",
      "        self.descriptor_usage = descriptor_usage\n",
      "        self.base_code = base_code\n",
      "\n",
      "\n",
      "class DescriptorType(OrmClassBase):\n",
      "\n",
      "    fields_sizes = [('bDescriptorType', 1),]\n",
      "\n",
      "    def __init__(self, dscrpt_type, bDescriptorType):\n",
      "\n",
      "        self.dscrpt_type = dscrpt_type\n",
      "        self.bDescriptorType = bDescriptorType\n",
      "\n",
      "\n",
      "class DeviceQualifierDescriptor(OrmClassBase):\n",
      "\n",
      "    fields_sizes = [('bLength', 1), ('bDescriptorType', 1), ('bcdUSB', 2), ('bDeviceClass', 1), ('bDeviceSubClass', 1), ('bDeviceProtocol', 1), ('bMaxPacketSize0', 1), ('bNumConfigurations', 1), ('bReserved', 1),]\n",
      "\n",
      "    def __init__(self, bLength, bDescriptorType, bcdUSB, bDeviceClass, bDeviceSubClass, bDeviceProtocol, bMaxPacketSize0, bNumConfigurations, bReserved, parent_id = None):\n",
      "\n",
      "        self.parent_id = parent_id\n",
      "        self.bLength = bLength\n",
      "        self.bDescriptorType = bDescriptorType\n",
      "        self.bcdUSB = bcdUSB\n",
      "        self.bDeviceClass = bDeviceClass\n",
      "        self.bDeviceSubClass = bDeviceSubClass\n",
      "        self.bDeviceProtocol = bDeviceProtocol\n",
      "        self.bMaxPacketSize0 = bMaxPacketSize0\n",
      "        self.bNumConfigurations = bNumConfigurations\n",
      "        self.bReserved = bReserved\n",
      "\n",
      "\n",
      "class OtherSpeedConfigurationDescriptor(OrmClassBase):\n",
      "\n",
      "    fields_sizes = [('bLength', 1), ('bDescriptorType', 1), ('wTotalLength', 2), ('bNumInterfaces', 1), ('bConfigurationValue', 1), ('iConfiguration', 1), ('bmAttributes', 1), ('bMaxPower', 1),]\n",
      "\n",
      "    def __init__(self, bLength, bDescriptorType, wTotalLength, bNumInterfaces, bConfigurationValue, iConfiguration, bmAttributes, bMaxPower, parent_id = None):\n",
      "\n",
      "        self.parent_id = parent_id\n",
      "        self.bLength = bLength\n",
      "        self.bDescriptorType = bDescriptorType\n",
      "        self.wTotalLength = wTotalLength\n",
      "        self.bNumInterfaces = bNumInterfaces\n",
      "        self.bConfigurationValue = bConfigurationValue\n",
      "        self.iConfiguration = iConfiguration\n",
      "        self.bmAttributes = bmAttributes\n",
      "        self.bMaxPower = bMaxPower\n",
      "\n",
      "\n",
      "class RequestCode(OrmClassBase):\n",
      "\n",
      "    fields_sizes = [('rqst_code', 1),]\n",
      "\n",
      "    def __init__(self, request_type, rqst_code):\n",
      "\n",
      "        self.request_type = request_type\n",
      "        self.rqst_code = rqst_code\n",
      "\n",
      "\n",
      "class StandardConfigurationDescriptor(OrmClassBase):\n",
      "\n",
      "    fields_sizes = [('bLength', 1), ('bDescriptorType', 1), ('wTotalLength', 2), ('bNumInterfaces', 1), ('bConfigurationValue', 1), ('iConfiguration', 1), ('bmAttributes', 1), ('bMaxPower', 1),]\n",
      "\n",
      "    def __init__(self, bLength, bDescriptorType, wTotalLength, bNumInterfaces, bConfigurationValue, iConfiguration, bmAttributes, bMaxPower, parent_id = None):\n",
      "\n",
      "        self.parent_id = parent_id\n",
      "        self.bLength = bLength\n",
      "        self.bDescriptorType = bDescriptorType\n",
      "        self.wTotalLength = wTotalLength\n",
      "        self.bNumInterfaces = bNumInterfaces\n",
      "        self.bConfigurationValue = bConfigurationValue\n",
      "        self.iConfiguration = iConfiguration\n",
      "        self.bmAttributes = bmAttributes\n",
      "        self.bMaxPower = bMaxPower\n",
      "\n",
      "\n",
      "class StandardDeviceDescriptor(OrmClassBase):\n",
      "\n",
      "    fields_sizes = [('bLength', 1), ('bDescriptorType', 1), ('bcdUSB', 2), ('bDeviceClass', 1), ('bDeviceSubClass', 1), ('bDeviceProtocol', 1), ('bMaxPacketSize0', 1), ('idVendor', 2), ('idProduct', 2), ('bcdDevice', 2), ('iManufacturer', 1), ('iProduct', 1), ('iSerialNumber', 1), ('bNumConfigurations', 1),]\n",
      "\n",
      "    def __init__(self, bLength, bDescriptorType, bcdUSB, bDeviceClass, bDeviceSubClass, bDeviceProtocol, bMaxPacketSize0, idVendor, idProduct, bcdDevice, iManufacturer, iProduct, iSerialNumber, bNumConfigurations, parent_id = None):\n",
      "\n",
      "        self.parent_id = parent_id\n",
      "        self.bLength = bLength\n",
      "        self.bDescriptorType = bDescriptorType\n",
      "        self.bcdUSB = bcdUSB\n",
      "        self.bDeviceClass = bDeviceClass\n",
      "        self.bDeviceSubClass = bDeviceSubClass\n",
      "        self.bDeviceProtocol = bDeviceProtocol\n",
      "        self.bMaxPacketSize0 = bMaxPacketSize0\n",
      "        self.idVendor = idVendor\n",
      "        self.idProduct = idProduct\n",
      "        self.bcdDevice = bcdDevice\n",
      "        self.iManufacturer = iManufacturer\n",
      "        self.iProduct = iProduct\n",
      "        self.iSerialNumber = iSerialNumber\n",
      "        self.bNumConfigurations = bNumConfigurations\n",
      "\n",
      "\n",
      "class StandardEndpointDescriptor(OrmClassBase):\n",
      "\n",
      "    fields_sizes = [('bLength', 1), ('bDescriptorType', 1), ('bEndpointAddress', 1), ('bmAttributes', 1), ('wMaxPacketSize', 2), ('bInterval', 1),]\n",
      "\n",
      "    def __init__(self, bLength, bDescriptorType, bEndpointAddress, bmAttributes, wMaxPacketSize, bInterval, parent_id = None):\n",
      "\n",
      "        self.parent_id = parent_id\n",
      "        self.bLength = bLength\n",
      "        self.bDescriptorType = bDescriptorType\n",
      "        self.bEndpointAddress = bEndpointAddress\n",
      "        self.bmAttributes = bmAttributes\n",
      "        self.wMaxPacketSize = wMaxPacketSize\n",
      "        self.bInterval = bInterval\n",
      "\n",
      "\n",
      "class StandardInterfaceDescriptor(OrmClassBase):\n",
      "\n",
      "    fields_sizes = [('bLength', 1), ('bDescriptorType', 1), ('bInterfaceNumber', 1), ('bAlternateSetting', 1), ('bNumEndpoints', 1), ('bInterfaceClass', 1), ('bInterfaceSubClass', 1), ('bInterfaceProtocol', 1), ('iInterface', 1),]\n",
      "\n",
      "    def __init__(self, bLength, bDescriptorType, bInterfaceNumber, bAlternateSetting, bNumEndpoints, bInterfaceClass, bInterfaceSubClass, bInterfaceProtocol, iInterface, parent_id = None):\n",
      "\n",
      "        self.parent_id = parent_id\n",
      "        self.bLength = bLength\n",
      "        self.bDescriptorType = bDescriptorType\n",
      "        self.bInterfaceNumber = bInterfaceNumber\n",
      "        self.bAlternateSetting = bAlternateSetting\n",
      "        self.bNumEndpoints = bNumEndpoints\n",
      "        self.bInterfaceClass = bInterfaceClass\n",
      "        self.bInterfaceSubClass = bInterfaceSubClass\n",
      "        self.bInterfaceProtocol = bInterfaceProtocol\n",
      "        self.iInterface = iInterface\n",
      "\n",
      "\n",
      "class StringDescriptorZero(OrmClassBase):\n",
      "\n",
      "    fields_sizes = [('bLength', 1), ('bDescriptorType', 1), ('wLANGID_0_', 2), ('wLANGID_x_', 2),]\n",
      "\n",
      "    def __init__(self, bLength, bDescriptorType, wLANGID_0_, wLANGID_x_, parent_id = None):\n",
      "\n",
      "        self.parent_id = parent_id\n",
      "        self.bLength = bLength\n",
      "        self.bDescriptorType = bDescriptorType\n",
      "        self.wLANGID_0_ = wLANGID_0_\n",
      "        self.wLANGID_x_ = wLANGID_x_\n",
      "\n",
      "\n",
      "class UnicodeStringDescriptor(OrmClassBase):\n",
      "\n",
      "    fields_sizes = [('bLength', 1), ('bDescriptorType', 1), ('bString', 255),]\n",
      "\n",
      "    def __init__(self, bLength, bDescriptorType, bString, parent_id = None):\n",
      "\n",
      "        self.parent_id = parent_id\n",
      "        self.bLength = bLength\n",
      "        self.bDescriptorType = bDescriptorType\n",
      "        self.bString = bString\n",
      "\n",
      "\n",
      "class UsbDevice(OrmClassBase):\n",
      "\n",
      "    fields_sizes = []\n",
      "\n",
      "    def __init__(self, name, description):\n",
      "\n",
      "        self.name = name\n",
      "        self.description = description\n",
      "\n",
      "#*******************************************\n",
      "\n",
      "from sqlalchemy import create_engine, MetaData, Table\n",
      "from sqlalchemy.orm import mapper, sessionmaker\n",
      "\n",
      "\n",
      "engine = create_engine(\"sqlite:///C:\\\\Users\\\\Wei\\\\Dropbox\\\\Coding\\\\notebooks\\\\專案\\\\待處理\\\\Universal Serial Bus\\\\bitbucket\\\\github\\\\spec\\\\db\\\\usb_2_0.sqlite\", echo = False)\n",
      "meta = MetaData(bind = engine)\n",
      "meta.reflect()\n",
      "tables = [Table(table, meta) for table in meta.tables]\n",
      "Session = sessionmaker(bind=engine)\n",
      "session = Session()\n",
      "\n",
      "\n",
      "class_code = tables[0]\n",
      "descriptor_type = tables[1]\n",
      "device_qualifier_descriptor = tables[2]\n",
      "other_speed_configuration_descriptor = tables[3]\n",
      "request_code = tables[4]\n",
      "standard_configuration_descriptor = tables[5]\n",
      "standard_device_descriptor = tables[6]\n",
      "standard_endpoint_descriptor = tables[7]\n",
      "standard_interface_descriptor = tables[8]\n",
      "string_descriptor_zero = tables[9]\n",
      "unicode_string_descriptor = tables[10]\n",
      "usb_device = tables[11]\n",
      "\n",
      "mapper(ClassCode, class_code)\n",
      "mapper(DescriptorType, descriptor_type)\n",
      "mapper(DeviceQualifierDescriptor, device_qualifier_descriptor)\n",
      "mapper(OtherSpeedConfigurationDescriptor, other_speed_configuration_descriptor)\n",
      "mapper(RequestCode, request_code)\n",
      "mapper(StandardConfigurationDescriptor, standard_configuration_descriptor)\n",
      "mapper(StandardDeviceDescriptor, standard_device_descriptor)\n",
      "mapper(StandardEndpointDescriptor, standard_endpoint_descriptor)\n",
      "mapper(StandardInterfaceDescriptor, standard_interface_descriptor)\n",
      "mapper(StringDescriptorZero, string_descriptor_zero)\n",
      "mapper(UnicodeStringDescriptor, unicode_string_descriptor)\n",
      "mapper(UsbDevice, usb_device)\n",
      "\n"
     ]
    }
   ],
   "source": [
    "from universal_serial_bus.orm import ModelBuilder\n",
    "\n",
    "ModelBuilder.gen_all(db_url)"
   ]
  },
  {
   "cell_type": "code",
   "execution_count": 5,
   "metadata": {},
   "outputs": [
    {
     "data": {
      "text/plain": [
       "<Mapper at 0x22cb6b3d7b8; UsbDevice>"
      ]
     },
     "execution_count": 5,
     "metadata": {},
     "output_type": "execute_result"
    }
   ],
   "source": [
    "from sqlalchemy.orm import mapper \n",
    "\n",
    "_, _, tables, session = ModelBuilder.get_db_objects(db_url)\n",
    "\n",
    "class_code = tables[0]\n",
    "descriptor_type = tables[1]\n",
    "device_qualifier_descriptor = tables[2]\n",
    "other_speed_configuration_descriptor = tables[3]\n",
    "request_code = tables[4]\n",
    "standard_configuration_descriptor = tables[5]\n",
    "standard_device_descriptor = tables[6]\n",
    "standard_endpoint_descriptor = tables[7]\n",
    "standard_interface_descriptor = tables[8]\n",
    "string_descriptor_zero = tables[9]\n",
    "unicode_string_descriptor = tables[10]\n",
    "usb_device = tables[11]\n",
    "\n",
    "mapper(ClassCode, class_code)\n",
    "mapper(DescriptorType, descriptor_type)\n",
    "mapper(DeviceQualifierDescriptor, device_qualifier_descriptor)\n",
    "mapper(OtherSpeedConfigurationDescriptor, other_speed_configuration_descriptor)\n",
    "mapper(RequestCode, request_code)\n",
    "mapper(StandardConfigurationDescriptor, standard_configuration_descriptor)\n",
    "mapper(StandardDeviceDescriptor, standard_device_descriptor)\n",
    "mapper(StandardEndpointDescriptor, standard_endpoint_descriptor)\n",
    "mapper(StandardInterfaceDescriptor, standard_interface_descriptor)\n",
    "mapper(StringDescriptorZero, string_descriptor_zero)\n",
    "mapper(UnicodeStringDescriptor, unicode_string_descriptor)\n",
    "mapper(UsbDevice, usb_device)"
   ]
  },
  {
   "cell_type": "markdown",
   "metadata": {},
   "source": [
    "## Truncate tables"
   ]
  },
  {
   "cell_type": "code",
   "execution_count": 6,
   "metadata": {},
   "outputs": [],
   "source": [
    "ModelBuilder._truncate_tables(db_url)"
   ]
  },
  {
   "cell_type": "markdown",
   "metadata": {},
   "source": [
    "## Device"
   ]
  },
  {
   "cell_type": "code",
   "execution_count": 7,
   "metadata": {},
   "outputs": [],
   "source": [
    "idVendor = 0x1b3f\n",
    "idProduct = 0x2008"
   ]
  },
  {
   "cell_type": "code",
   "execution_count": 8,
   "metadata": {},
   "outputs": [],
   "source": [
    "# dev = usb.core.find(idVendor = idVendor, idProduct = idProduct)\n",
    "dev = universal_serial_bus.USBdevice(vid = idVendor, pid = idProduct)\n",
    "# print(dev)"
   ]
  },
  {
   "cell_type": "code",
   "execution_count": 9,
   "metadata": {},
   "outputs": [
    {
     "data": {
      "text/plain": [
       "1"
      ]
     },
     "execution_count": 9,
     "metadata": {},
     "output_type": "execute_result"
    }
   ],
   "source": [
    "usb_device = UsbDevice('GeneralPlus', 'GeneralPlus USB Audio Device')\n",
    "session.add(usb_device)\n",
    "session.commit()\n",
    "usb_device.id"
   ]
  },
  {
   "cell_type": "markdown",
   "metadata": {},
   "source": [
    "## Device descriptor\n",
    "https://www.beyondlogic.org/usbnutshell/usb5.shtml#DeviceDescriptors  "
   ]
  },
  {
   "cell_type": "code",
   "execution_count": 10,
   "metadata": {},
   "outputs": [],
   "source": [
    "bmRequestType = usb.util.build_request_type(CONTROL_REQUEST.DIRECTION.IN, \n",
    "                                            CONTROL_REQUEST.TYPE.STANDARD, \n",
    "                                            CONTROL_REQUEST.RECIPIENT.DEVICE)"
   ]
  },
  {
   "cell_type": "code",
   "execution_count": 11,
   "metadata": {},
   "outputs": [
    {
     "data": {
      "text/plain": [
       "array('B', [18, 1, 16, 1, 0, 0, 0, 8, 63, 27, 8, 32, 0, 1, 1, 2, 0, 1])"
      ]
     },
     "execution_count": 11,
     "metadata": {},
     "output_type": "execute_result"
    }
   ],
   "source": [
    "descriptor = dev.ctrl_transfer(bmRequestType = bmRequestType, \n",
    "                               bRequest = CONTROL_REQUEST.GET_DESCRIPTOR, \n",
    "                               wValue = DESCRIPTOR.TYPE.DEVICE << 8, \n",
    "                               wIndex = 0, \n",
    "                               data_or_wLength = DESCRIPTOR.SIZE.DEVICE)\n",
    "descriptor"
   ]
  },
  {
   "cell_type": "code",
   "execution_count": 12,
   "metadata": {
    "scrolled": false
   },
   "outputs": [
    {
     "data": {
      "text/plain": [
       "1"
      ]
     },
     "execution_count": 12,
     "metadata": {},
     "output_type": "execute_result"
    }
   ],
   "source": [
    "dev_dscrpt = StandardDeviceDescriptor.from_byte_array(descriptor, parent_id = usb_device.id)\n",
    "session.add(dev_dscrpt)\n",
    "session.commit()\n",
    "dev_dscrpt.id"
   ]
  },
  {
   "cell_type": "markdown",
   "metadata": {},
   "source": [
    "## Configuration descriptor\n",
    "https://www.beyondlogic.org/usbnutshell/usb5.shtml#ConfigurationDescriptors  "
   ]
  },
  {
   "cell_type": "code",
   "execution_count": 13,
   "metadata": {},
   "outputs": [
    {
     "data": {
      "text/plain": [
       "array('B', [9, 2, 253, 0, 4, 1, 0, 128, 50])"
      ]
     },
     "execution_count": 13,
     "metadata": {},
     "output_type": "execute_result"
    }
   ],
   "source": [
    "descriptor = dev.ctrl_transfer(bmRequestType = bmRequestType, \n",
    "                               bRequest = CONTROL_REQUEST.GET_DESCRIPTOR, \n",
    "                               wValue = DESCRIPTOR.TYPE.CONFIG << 8, \n",
    "                               wIndex = 0, \n",
    "                               data_or_wLength = DESCRIPTOR.SIZE.CONFIG)\n",
    "descriptor"
   ]
  },
  {
   "cell_type": "code",
   "execution_count": 14,
   "metadata": {
    "scrolled": false
   },
   "outputs": [
    {
     "data": {
      "text/plain": [
       "1"
      ]
     },
     "execution_count": 14,
     "metadata": {},
     "output_type": "execute_result"
    }
   ],
   "source": [
    "# config = StandardConfigurationDescriptor(*(StandardConfigurationDescriptor.get_descriptor_fields_values(descriptor)))\n",
    "config_dscrpt = StandardConfigurationDescriptor.from_byte_array(descriptor, parent_id = dev_dscrpt.id)\n",
    "session.add(config_dscrpt)\n",
    "session.commit()\n",
    "config_dscrpt.id"
   ]
  },
  {
   "cell_type": "markdown",
   "metadata": {},
   "source": [
    "### Host 再一次發送 GetDescriptor(Config類) 的請求\n",
    "完整的長度 = wTotalLength"
   ]
  },
  {
   "cell_type": "code",
   "execution_count": 15,
   "metadata": {},
   "outputs": [],
   "source": [
    "descriptor = dev.ctrl_transfer(bmRequestType = bmRequestType, \n",
    "                         bRequest = CONTROL_REQUEST.GET_DESCRIPTOR, \n",
    "                         wValue = DESCRIPTOR.TYPE.CONFIG << 8, \n",
    "                         wIndex = 0, \n",
    "                         data_or_wLength = descriptor[2])\n",
    "# descriptor"
   ]
  },
  {
   "cell_type": "code",
   "execution_count": 16,
   "metadata": {},
   "outputs": [
    {
     "data": {
      "text/plain": [
       "[array('B', [9, 2, 253, 0, 4, 1, 0, 128, 50]),\n",
       " array('B', [9, 4, 0, 0, 0, 1, 1, 0, 0]),\n",
       " array('B', [10, 36, 1, 0, 1, 100, 0, 2, 1, 2]),\n",
       " array('B', [12, 36, 2, 1, 1, 1, 0, 2, 3, 0, 0, 0]),\n",
       " array('B', [12, 36, 2, 4, 1, 2, 0, 1, 1, 0, 0, 0]),\n",
       " array('B', [9, 36, 3, 3, 1, 3, 0, 6, 0]),\n",
       " array('B', [9, 36, 3, 2, 1, 1, 0, 9, 0]),\n",
       " array('B', [7, 36, 5, 9, 1, 5, 0]),\n",
       " array('B', [10, 36, 6, 6, 8, 1, 1, 2, 2, 0]),\n",
       " array('B', [9, 36, 6, 5, 4, 1, 67, 0, 0]),\n",
       " array('B', [9, 36, 6, 7, 4, 1, 3, 0, 0]),\n",
       " array('B', [13, 36, 4, 8, 2, 1, 7, 2, 3, 0, 0, 0, 0]),\n",
       " array('B', [9, 4, 1, 0, 0, 1, 2, 0, 0]),\n",
       " array('B', [9, 4, 1, 1, 1, 1, 2, 0, 0]),\n",
       " array('B', [7, 36, 1, 1, 1, 1, 0]),\n",
       " array('B', [14, 36, 2, 1, 2, 2, 16, 2, 68, 172, 0, 128, 187, 0]),\n",
       " array('B', [9, 5, 5, 1, 192, 0, 1, 0, 0]),\n",
       " array('B', [7, 37, 1, 1, 0, 0, 0]),\n",
       " array('B', [9, 4, 2, 0, 0, 1, 2, 0, 0]),\n",
       " array('B', [9, 4, 2, 1, 1, 1, 2, 0, 0]),\n",
       " array('B', [7, 36, 1, 2, 1, 1, 0]),\n",
       " array('B', [14, 36, 2, 1, 1, 2, 16, 2, 68, 172, 0, 128, 187, 0]),\n",
       " array('B', [9, 5, 134, 1, 100, 0, 1, 0, 0]),\n",
       " array('B', [7, 37, 1, 1, 0, 0, 0]),\n",
       " array('B', [9, 4, 3, 0, 1, 3, 0, 0, 0]),\n",
       " array('B', [9, 33, 1, 2, 0, 1, 34, 41, 0]),\n",
       " array('B', [7, 5, 131, 3, 8, 0, 32])]"
      ]
     },
     "execution_count": 16,
     "metadata": {},
     "output_type": "execute_result"
    }
   ],
   "source": [
    "descriptors = list(StandardConfigurationDescriptor.split_descriptor(descriptor))\n",
    "descriptors"
   ]
  },
  {
   "cell_type": "code",
   "execution_count": 17,
   "metadata": {},
   "outputs": [
    {
     "data": {
      "text/plain": [
       "27"
      ]
     },
     "execution_count": 17,
     "metadata": {},
     "output_type": "execute_result"
    }
   ],
   "source": [
    "len(descriptors)"
   ]
  },
  {
   "cell_type": "markdown",
   "metadata": {},
   "source": [
    "## Interface descriptor\n",
    "https://www.beyondlogic.org/usbnutshell/usb5.shtml#InterfaceDescriptors  "
   ]
  },
  {
   "cell_type": "code",
   "execution_count": 18,
   "metadata": {},
   "outputs": [],
   "source": [
    "for dscrpt in descriptors:\n",
    "    if dscrpt[1] == 4:\n",
    "        dbo = StandardInterfaceDescriptor.from_byte_array(dscrpt, parent_id = config_dscrpt.id)\n",
    "        session.add(dbo) \n",
    "        \n",
    "session.commit() "
   ]
  },
  {
   "cell_type": "markdown",
   "metadata": {},
   "source": [
    "## Endpoint descriptor\n",
    "https://www.beyondlogic.org/usbnutshell/usb5.shtml#EndpointDescriptors  "
   ]
  },
  {
   "cell_type": "code",
   "execution_count": 19,
   "metadata": {},
   "outputs": [],
   "source": [
    "for dscrpt in descriptors:\n",
    "    if dscrpt[1] == 5: \n",
    "        dbo = StandardEndpointDescriptor.from_byte_array(dscrpt, parent_id = config_dscrpt.id)\n",
    "        session.add(dbo) \n",
    "        \n",
    "session.commit() "
   ]
  },
  {
   "cell_type": "markdown",
   "metadata": {},
   "source": [
    "## String descriptor\n",
    "https://www.beyondlogic.org/usbnutshell/usb5.shtml#StringDescriptors  "
   ]
  },
  {
   "cell_type": "code",
   "execution_count": 20,
   "metadata": {},
   "outputs": [
    {
     "data": {
      "text/plain": [
       "['', 'GeneralPlus', 'USB Audio Device']"
      ]
     },
     "execution_count": 20,
     "metadata": {},
     "output_type": "execute_result"
    }
   ],
   "source": [
    "string_descriptors = dev.get_strings()\n",
    "string_descriptors"
   ]
  },
  {
   "cell_type": "code",
   "execution_count": 21,
   "metadata": {},
   "outputs": [],
   "source": [
    "for i in range(len(string_descriptors)): \n",
    "        if string_descriptors[i] is not None:\n",
    "            string = UnicodeStringDescriptor(len(string_descriptors[i]),\n",
    "                                             UnicodeStringDescriptor.int_to_hex(3), \n",
    "                                             string_descriptors[i], parent_id = usb_device.id)   \n",
    "            session.add(string)\n",
    "        \n",
    "session.commit() "
   ]
  },
  {
   "cell_type": "markdown",
   "metadata": {},
   "source": [
    "## Descriptor types "
   ]
  },
  {
   "cell_type": "code",
   "execution_count": 22,
   "metadata": {},
   "outputs": [],
   "source": [
    "from array import array\n",
    "\n",
    "dataset = [('device', 1), ('configuration', 2), ('string', 3), ('interface', 4), ('endpoint', 5),\n",
    "           ('device_qualifier', 6), ('other_speed_configuration', 7), ('interface_power', 8),\n",
    "           ('OTG', 9), ('debug', 10), ('interface_association', 11)]\n",
    "\n",
    "for row in dataset: \n",
    "    do = DescriptorType(row[0],  \n",
    "                        DescriptorType.int_to_hex(row[1]))\n",
    "    session.add(do)\n",
    "        \n",
    "session.commit() "
   ]
  },
  {
   "cell_type": "markdown",
   "metadata": {},
   "source": [
    "## Class code  \n",
    "https://www.usb.org/defined-class-codes   "
   ]
  },
  {
   "cell_type": "code",
   "execution_count": 23,
   "metadata": {},
   "outputs": [],
   "source": [
    "dataset = [('Use class information in the Interface Descriptors', 'Device', 0), ('Audio', 'Interface', 1),\n",
    "           ('Communications and CDC Control', 'Both', 2), ('HID (Human Interface Device)', 'Interface', 3),\n",
    "           ('Physical', 'Interface', 5), ('Image', 'Interface', 6), ('Printer', 'Interface', 7),\n",
    "           ('Mass Storage', 'Interface', 8), ('Hub', 'Device', 9), ('CDC-Data', 'Interface', 10),\n",
    "           ('Smart Card', 'Interface', 11), ('Content Security', 'Interface', 13), ('Video', 'Interface', 14),\n",
    "           ('Personal Healthcare', 'Interface', 15), ('Audio/Video Devices', 'Interface', 16), \n",
    "           ('Billboard Device Class', 'Device', 17), ('USB Type-C Bridge Class', 'Interface', 18),\n",
    "           ('Diagnostic Device', 'Both', 220), ('Wireless Controller', 'Interface', 224), \n",
    "           ('Miscellaneous', 'Both', 239), ('Application Specific', 'Interface', 254), ('Vendor Specific', 'Both', 255), ]\n",
    "\n",
    "for row in dataset: \n",
    "    do = ClassCode(row[0], row[1], \n",
    "                   DescriptorType.int_to_hex(row[2]))\n",
    "    session.add(do)\n",
    "        \n",
    "session.commit() "
   ]
  },
  {
   "cell_type": "markdown",
   "metadata": {},
   "source": [
    "## Request code  \n",
    "https://www.beyondlogic.org/usbnutshell/usb6.shtml  "
   ]
  },
  {
   "cell_type": "code",
   "execution_count": 24,
   "metadata": {},
   "outputs": [],
   "source": [
    "dataset = [('GET_STATUS', 0), ('CLEAR_FEATURE', 1), ('Reserved for future use', 2), ('SET_FEATURE', 3),\n",
    "           ('Reserved for future use', 4), ('SET_ADDRESS', 5), ('GET_DESCRIPTOR', 6), ('SET_DESCRIPTOR', 7),\n",
    "           ('GET_CONFIGURATION', 8), ('SET_CONFIGURATION', 9), ('GET_INTERFACE', 10), ('SET_INTERFACE', 11), \n",
    "           ('SYNCH_FRAME', 12)]\n",
    "\n",
    "for row in dataset: \n",
    "    do = RequestCode(row[0], \n",
    "                   RequestCode.int_to_hex(row[1]))\n",
    "    session.add(do)\n",
    "        \n",
    "session.commit() "
   ]
  }
 ],
 "metadata": {
  "kernelspec": {
   "display_name": "Python 3",
   "language": "python",
   "name": "python3"
  },
  "language_info": {
   "codemirror_mode": {
    "name": "ipython",
    "version": 3
   },
   "file_extension": ".py",
   "mimetype": "text/x-python",
   "name": "python",
   "nbconvert_exporter": "python",
   "pygments_lexer": "ipython3",
   "version": "3.6.8"
  }
 },
 "nbformat": 4,
 "nbformat_minor": 2
}
