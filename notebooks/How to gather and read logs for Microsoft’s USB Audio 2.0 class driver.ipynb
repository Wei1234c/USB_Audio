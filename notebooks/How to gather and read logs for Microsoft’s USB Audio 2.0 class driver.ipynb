{
 "cells": [
  {
   "cell_type": "markdown",
   "metadata": {},
   "source": [
    "# How to gather and read logs for Microsoft’s USB Audio 2.0 class driver  \n",
    "https://matthewvaneerde.wordpress.com/2017/10/23/how-to-gather-and-read-logs-for-microsofts-usb-audio-2-0-class-driver/  \n",
    "https://blogs.msdn.microsoft.com/matthew_van_eerde/2016/09/15/installing-the-microsoft-class-drivers-for-usb-audio-devices/  "
   ]
  },
  {
   "cell_type": "markdown",
   "metadata": {},
   "source": [
    "### 需安裝\n",
    "\n",
    "```\n",
    "pip install pyusb\n",
    "\n",
    "```\n",
    "\n",
    "### Windows DLL\n",
    "[libusb-win32-devel-filter-1.2.6.0.exe](https://sourceforge.net/projects/libusb-win32/files/libusb-win32-releases/1.2.6.0/)  \n",
    "\n",
    "https://sourceforge.net/projects/libusb-win32/  \n",
    "\n",
    "\n",
    "\n",
    "### Linux 權限\n",
    "https://ubuntuforums.org/showthread.php?t=1682084  \n",
    "https://linuxconfig.org/tutorial-on-how-to-write-basic-udev-rules-in-linux  \n",
    "```\n",
    "If anyone is interested.. fixed with udev rule:\n",
    "\n",
    "cd /etc/udev/rules.d/\n",
    "\n",
    "nano 70-ch341.rules\n",
    "\n",
    "SUBSYSTEM==\"usb\", ATTRS{idVendor}==\"1a86\", GROUP=\"dialout\"\n",
    "SUBSYSTEM==\"usb\", ATTRS{idVendor}==\"1a86\", MODE=\"666\"\n",
    "\n",
    "then reloaded udev rules:\n",
    "\n",
    "$ sudo udevadm control --reload-rules  \n",
    "$ sudo udevadm trigger\n",
    "\n",
    "```"
   ]
  },
  {
   "cell_type": "code",
   "execution_count": 1,
   "metadata": {},
   "outputs": [],
   "source": [
    "import os, sys\n",
    "\n",
    "def gen_relative_path(target_path): \n",
    "    \n",
    "    def del_same_parents(target_path, current_path):\n",
    "        if target_path[0] == current_path[0]:\n",
    "            target_path.pop(0)\n",
    "            current_path.pop(0)\n",
    "            del_same_parents(target_path, current_path)\n",
    "            \n",
    "    current_path = os.getcwd().replace('\\\\', '/').split('/')\n",
    "    target_path = target_path.replace('\\\\', '/').split('/')\n",
    "    del_same_parents(target_path, current_path)\n",
    "    \n",
    "    return ['..'] * len(current_path) + target_path\n",
    "\n",
    "\n",
    "def append_source_relative_path(source_relative_path):\n",
    "    sys.path.append(os.sep.join(source_relative_path))"
   ]
  },
  {
   "cell_type": "code",
   "execution_count": 2,
   "metadata": {},
   "outputs": [],
   "source": [
    "# paths = []\n",
    "# paths = [gen_relative_path(p) for p in paths]\n",
    "# print(paths)"
   ]
  },
  {
   "cell_type": "code",
   "execution_count": 3,
   "metadata": {},
   "outputs": [],
   "source": [
    "paths = [['..', '..', '..', '..', 'Universal Serial Bus', 'bitbucket', 'github', 'codes'], \n",
    "         ['..', '..', '..', '..', 'USB HID', 'bitbucket', 'github', 'codes'],\n",
    "         ['..', '..', '..', '..', '..', 'ORM', 'bitbucket', 'github', 'codes'],\n",
    "         ['..', 'codes']]\n",
    "\n",
    "for path in paths:\n",
    "    append_source_relative_path(path)"
   ]
  },
  {
   "cell_type": "code",
   "execution_count": 4,
   "metadata": {},
   "outputs": [
    {
     "name": "stdout",
     "output_type": "stream",
     "text": [
      "Populating the interactive namespace from numpy and matplotlib\n"
     ]
    }
   ],
   "source": [
    "%pylab inline  \n",
    "\n",
    "from universal_serial_bus import * \n",
    "# from usb_hid.orm.hid111 import HIDdevice \n",
    "from usb_audio.orm import uac20, uac10\n",
    "# dev = uac20.UACdevice(vid = idVendor, pid = idProduct)"
   ]
  },
  {
   "cell_type": "markdown",
   "metadata": {},
   "source": [
    "# Choose devices"
   ]
  },
  {
   "cell_type": "code",
   "execution_count": 5,
   "metadata": {},
   "outputs": [
    {
     "data": {
      "text/plain": [
       "[(1204, 4100)]"
      ]
     },
     "execution_count": 5,
     "metadata": {},
     "output_type": "execute_result"
    }
   ],
   "source": [
    "_, devices = find_all_devices_by_class(DEVICE_CLASS.Audio)\n",
    "devices"
   ]
  },
  {
   "cell_type": "code",
   "execution_count": 6,
   "metadata": {},
   "outputs": [],
   "source": [
    "dev = uac20.UACdevice(1204, 4100)"
   ]
  },
  {
   "cell_type": "code",
   "execution_count": 7,
   "metadata": {},
   "outputs": [
    {
     "data": {
      "text/plain": [
       "[(0, 'StandardDeviceDescriptor'),\n",
       " (1, 'StandardConfigurationDescriptor'),\n",
       " (2, 'StandardInterfaceAssociationDescriptor'),\n",
       " (3, 'StandardAcInterfaceDescriptor'),\n",
       " (4, 'ClassSpecificAcInterfaceHeaderDescriptor'),\n",
       " (5, 'ClockSourceDescriptor'),\n",
       " (6, 'InputTerminalDescriptor'),\n",
       " (7, 'FeatureUnitDescriptor'),\n",
       " (8, 'OutputTerminalDescriptor'),\n",
       " (9, 'InputTerminalDescriptor'),\n",
       " (10, 'FeatureUnitDescriptor'),\n",
       " (11, 'OutputTerminalDescriptor'),\n",
       " (12, 'StandardAcInterruptEndpointDescriptor'),\n",
       " (13, 'StandardAsInterfaceDescriptor'),\n",
       " (14, 'StandardAsInterfaceDescriptor'),\n",
       " (15, 'ClassSpecificAsInterfaceDescriptor'),\n",
       " (16, 'TypeIFormatTypeDescriptor'),\n",
       " (17, 'StandardAsIsochronousAudioDataEndpointDescriptor'),\n",
       " (18, 'ClassSpecificAsIsochronousAudioDataEndpointDescriptor'),\n",
       " (19, 'StandardAsInterfaceDescriptor'),\n",
       " (20, 'StandardAsInterfaceDescriptor'),\n",
       " (21, 'ClassSpecificAsInterfaceDescriptor'),\n",
       " (22, 'TypeIFormatTypeDescriptor'),\n",
       " (23, 'StandardAsIsochronousAudioDataEndpointDescriptor'),\n",
       " (24, 'ClassSpecificAsIsochronousAudioDataEndpointDescriptor')]"
      ]
     },
     "execution_count": 7,
     "metadata": {},
     "output_type": "execute_result"
    }
   ],
   "source": [
    "dev.descriptors_dbos_enum"
   ]
  }
 ],
 "metadata": {
  "kernelspec": {
   "display_name": "Python 3",
   "language": "python",
   "name": "python3"
  },
  "language_info": {
   "codemirror_mode": {
    "name": "ipython",
    "version": 3
   },
   "file_extension": ".py",
   "mimetype": "text/x-python",
   "name": "python",
   "nbconvert_exporter": "python",
   "pygments_lexer": "ipython3",
   "version": "3.6.9"
  }
 },
 "nbformat": 4,
 "nbformat_minor": 2
}
