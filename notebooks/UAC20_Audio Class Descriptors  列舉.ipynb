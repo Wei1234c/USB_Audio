{
 "cells": [
  {
   "cell_type": "markdown",
   "metadata": {},
   "source": [
    "# UAC20_Audio Class Descriptors  列舉"
   ]
  },
  {
   "cell_type": "markdown",
   "metadata": {},
   "source": [
    "### 需安裝\n",
    "\n",
    "```\n",
    "pip install pyusb\n",
    "\n",
    "```\n",
    "\n",
    "### Windows DLL\n",
    "[libusb-win32-devel-filter-1.2.6.0.exe](https://sourceforge.net/projects/libusb-win32/files/libusb-win32-releases/1.2.6.0/)  \n",
    "\n",
    "https://sourceforge.net/projects/libusb-win32/  \n",
    "\n",
    "\n",
    "\n",
    "### Linux 權限\n",
    "https://ubuntuforums.org/showthread.php?t=1682084  \n",
    "https://linuxconfig.org/tutorial-on-how-to-write-basic-udev-rules-in-linux  \n",
    "```\n",
    "If anyone is interested.. fixed with udev rule:\n",
    "\n",
    "cd /etc/udev/rules.d/\n",
    "\n",
    "nano 70-ch341.rules\n",
    "\n",
    "SUBSYSTEM==\"usb\", ATTRS{idVendor}==\"1a86\", GROUP=\"dialout\"\n",
    "SUBSYSTEM==\"usb\", ATTRS{idVendor}==\"1a86\", MODE=\"666\"\n",
    "\n",
    "then reloaded udev rules:\n",
    "\n",
    "$ sudo udevadm control --reload-rules  \n",
    "$ sudo udevadm trigger\n",
    "\n",
    "```"
   ]
  },
  {
   "cell_type": "code",
   "execution_count": 1,
   "metadata": {},
   "outputs": [
    {
     "name": "stdout",
     "output_type": "stream",
     "text": [
      "Populating the interactive namespace from numpy and matplotlib\n"
     ]
    }
   ],
   "source": [
    "%pylab inline  "
   ]
  },
  {
   "cell_type": "code",
   "execution_count": 2,
   "metadata": {},
   "outputs": [],
   "source": [
    "import os\n",
    "import sys\n",
    "sys.path.append(os.path.abspath(os.path.join('..', 'codes')))\n",
    "\n",
    "\n",
    "path = os.sep.join(['..', '..', '..', '..', '..', '待處理', 'Universal Serial Bus', 'bitbucket', 'github', 'codes'])\n",
    "sys.path.append(path) \n",
    "\n",
    "path = os.sep.join(['..', '..', '..', '..', '..', '待處理', 'ORM', 'bitbucket', 'github', 'codes'])\n",
    "sys.path.append(path) \n",
    "\n",
    "import universal_serial_bus\n",
    "from universal_serial_bus import *\n",
    "from universal_serial_bus.orm.usb20 import *\n",
    "from usb_audio.orm.uac20.descriptors import *\n",
    "from usb_audio.orm.uac20.codes import *\n",
    "from usb_audio.orm.uac20.formats.formats import *\n",
    "from usb_audio.orm.uac20.formats.descriptors import *\n",
    "\n",
    "from universal_serial_bus.orm import ModelBuilder, OrmClassBase"
   ]
  },
  {
   "cell_type": "markdown",
   "metadata": {},
   "source": [
    "## USB Codes and Descriptors"
   ]
  },
  {
   "cell_type": "code",
   "execution_count": 3,
   "metadata": {},
   "outputs": [],
   "source": [
    "# db_path = 'C:\\\\Users\\\\Wei\\\\Dropbox\\\\Coding\\\\notebooks\\\\專案\\\\待處理\\\\USB_Audio\\\\bitbucket\\\\github\\\\spec\\\\db\\\\'\n",
    "# db_path = db_path + 'uac_2_0_descriptors.sqlite'\n",
    "# db_url = 'sqlite:///' + db_path \n",
    "# db_url\n",
    "\n",
    "# ModelBuilder.gen_all(db_url, False)"
   ]
  },
  {
   "cell_type": "code",
   "execution_count": 4,
   "metadata": {},
   "outputs": [
    {
     "data": {
      "text/plain": [
       "<Mapper at 0x18e6953a748; UsbDevice>"
      ]
     },
     "execution_count": 4,
     "metadata": {},
     "output_type": "execute_result"
    }
   ],
   "source": [
    "from sqlalchemy.orm import mapper \n",
    "\n",
    "\n",
    "db_path = 'C:\\\\Users\\\\Wei\\\\Dropbox\\\\Coding\\\\notebooks\\\\專案\\\\待處理\\\\USB_Audio\\\\bitbucket\\\\github\\\\spec\\\\db\\\\'\n",
    "db_path = db_path + 'usb_2_0_for_uac.sqlite'\n",
    "db_url = 'sqlite:///' + db_path \n",
    "\n",
    "ModelBuilder._truncate_tables(db_url)\n",
    "_, _, tables, session_usb = ModelBuilder.get_db_objects(db_url)\n",
    "\n",
    "\n",
    "class_code = tables[0]\n",
    "descriptor_type = tables[1]\n",
    "device_qualifier_descriptor = tables[2]\n",
    "other_speed_configuration_descriptor = tables[3]\n",
    "request_code = tables[4]\n",
    "standard_configuration_descriptor = tables[5]\n",
    "standard_device_descriptor = tables[6]\n",
    "standard_endpoint_descriptor = tables[7]\n",
    "standard_interface_descriptor = tables[8]\n",
    "string_descriptor_zero = tables[9]\n",
    "unicode_string_descriptor = tables[10]\n",
    "usb_device = tables[11]\n",
    "\n",
    "mapper(ClassCode, class_code)\n",
    "mapper(DescriptorType, descriptor_type)\n",
    "mapper(DeviceQualifierDescriptor, device_qualifier_descriptor)\n",
    "mapper(OtherSpeedConfigurationDescriptor, other_speed_configuration_descriptor)\n",
    "mapper(RequestCode, request_code)\n",
    "mapper(StandardConfigurationDescriptor, standard_configuration_descriptor)\n",
    "mapper(StandardDeviceDescriptor, standard_device_descriptor)\n",
    "mapper(StandardEndpointDescriptor, standard_endpoint_descriptor)\n",
    "mapper(StandardInterfaceDescriptor, standard_interface_descriptor)\n",
    "mapper(StringDescriptorZero, string_descriptor_zero)\n",
    "mapper(UnicodeStringDescriptor, unicode_string_descriptor)\n",
    "mapper(UsbDevice, usb_device)"
   ]
  },
  {
   "cell_type": "markdown",
   "metadata": {},
   "source": [
    "## Descriptor types "
   ]
  },
  {
   "cell_type": "code",
   "execution_count": 5,
   "metadata": {},
   "outputs": [],
   "source": [
    "from array import array\n",
    "\n",
    "dataset = [('device', 1), ('configuration', 2), ('string', 3), ('interface', 4), ('endpoint', 5),\n",
    "           ('device_qualifier', 6), ('other_speed_configuration', 7), ('interface_power', 8),\n",
    "           ('OTG', 9), ('debug', 10), ('interface_association', 11)]\n",
    "\n",
    "for row in dataset: \n",
    "    do = DescriptorType(row[0],  \n",
    "                        DescriptorType.int_to_hex(row[1]))\n",
    "    session_usb.add(do)\n",
    "        \n",
    "session_usb.commit() "
   ]
  },
  {
   "cell_type": "markdown",
   "metadata": {},
   "source": [
    "## Class code  \n",
    "https://www.usb.org/defined-class-codes   "
   ]
  },
  {
   "cell_type": "code",
   "execution_count": 6,
   "metadata": {},
   "outputs": [],
   "source": [
    "dataset = [('Use class information in the Interface Descriptors', 'Device', 0), ('Audio', 'Interface', 1),\n",
    "           ('Communications and CDC Control', 'Both', 2), ('HID (Human Interface Device)', 'Interface', 3),\n",
    "           ('Physical', 'Interface', 5), ('Image', 'Interface', 6), ('Printer', 'Interface', 7),\n",
    "           ('Mass Storage', 'Interface', 8), ('Hub', 'Device', 9), ('CDC-Data', 'Interface', 10),\n",
    "           ('Smart Card', 'Interface', 11), ('Content Security', 'Interface', 13), ('Video', 'Interface', 14),\n",
    "           ('Personal Healthcare', 'Interface', 15), ('Audio/Video Devices', 'Interface', 16), \n",
    "           ('Billboard Device Class', 'Device', 17), ('USB Type-C Bridge Class', 'Interface', 18),\n",
    "           ('Diagnostic Device', 'Both', 220), ('Wireless Controller', 'Interface', 224), \n",
    "           ('Miscellaneous', 'Both', 239), ('Application Specific', 'Interface', 254), ('Vendor Specific', 'Both', 255), ]\n",
    "\n",
    "for row in dataset: \n",
    "    do = ClassCode(row[0], row[1], \n",
    "                   DescriptorType.int_to_hex(row[2]))\n",
    "    session_usb.add(do)\n",
    "        \n",
    "session_usb.commit() "
   ]
  },
  {
   "cell_type": "markdown",
   "metadata": {},
   "source": [
    "## UAC Descriptors"
   ]
  },
  {
   "cell_type": "code",
   "execution_count": 7,
   "metadata": {},
   "outputs": [
    {
     "data": {
      "text/plain": [
       "<Mapper at 0x18e69809400; WmaDecoderDescriptor>"
      ]
     },
     "execution_count": 7,
     "metadata": {},
     "output_type": "execute_result"
    }
   ],
   "source": [
    "from sqlalchemy import create_engine, MetaData, Table\n",
    "from sqlalchemy.orm import mapper, sessionmaker\n",
    "\n",
    "db_path = 'C:\\\\Users\\\\Wei\\\\Dropbox\\\\Coding\\\\notebooks\\\\專案\\\\待處理\\\\USB_Audio\\\\bitbucket\\\\github\\\\spec\\\\db\\\\'\n",
    "db_path = db_path + 'uac_2_0_descriptors.sqlite'\n",
    "db_url = 'sqlite:///' + db_path \n",
    "\n",
    "ModelBuilder._truncate_tables(db_url)\n",
    "_, _, tables, session_uac_descriptors = ModelBuilder.get_db_objects(db_url)\n",
    "\n",
    "\n",
    "ac_3_decoder_descriptor = tables[0]\n",
    "audio_channel_cluster_descriptor = tables[1]\n",
    "class_specific_ac_interface_header_descriptor = tables[2]\n",
    "class_specific_as_interface_descriptor = tables[3]\n",
    "class_specific_as_isochronous_audio_data_endpoint_descriptor = tables[4]\n",
    "clock_multiplier_descriptor = tables[5]\n",
    "clock_selector_descriptor = tables[6]\n",
    "clock_source_descriptor = tables[7]\n",
    "cluster_control_cur_parameter_block = tables[8]\n",
    "common_part_of_the_effect_unit_descriptor = tables[9]\n",
    "common_part_of_the_processing_unit_descriptor = tables[10]\n",
    "connector_control_cur_parameter_block = tables[11]\n",
    "dolby_prologic_cluster_descriptor = tables[12]\n",
    "dolby_prologic_processing_unit_descriptor = tables[13]\n",
    "dts_decoder_descriptor = tables[14]\n",
    "dynamic_range_compressor_effect_unit_descriptor = tables[15]\n",
    "encoder_descriptor = tables[16]\n",
    "extension_unit_descriptor = tables[17]\n",
    "feature_unit_descriptor = tables[18]\n",
    "four_byte_control_cur_parameter_block = tables[19]\n",
    "four_byte_control_range_parameter_block = tables[20]\n",
    "graphic_equalizer_control_cur_parameter_block = tables[21]\n",
    "graphic_equalizer_control_range_parameter_block = tables[22]\n",
    "high_low_scaling_control_cur_parameter_block = tables[23]\n",
    "high_low_scaling_control_range_parameter_block = tables[24]\n",
    "input_terminal_descriptor = tables[25]\n",
    "left_group_cluster_descriptor = tables[26]\n",
    "mixer_unit_descriptor = tables[27]\n",
    "modulation_delay_effect_unit_descriptor = tables[28]\n",
    "mpeg_decoder_descriptor = tables[29]\n",
    "one_byte_control_cur_parameter_block = tables[30]\n",
    "one_byte_control_range_parameter_block = tables[31]\n",
    "output_terminal_descriptor = tables[32]\n",
    "parametric_equalizer_section_effect_unit_descriptor = tables[33]\n",
    "reverberation_effect_unit_descriptor = tables[34]\n",
    "sampling_rate_converter_unit_descriptor = tables[35]\n",
    "selector_unit_descriptor = tables[36]\n",
    "standard_ac_interface_descriptor = tables[37]\n",
    "standard_ac_interrupt_endpoint_descriptor = tables[38]\n",
    "standard_as_interface_descriptor = tables[39]\n",
    "standard_as_isochronous_audio_data_endpoint_descriptor = tables[40]\n",
    "standard_as_isochronous_feedback_endpoint_descriptor = tables[41]\n",
    "standard_interface_association_descriptor = tables[42]\n",
    "stereo_extender_processing_unit_descriptor = tables[43]\n",
    "two_byte_control_cur_parameter_block = tables[44]\n",
    "two_byte_control_range_parameter_block = tables[45]\n",
    "up_down_mix_processing_unit_descriptor = tables[46]\n",
    "valid_alternate_settings_control_cur_parameter_block = tables[47]\n",
    "wma_decoder_descriptor = tables[48]\n",
    "\n",
    "mapper(Ac3DecoderDescriptor, ac_3_decoder_descriptor)\n",
    "mapper(AudioChannelClusterDescriptor, audio_channel_cluster_descriptor)\n",
    "mapper(ClassSpecificAcInterfaceHeaderDescriptor, class_specific_ac_interface_header_descriptor)\n",
    "mapper(ClassSpecificAsInterfaceDescriptor, class_specific_as_interface_descriptor)\n",
    "mapper(ClassSpecificAsIsochronousAudioDataEndpointDescriptor, class_specific_as_isochronous_audio_data_endpoint_descriptor)\n",
    "mapper(ClockMultiplierDescriptor, clock_multiplier_descriptor)\n",
    "mapper(ClockSelectorDescriptor, clock_selector_descriptor)\n",
    "mapper(ClockSourceDescriptor, clock_source_descriptor)\n",
    "mapper(ClusterControlCurParameterBlock, cluster_control_cur_parameter_block)\n",
    "mapper(CommonPartOfTheEffectUnitDescriptor, common_part_of_the_effect_unit_descriptor)\n",
    "mapper(CommonPartOfTheProcessingUnitDescriptor, common_part_of_the_processing_unit_descriptor)\n",
    "mapper(ConnectorControlCurParameterBlock, connector_control_cur_parameter_block)\n",
    "mapper(DolbyPrologicClusterDescriptor, dolby_prologic_cluster_descriptor)\n",
    "mapper(DolbyPrologicProcessingUnitDescriptor, dolby_prologic_processing_unit_descriptor)\n",
    "mapper(DtsDecoderDescriptor, dts_decoder_descriptor)\n",
    "mapper(DynamicRangeCompressorEffectUnitDescriptor, dynamic_range_compressor_effect_unit_descriptor)\n",
    "mapper(EncoderDescriptor, encoder_descriptor)\n",
    "mapper(ExtensionUnitDescriptor, extension_unit_descriptor)\n",
    "mapper(FeatureUnitDescriptor, feature_unit_descriptor)\n",
    "mapper(FourByteControlCurParameterBlock, four_byte_control_cur_parameter_block)\n",
    "mapper(FourByteControlRangeParameterBlock, four_byte_control_range_parameter_block)\n",
    "mapper(GraphicEqualizerControlCurParameterBlock, graphic_equalizer_control_cur_parameter_block)\n",
    "mapper(GraphicEqualizerControlRangeParameterBlock, graphic_equalizer_control_range_parameter_block)\n",
    "mapper(HighLowScalingControlCurParameterBlock, high_low_scaling_control_cur_parameter_block)\n",
    "mapper(HighLowScalingControlRangeParameterBlock, high_low_scaling_control_range_parameter_block)\n",
    "mapper(InputTerminalDescriptor, input_terminal_descriptor)\n",
    "mapper(LeftGroupClusterDescriptor, left_group_cluster_descriptor)\n",
    "mapper(MixerUnitDescriptor, mixer_unit_descriptor)\n",
    "mapper(ModulationDelayEffectUnitDescriptor, modulation_delay_effect_unit_descriptor)\n",
    "mapper(MpegDecoderDescriptor, mpeg_decoder_descriptor)\n",
    "mapper(OneByteControlCurParameterBlock, one_byte_control_cur_parameter_block)\n",
    "mapper(OneByteControlRangeParameterBlock, one_byte_control_range_parameter_block)\n",
    "mapper(OutputTerminalDescriptor, output_terminal_descriptor)\n",
    "mapper(ParametricEqualizerSectionEffectUnitDescriptor, parametric_equalizer_section_effect_unit_descriptor)\n",
    "mapper(ReverberationEffectUnitDescriptor, reverberation_effect_unit_descriptor)\n",
    "mapper(SamplingRateConverterUnitDescriptor, sampling_rate_converter_unit_descriptor)\n",
    "mapper(SelectorUnitDescriptor, selector_unit_descriptor)\n",
    "mapper(StandardAcInterfaceDescriptor, standard_ac_interface_descriptor)\n",
    "mapper(StandardAcInterruptEndpointDescriptor, standard_ac_interrupt_endpoint_descriptor)\n",
    "mapper(StandardAsInterfaceDescriptor, standard_as_interface_descriptor)\n",
    "mapper(StandardAsIsochronousAudioDataEndpointDescriptor, standard_as_isochronous_audio_data_endpoint_descriptor)\n",
    "mapper(StandardAsIsochronousFeedbackEndpointDescriptor, standard_as_isochronous_feedback_endpoint_descriptor)\n",
    "mapper(StandardInterfaceAssociationDescriptor, standard_interface_association_descriptor)\n",
    "mapper(StereoExtenderProcessingUnitDescriptor, stereo_extender_processing_unit_descriptor)\n",
    "mapper(TwoByteControlCurParameterBlock, two_byte_control_cur_parameter_block)\n",
    "mapper(TwoByteControlRangeParameterBlock, two_byte_control_range_parameter_block)\n",
    "mapper(UpDownMixProcessingUnitDescriptor, up_down_mix_processing_unit_descriptor)\n",
    "mapper(ValidAlternateSettingsControlCurParameterBlock, valid_alternate_settings_control_cur_parameter_block)\n",
    "mapper(WmaDecoderDescriptor, wma_decoder_descriptor)"
   ]
  },
  {
   "cell_type": "markdown",
   "metadata": {},
   "source": [
    "## UAC Codes"
   ]
  },
  {
   "cell_type": "code",
   "execution_count": 8,
   "metadata": {
    "scrolled": false
   },
   "outputs": [],
   "source": [
    "# db_path = 'C:\\\\Users\\\\Wei\\\\Dropbox\\\\Coding\\\\notebooks\\\\專案\\\\待處理\\\\USB_Audio\\\\bitbucket\\\\github\\\\spec\\\\db\\\\'\n",
    "# db_path = db_path + 'uac_2_0_codes.sqlite'\n",
    "# db_url = 'sqlite:///' + db_path \n",
    "\n",
    "# ModelBuilder.gen_all(db_url, False)"
   ]
  },
  {
   "cell_type": "code",
   "execution_count": 9,
   "metadata": {},
   "outputs": [
    {
     "data": {
      "text/plain": [
       "<Mapper at 0x18e69837438; WmaDecoderControlSelector>"
      ]
     },
     "execution_count": 9,
     "metadata": {},
     "output_type": "execute_result"
    }
   ],
   "source": [
    "from sqlalchemy import create_engine, MetaData, Table\n",
    "from sqlalchemy.orm import mapper, sessionmaker\n",
    "\n",
    "db_path = 'C:\\\\Users\\\\Wei\\\\Dropbox\\\\Coding\\\\notebooks\\\\專案\\\\待處理\\\\USB_Audio\\\\bitbucket\\\\github\\\\spec\\\\db\\\\'\n",
    "db_path = db_path + 'uac_2_0_codes.sqlite'\n",
    "db_url = 'sqlite:///' + db_path \n",
    "\n",
    "# ModelBuilder._truncate_tables(db_url)\n",
    "_, _, tables, session_uac_codes = ModelBuilder.get_db_objects(db_url)\n",
    "\n",
    "\n",
    "ac_3_decoder_control_selectors = tables[0]\n",
    "audio_class_specific_ac_interface_descriptor_subtypes = tables[1]\n",
    "audio_class_specific_as_interface_descriptor_subtypes = tables[2]\n",
    "audio_class_specific_descriptor_types = tables[3]\n",
    "audio_class_specific_endpoint_descriptor_subtypes = tables[4]\n",
    "audio_class_specific_request_codes = tables[5]\n",
    "audio_function_category_codes = tables[6]\n",
    "audio_function_class_code = tables[7]\n",
    "audio_function_protocol_codes = tables[8]\n",
    "audio_function_subclass_codes = tables[9]\n",
    "audio_interface_class_code = tables[10]\n",
    "audio_interface_protocol_codes = tables[11]\n",
    "audio_interface_subclass_codes = tables[12]\n",
    "audiostreaming_interface_control_selectors = tables[13]\n",
    "clock_multiplier_control_selectors = tables[14]\n",
    "clock_selector_control_selectors = tables[15]\n",
    "clock_source_control_selectors = tables[16]\n",
    "decoder_type_codes = tables[17]\n",
    "dolby_prologic_processing_unit_control_selectors = tables[18]\n",
    "dts_decoder_control_selectors = tables[19]\n",
    "dynamic_range_compressor_effect_unit_control_selectors = tables[20]\n",
    "effect_unit_effect_types = tables[21]\n",
    "encoder_control_selectors = tables[22]\n",
    "encoder_type_codes = tables[23]\n",
    "endpoint_control_selectors = tables[24]\n",
    "extension_unit_control_selectors = tables[25]\n",
    "feature_unit_control_selectors = tables[26]\n",
    "mixer_control_selectors = tables[27]\n",
    "modulation_delay_effect_unit_control_selectors = tables[28]\n",
    "mpeg_decoder_control_selectors = tables[29]\n",
    "processing_unit_process_types = tables[30]\n",
    "reverberation_effect_unit_control_selectors = tables[31]\n",
    "selector_control_selectors = tables[32]\n",
    "stereo_extender_processing_unit_control_selectors = tables[33]\n",
    "terminal_control_selectors = tables[34]\n",
    "up_down_mix_processing_unit_control_selectors = tables[35]\n",
    "wma_decoder_control_selectors = tables[36]\n",
    "\n",
    "mapper(Ac3DecoderControlSelector, ac_3_decoder_control_selectors)\n",
    "mapper(AudioClassSpecificAcInterfaceDescriptorSubtype, audio_class_specific_ac_interface_descriptor_subtypes)\n",
    "mapper(AudioClassSpecificAsInterfaceDescriptorSubtype, audio_class_specific_as_interface_descriptor_subtypes)\n",
    "mapper(AudioClassSpecificDescriptorType, audio_class_specific_descriptor_types)\n",
    "mapper(AudioClassSpecificEndpointDescriptorSubtype, audio_class_specific_endpoint_descriptor_subtypes)\n",
    "mapper(AudioClassSpecificRequestCode, audio_class_specific_request_codes)\n",
    "mapper(AudioFunctionCategoryCode, audio_function_category_codes)\n",
    "mapper(AudioFunctionClassCode, audio_function_class_code)\n",
    "mapper(AudioFunctionProtocolCode, audio_function_protocol_codes)\n",
    "mapper(AudioFunctionSubclassCode, audio_function_subclass_codes)\n",
    "mapper(AudioInterfaceClassCode, audio_interface_class_code)\n",
    "mapper(AudioInterfaceProtocolCode, audio_interface_protocol_codes)\n",
    "mapper(AudioInterfaceSubclassCode, audio_interface_subclass_codes)\n",
    "mapper(AudiostreamingInterfaceControlSelector, audiostreaming_interface_control_selectors)\n",
    "mapper(ClockMultiplierControlSelector, clock_multiplier_control_selectors)\n",
    "mapper(ClockSelectorControlSelector, clock_selector_control_selectors)\n",
    "mapper(ClockSourceControlSelector, clock_source_control_selectors)\n",
    "mapper(DecoderTypeCode, decoder_type_codes)\n",
    "mapper(DolbyPrologicProcessingUnitControlSelector, dolby_prologic_processing_unit_control_selectors)\n",
    "mapper(DtsDecoderControlSelector, dts_decoder_control_selectors)\n",
    "mapper(DynamicRangeCompressorEffectUnitControlSelector, dynamic_range_compressor_effect_unit_control_selectors)\n",
    "mapper(EffectUnitEffectType, effect_unit_effect_types)\n",
    "mapper(EncoderControlSelector, encoder_control_selectors)\n",
    "mapper(EncoderTypeCode, encoder_type_codes)\n",
    "mapper(EndpointControlSelector, endpoint_control_selectors)\n",
    "mapper(ExtensionUnitControlSelector, extension_unit_control_selectors)\n",
    "mapper(FeatureUnitControlSelector, feature_unit_control_selectors)\n",
    "mapper(MixerControlSelector, mixer_control_selectors)\n",
    "mapper(ModulationDelayEffectUnitControlSelector, modulation_delay_effect_unit_control_selectors)\n",
    "mapper(MpegDecoderControlSelector, mpeg_decoder_control_selectors)\n",
    "mapper(ProcessingUnitProcessType, processing_unit_process_types)\n",
    "mapper(ReverberationEffectUnitControlSelector, reverberation_effect_unit_control_selectors)\n",
    "mapper(SelectorControlSelector, selector_control_selectors)\n",
    "mapper(StereoExtenderProcessingUnitControlSelector, stereo_extender_processing_unit_control_selectors)\n",
    "mapper(TerminalControlSelector, terminal_control_selectors)\n",
    "mapper(UpDownMixProcessingUnitControlSelector, up_down_mix_processing_unit_control_selectors)\n",
    "mapper(WmaDecoderControlSelector, wma_decoder_control_selectors)"
   ]
  },
  {
   "cell_type": "code",
   "execution_count": 10,
   "metadata": {},
   "outputs": [
    {
     "data": {
      "text/plain": [
       "Table('audio_interface_subclass_codes', MetaData(bind=Engine(sqlite:///C:\\Users\\Wei\\Dropbox\\Coding\\notebooks\\專案\\待處理\\USB_Audio\\bitbucket\\github\\spec\\db\\uac_2_0_codes.sqlite)), Column('id', INTEGER(), table=<audio_interface_subclass_codes>, primary_key=True, nullable=False), Column('audio_interface_subclass_code', VARCHAR(), table=<audio_interface_subclass_codes>), Column('value', VARCHAR(), table=<audio_interface_subclass_codes>), schema=None)"
      ]
     },
     "execution_count": 10,
     "metadata": {},
     "output_type": "execute_result"
    }
   ],
   "source": [
    "audio_interface_subclass_codes"
   ]
  },
  {
   "cell_type": "markdown",
   "metadata": {},
   "source": [
    "## UAC Format Type Descriptors"
   ]
  },
  {
   "cell_type": "code",
   "execution_count": 11,
   "metadata": {
    "scrolled": false
   },
   "outputs": [],
   "source": [
    "db_path = 'C:\\\\Users\\\\Wei\\\\Dropbox\\\\Coding\\\\notebooks\\\\專案\\\\待處理\\\\USB_Audio\\\\bitbucket\\\\github\\\\spec\\\\db\\\\'\n",
    "db_path = db_path + 'uac_2_0_data_formats_descriptors.sqlite'\n",
    "db_url = 'sqlite:///' + db_path \n",
    "\n",
    "# ModelBuilder.gen_all(db_url, True)"
   ]
  },
  {
   "cell_type": "code",
   "execution_count": 12,
   "metadata": {},
   "outputs": [
    {
     "data": {
      "text/plain": [
       "<Mapper at 0x18e69928438; TypeIvFormatTypeDescriptor>"
      ]
     },
     "execution_count": 12,
     "metadata": {},
     "output_type": "execute_result"
    }
   ],
   "source": [
    "from sqlalchemy import create_engine, MetaData, Table\n",
    "from sqlalchemy.orm import mapper, sessionmaker\n",
    "\n",
    "db_path = 'C:\\\\Users\\\\Wei\\\\Dropbox\\\\Coding\\\\notebooks\\\\專案\\\\待處理\\\\USB_Audio\\\\bitbucket\\\\github\\\\spec\\\\db\\\\'\n",
    "db_path = db_path + 'uac_2_0_data_formats_descriptors.sqlite'\n",
    "db_url = 'sqlite:///' + db_path \n",
    "\n",
    "ModelBuilder._truncate_tables(db_url)\n",
    "_, _, tables, session_uac_format_descriptors = ModelBuilder.get_db_objects(db_url)\n",
    "\n",
    "\n",
    "extended_type_i_format_type_descriptor = tables[0]\n",
    "extended_type_ii_format_type_descriptor = tables[1]\n",
    "extended_type_iii_format_type_descriptor = tables[2]\n",
    "hi_res_presentation_timestamp_layout = tables[3]\n",
    "type_i_format_type_descriptor = tables[4]\n",
    "type_ii_format_type_descriptor = tables[5]\n",
    "type_iii_format_type_descriptor = tables[6]\n",
    "type_iv_format_type_descriptor = tables[7]\n",
    "\n",
    "mapper(ExtendedTypeIFormatTypeDescriptor, extended_type_i_format_type_descriptor)\n",
    "mapper(ExtendedTypeIiFormatTypeDescriptor, extended_type_ii_format_type_descriptor)\n",
    "mapper(ExtendedTypeIiiFormatTypeDescriptor, extended_type_iii_format_type_descriptor)\n",
    "mapper(HiResPresentationTimestampLayout, hi_res_presentation_timestamp_layout)\n",
    "mapper(TypeIFormatTypeDescriptor, type_i_format_type_descriptor)\n",
    "mapper(TypeIiFormatTypeDescriptor, type_ii_format_type_descriptor)\n",
    "mapper(TypeIiiFormatTypeDescriptor, type_iii_format_type_descriptor)\n",
    "mapper(TypeIvFormatTypeDescriptor, type_iv_format_type_descriptor)"
   ]
  },
  {
   "cell_type": "markdown",
   "metadata": {},
   "source": [
    "## UAC Format Types"
   ]
  },
  {
   "cell_type": "code",
   "execution_count": 13,
   "metadata": {
    "scrolled": false
   },
   "outputs": [],
   "source": [
    "# db_path = 'C:\\\\Users\\\\Wei\\\\Dropbox\\\\Coding\\\\notebooks\\\\專案\\\\待處理\\\\USB_Audio\\\\bitbucket\\\\github\\\\spec\\\\db\\\\'\n",
    "# db_path = db_path + 'uac_2_0_data_formats.sqlite'\n",
    "# db_url = 'sqlite:///' + db_path \n",
    "\n",
    "# ModelBuilder.gen_all(db_url, True)"
   ]
  },
  {
   "cell_type": "code",
   "execution_count": 14,
   "metadata": {},
   "outputs": [
    {
     "data": {
      "text/plain": [
       "<Mapper at 0x18e695aa9b0; SideBandProtocolCode>"
      ]
     },
     "execution_count": 14,
     "metadata": {},
     "output_type": "execute_result"
    }
   ],
   "source": [
    "from sqlalchemy import create_engine, MetaData, Table\n",
    "from sqlalchemy.orm import mapper, sessionmaker\n",
    "\n",
    "db_path = 'C:\\\\Users\\\\Wei\\\\Dropbox\\\\Coding\\\\notebooks\\\\專案\\\\待處理\\\\USB_Audio\\\\bitbucket\\\\github\\\\spec\\\\db\\\\'\n",
    "db_path = db_path + 'uac_2_0_data_formats.sqlite'\n",
    "db_url = 'sqlite:///' + db_path \n",
    "\n",
    "# ModelBuilder._truncate_tables(db_url)\n",
    "_, _, tables, session_uac_formats = ModelBuilder.get_db_objects(db_url)\n",
    "\n",
    "audio_data_format_type_i_bit_allocations = tables[0]\n",
    "audio_data_format_type_ii_bit_allocations = tables[1]\n",
    "audio_data_format_type_iii_bit_allocations = tables[2]\n",
    "audio_data_format_type_iv_bit_allocations = tables[3]\n",
    "format_type_codes = tables[4]\n",
    "side_band_protocol_codes = tables[5]\n",
    "\n",
    "mapper(AudioDataFormatTypeIBitAllocation, audio_data_format_type_i_bit_allocations)\n",
    "mapper(AudioDataFormatTypeIiBitAllocation, audio_data_format_type_ii_bit_allocations)\n",
    "mapper(AudioDataFormatTypeIiiBitAllocation, audio_data_format_type_iii_bit_allocations)\n",
    "mapper(AudioDataFormatTypeIvBitAllocation, audio_data_format_type_iv_bit_allocations)\n",
    "mapper(FormatTypeCode, format_type_codes)\n",
    "mapper(SideBandProtocolCode, side_band_protocol_codes)\n"
   ]
  },
  {
   "cell_type": "markdown",
   "metadata": {},
   "source": [
    "## Device"
   ]
  },
  {
   "cell_type": "code",
   "execution_count": 15,
   "metadata": {},
   "outputs": [],
   "source": [
    "idVendor = 0x1b3f\n",
    "idProduct = 0x2008\n",
    "\n",
    "# dev = usb.core.find(idVendor = idVendor, idProduct = idProduct)\n",
    "dev = universal_serial_bus.USBdevice(vid = idVendor, pid = idProduct)\n",
    "# print(dev)"
   ]
  },
  {
   "cell_type": "code",
   "execution_count": 16,
   "metadata": {},
   "outputs": [
    {
     "data": {
      "text/plain": [
       "1"
      ]
     },
     "execution_count": 16,
     "metadata": {},
     "output_type": "execute_result"
    }
   ],
   "source": [
    "usb_device = UsbDevice('GeneralPlus', 'GeneralPlus USB Audio Device')\n",
    "session_usb.add(usb_device)\n",
    "session_usb.commit()\n",
    "usb_device.id"
   ]
  },
  {
   "cell_type": "markdown",
   "metadata": {},
   "source": [
    "## Device descriptor\n",
    "https://www.beyondlogic.org/usbnutshell/usb5.shtml#DeviceDescriptors  "
   ]
  },
  {
   "cell_type": "code",
   "execution_count": 17,
   "metadata": {},
   "outputs": [],
   "source": [
    "bmRequestType = usb.util.build_request_type(CONTROL_REQUEST.DIRECTION.IN, \n",
    "                                            CONTROL_REQUEST.TYPE.STANDARD, \n",
    "                                            CONTROL_REQUEST.RECIPIENT.DEVICE)"
   ]
  },
  {
   "cell_type": "code",
   "execution_count": 18,
   "metadata": {},
   "outputs": [
    {
     "data": {
      "text/plain": [
       "array('B', [18, 1, 16, 1, 0, 0, 0, 8, 63, 27, 8, 32, 0, 1, 1, 2, 0, 1])"
      ]
     },
     "execution_count": 18,
     "metadata": {},
     "output_type": "execute_result"
    }
   ],
   "source": [
    "descriptor = dev.ctrl_transfer(bmRequestType = bmRequestType, \n",
    "                               bRequest = CONTROL_REQUEST.GET_DESCRIPTOR, \n",
    "                               wValue = DESCRIPTOR.TYPE.DEVICE << 8, \n",
    "                               wIndex = 0, \n",
    "                               data_or_wLength = DESCRIPTOR.SIZE.DEVICE)\n",
    "descriptor"
   ]
  },
  {
   "cell_type": "code",
   "execution_count": 19,
   "metadata": {
    "scrolled": false
   },
   "outputs": [
    {
     "data": {
      "text/plain": [
       "1"
      ]
     },
     "execution_count": 19,
     "metadata": {},
     "output_type": "execute_result"
    }
   ],
   "source": [
    "dev_dscrpt = StandardDeviceDescriptor.from_byte_array(descriptor, parent_id = usb_device.id)\n",
    "session_usb.add(dev_dscrpt)\n",
    "session_usb.commit()\n",
    "dev_dscrpt.id"
   ]
  },
  {
   "cell_type": "markdown",
   "metadata": {},
   "source": [
    "## Configuration descriptor\n",
    "https://www.beyondlogic.org/usbnutshell/usb5.shtml#ConfigurationDescriptors  "
   ]
  },
  {
   "cell_type": "code",
   "execution_count": 20,
   "metadata": {},
   "outputs": [
    {
     "data": {
      "text/plain": [
       "array('B', [9, 2, 253, 0, 4, 1, 0, 128, 50])"
      ]
     },
     "execution_count": 20,
     "metadata": {},
     "output_type": "execute_result"
    }
   ],
   "source": [
    "descriptor = dev.ctrl_transfer(bmRequestType = bmRequestType, \n",
    "                               bRequest = CONTROL_REQUEST.GET_DESCRIPTOR, \n",
    "                               wValue = DESCRIPTOR.TYPE.CONFIG << 8, \n",
    "                               wIndex = 0, \n",
    "                               data_or_wLength = DESCRIPTOR.SIZE.CONFIG)\n",
    "descriptor"
   ]
  },
  {
   "cell_type": "code",
   "execution_count": 21,
   "metadata": {
    "scrolled": false
   },
   "outputs": [
    {
     "data": {
      "text/plain": [
       "1"
      ]
     },
     "execution_count": 21,
     "metadata": {},
     "output_type": "execute_result"
    }
   ],
   "source": [
    "# config = StandardConfigurationDescriptor(*(StandardConfigurationDescriptor.get_descriptor_fields_values(descriptor)))\n",
    "config_dscrpt = StandardConfigurationDescriptor.from_byte_array(descriptor, parent_id = dev_dscrpt.id)\n",
    "session_usb.add(config_dscrpt)\n",
    "session_usb.commit()\n",
    "config_dscrpt.id"
   ]
  },
  {
   "cell_type": "markdown",
   "metadata": {},
   "source": [
    "### Host 再一次發送 GetDescriptor(Config類) 的請求\n",
    "完整的長度 = wTotalLength"
   ]
  },
  {
   "cell_type": "code",
   "execution_count": 22,
   "metadata": {},
   "outputs": [],
   "source": [
    "descriptor = dev.ctrl_transfer(bmRequestType = bmRequestType, \n",
    "                         bRequest = CONTROL_REQUEST.GET_DESCRIPTOR, \n",
    "                         wValue = DESCRIPTOR.TYPE.CONFIG << 8, \n",
    "                         wIndex = 0, \n",
    "                         data_or_wLength = descriptor[2])\n",
    "# descriptor"
   ]
  },
  {
   "cell_type": "markdown",
   "metadata": {},
   "source": [
    "## 所有的 descriptors"
   ]
  },
  {
   "cell_type": "code",
   "execution_count": 23,
   "metadata": {},
   "outputs": [
    {
     "data": {
      "text/plain": [
       "[array('B', [9, 2, 253, 0, 4, 1, 0, 128, 50]),\n",
       " array('B', [9, 4, 0, 0, 0, 1, 1, 0, 0]),\n",
       " array('B', [10, 36, 1, 0, 1, 100, 0, 2, 1, 2]),\n",
       " array('B', [12, 36, 2, 1, 1, 1, 0, 2, 3, 0, 0, 0]),\n",
       " array('B', [12, 36, 2, 4, 1, 2, 0, 1, 1, 0, 0, 0]),\n",
       " array('B', [9, 36, 3, 3, 1, 3, 0, 6, 0]),\n",
       " array('B', [9, 36, 3, 2, 1, 1, 0, 9, 0]),\n",
       " array('B', [7, 36, 5, 9, 1, 5, 0]),\n",
       " array('B', [10, 36, 6, 6, 8, 1, 1, 2, 2, 0]),\n",
       " array('B', [9, 36, 6, 5, 4, 1, 67, 0, 0]),\n",
       " array('B', [9, 36, 6, 7, 4, 1, 3, 0, 0]),\n",
       " array('B', [13, 36, 4, 8, 2, 1, 7, 2, 3, 0, 0, 0, 0]),\n",
       " array('B', [9, 4, 1, 0, 0, 1, 2, 0, 0]),\n",
       " array('B', [9, 4, 1, 1, 1, 1, 2, 0, 0]),\n",
       " array('B', [7, 36, 1, 1, 1, 1, 0]),\n",
       " array('B', [14, 36, 2, 1, 2, 2, 16, 2, 68, 172, 0, 128, 187, 0]),\n",
       " array('B', [9, 5, 5, 1, 192, 0, 1, 0, 0]),\n",
       " array('B', [7, 37, 1, 1, 0, 0, 0]),\n",
       " array('B', [9, 4, 2, 0, 0, 1, 2, 0, 0]),\n",
       " array('B', [9, 4, 2, 1, 1, 1, 2, 0, 0]),\n",
       " array('B', [7, 36, 1, 2, 1, 1, 0]),\n",
       " array('B', [14, 36, 2, 1, 1, 2, 16, 2, 68, 172, 0, 128, 187, 0]),\n",
       " array('B', [9, 5, 134, 1, 100, 0, 1, 0, 0]),\n",
       " array('B', [7, 37, 1, 1, 0, 0, 0]),\n",
       " array('B', [9, 4, 3, 0, 1, 3, 0, 0, 0]),\n",
       " array('B', [9, 33, 1, 2, 0, 1, 34, 41, 0]),\n",
       " array('B', [7, 5, 131, 3, 8, 0, 32])]"
      ]
     },
     "execution_count": 23,
     "metadata": {},
     "output_type": "execute_result"
    }
   ],
   "source": [
    "descriptors = list(StandardConfigurationDescriptor.split_descriptor(descriptor))\n",
    "descriptors"
   ]
  },
  {
   "cell_type": "markdown",
   "metadata": {},
   "source": [
    "## 判斷 descriptors 的種類，並儲存到 db"
   ]
  },
  {
   "cell_type": "code",
   "execution_count": 24,
   "metadata": {},
   "outputs": [],
   "source": [
    "def is_a(descpt, i, code):\n",
    "    return OrmClassBase.int_to_hex(descpt[i]) == code.lower()\n",
    "\n",
    "\n",
    "def get_descriptor_class(dscrpt, intf_type = None): \n",
    "    _class = None\n",
    "    session = None\n",
    "         \n",
    "    if is_a(dscrpt, 1, '02'):  # 如果是 config\n",
    "        _class, session = StandardConfigurationDescriptor, session_usb        \n",
    "     \n",
    "    if is_a(dscrpt, 1, '05'):  # 如果是 endpoint\n",
    "        _class, session = StandardEndpointDescriptor, session_usb\n",
    "        \n",
    "    if is_a(dscrpt, 1, '04'):  # 如果是 interface\n",
    "        \n",
    "        _class, session,  = StandardInterfaceDescriptor, session_usb\n",
    "        \n",
    "        if is_a(dscrpt, 5, '01'):  # 如果是 audio\n",
    "            if is_a(dscrpt, 6, '01'):  # 如果是 AC interface\n",
    "                intf_type =  \"AC\" \n",
    "            if is_a(dscrpt, 6, '02'):  # 如果是 AC interface\n",
    "                intf_type =  \"AS\" \n",
    "                        \n",
    "    if is_a(dscrpt, 1, '24'):  # 如果是 CS_INTERFACE\n",
    "        session = session_uac_descriptors\n",
    "        if intf_type == \"AC\":             \n",
    "            _classes = {'00': None,\n",
    "                        '01': ClassSpecificAcInterfaceHeaderDescriptor,\n",
    "                        '02': InputTerminalDescriptor,\n",
    "                        '03': OutputTerminalDescriptor,\n",
    "                        '04': MixerUnitDescriptor,\n",
    "                        '05': SelectorUnitDescriptor,\n",
    "                        '06': FeatureUnitDescriptor,\n",
    "                        '07': 'EFFECT_UNIT',\n",
    "                        '08': 'PROCESSING_UNIT',\n",
    "                        '09': 'EXTENSION_UNIT',\n",
    "                        '0A': ClockSourceDescriptor,\n",
    "                        '0B': ClockSelectorDescriptor,\n",
    "                        '0C': ClockMultiplierDescriptor,\n",
    "                        '0D': SamplingRateConverterUnitDescriptor}\n",
    "            \n",
    "            code = OrmClassBase.int_to_hex(dscrpt[2])\n",
    "            _class = _classes[code]            \n",
    "            \n",
    "        if intf_type == \"AS\":\n",
    "             \n",
    "            _classes = {'00': None,\n",
    "                        '01': ClassSpecificAsInterfaceDescriptor,\n",
    "                        '02': TypeIFormatTypeDescriptor,\n",
    "                        '03': EncoderDescriptor,\n",
    "                        '04': 'DECODER'}\n",
    "            \n",
    "            code = OrmClassBase.int_to_hex(dscrpt[2])\n",
    "            _class = _classes[code]            \n",
    "            if code == '02': session = session_uac_format_descriptors\n",
    "\n",
    "                        \n",
    "    if is_a(dscrpt, 1, '25'):  # 如果是 CS_ENDPOINT\n",
    "        session = session_uac_descriptors\n",
    "        if intf_type == \"AC\":             \n",
    "            _classes = {'00': None,\n",
    "                        '01': ClassSpecificAcInterfaceHeaderDescriptor,\n",
    "                        '02': InputTerminalDescriptor,\n",
    "                        '03': OutputTerminalDescriptor,\n",
    "                        '04': MixerUnitDescriptor,\n",
    "                        '05': SelectorUnitDescriptor,\n",
    "                        '06': FeatureUnitDescriptor,\n",
    "                        '07': 'EFFECT_UNIT',\n",
    "                        '08': 'PROCESSING_UNIT',\n",
    "                        '09': 'EXTENSION_UNIT',\n",
    "                        '0A': ClockSourceDescriptor,\n",
    "                        '0B': ClockSelectorDescriptor,\n",
    "                        '0C': ClockMultiplierDescriptor,\n",
    "                        '0D': SamplingRateConverterUnitDescriptor}\n",
    "            \n",
    "            code = OrmClassBase.int_to_hex(dscrpt[2])\n",
    "            _class = _classes[code]            \n",
    "            \n",
    "        if intf_type == \"AS\":\n",
    "             \n",
    "            _classes = {'00': None,\n",
    "                        '01': ClassSpecificAsInterfaceDescriptor,\n",
    "                        '02': TypeIFormatTypeDescriptor,\n",
    "                        '03': EncoderDescriptor,\n",
    "                        '04': 'DECODER'}\n",
    "            \n",
    "            code = OrmClassBase.int_to_hex(dscrpt[2])\n",
    "            _class = _classes[code]\n",
    "            if code == '02': session = session_uac_format_descriptors\n",
    "                \n",
    "    return _class, session, intf_type "
   ]
  },
  {
   "cell_type": "code",
   "execution_count": 25,
   "metadata": {
    "scrolled": false
   },
   "outputs": [
    {
     "name": "stdout",
     "output_type": "stream",
     "text": [
      "array('B', [9, 2, 253, 0, 4, 1, 0, 128, 50])\n",
      "<class 'universal_serial_bus.orm.usb20.StandardConfigurationDescriptor'> None\n",
      "array('B', [9, 4, 0, 0, 0, 1, 1, 0, 0])\n",
      "<class 'universal_serial_bus.orm.usb20.StandardInterfaceDescriptor'> AC\n",
      "array('B', [10, 36, 1, 0, 1, 100, 0, 2, 1, 2])\n",
      "<class 'usb_audio.orm.uac20.descriptors.ClassSpecificAcInterfaceHeaderDescriptor'> AC\n",
      "array('B', [12, 36, 2, 1, 1, 1, 0, 2, 3, 0, 0, 0])\n",
      "<class 'usb_audio.orm.uac20.descriptors.InputTerminalDescriptor'> AC\n",
      "array('B', [12, 36, 2, 4, 1, 2, 0, 1, 1, 0, 0, 0])\n",
      "<class 'usb_audio.orm.uac20.descriptors.InputTerminalDescriptor'> AC\n",
      "array('B', [9, 36, 3, 3, 1, 3, 0, 6, 0])\n",
      "<class 'usb_audio.orm.uac20.descriptors.OutputTerminalDescriptor'> AC\n",
      "array('B', [9, 36, 3, 2, 1, 1, 0, 9, 0])\n",
      "<class 'usb_audio.orm.uac20.descriptors.OutputTerminalDescriptor'> AC\n",
      "array('B', [7, 36, 5, 9, 1, 5, 0])\n",
      "<class 'usb_audio.orm.uac20.descriptors.SelectorUnitDescriptor'> AC\n",
      "array('B', [10, 36, 6, 6, 8, 1, 1, 2, 2, 0])\n",
      "<class 'usb_audio.orm.uac20.descriptors.FeatureUnitDescriptor'> AC\n",
      "array('B', [9, 36, 6, 5, 4, 1, 67, 0, 0])\n",
      "<class 'usb_audio.orm.uac20.descriptors.FeatureUnitDescriptor'> AC\n",
      "array('B', [9, 36, 6, 7, 4, 1, 3, 0, 0])\n",
      "<class 'usb_audio.orm.uac20.descriptors.FeatureUnitDescriptor'> AC\n",
      "array('B', [13, 36, 4, 8, 2, 1, 7, 2, 3, 0, 0, 0, 0])\n",
      "<class 'usb_audio.orm.uac20.descriptors.MixerUnitDescriptor'> AC\n",
      "array('B', [9, 4, 1, 0, 0, 1, 2, 0, 0])\n",
      "<class 'universal_serial_bus.orm.usb20.StandardInterfaceDescriptor'> AS\n",
      "array('B', [9, 4, 1, 1, 1, 1, 2, 0, 0])\n",
      "<class 'universal_serial_bus.orm.usb20.StandardInterfaceDescriptor'> AS\n",
      "array('B', [7, 36, 1, 1, 1, 1, 0])\n",
      "<class 'usb_audio.orm.uac20.descriptors.ClassSpecificAsInterfaceDescriptor'> AS\n",
      "array('B', [14, 36, 2, 1, 2, 2, 16, 2, 68, 172, 0, 128, 187, 0])\n",
      "<class 'usb_audio.orm.uac20.formats.descriptors.TypeIFormatTypeDescriptor'> AS\n",
      "array('B', [9, 5, 5, 1, 192, 0, 1, 0, 0])\n",
      "<class 'universal_serial_bus.orm.usb20.StandardEndpointDescriptor'> AS\n",
      "array('B', [7, 37, 1, 1, 0, 0, 0])\n",
      "<class 'usb_audio.orm.uac20.descriptors.ClassSpecificAsInterfaceDescriptor'> AS\n",
      "array('B', [9, 4, 2, 0, 0, 1, 2, 0, 0])\n",
      "<class 'universal_serial_bus.orm.usb20.StandardInterfaceDescriptor'> AS\n",
      "array('B', [9, 4, 2, 1, 1, 1, 2, 0, 0])\n",
      "<class 'universal_serial_bus.orm.usb20.StandardInterfaceDescriptor'> AS\n",
      "array('B', [7, 36, 1, 2, 1, 1, 0])\n",
      "<class 'usb_audio.orm.uac20.descriptors.ClassSpecificAsInterfaceDescriptor'> AS\n",
      "array('B', [14, 36, 2, 1, 1, 2, 16, 2, 68, 172, 0, 128, 187, 0])\n",
      "<class 'usb_audio.orm.uac20.formats.descriptors.TypeIFormatTypeDescriptor'> AS\n",
      "array('B', [9, 5, 134, 1, 100, 0, 1, 0, 0])\n",
      "<class 'universal_serial_bus.orm.usb20.StandardEndpointDescriptor'> AS\n",
      "array('B', [7, 37, 1, 1, 0, 0, 0])\n",
      "<class 'usb_audio.orm.uac20.descriptors.ClassSpecificAsInterfaceDescriptor'> AS\n",
      "array('B', [9, 4, 3, 0, 1, 3, 0, 0, 0])\n",
      "<class 'universal_serial_bus.orm.usb20.StandardInterfaceDescriptor'> AS\n",
      "array('B', [9, 33, 1, 2, 0, 1, 34, 41, 0])\n",
      "None AS\n",
      "array('B', [7, 5, 131, 3, 8, 0, 32])\n",
      "<class 'universal_serial_bus.orm.usb20.StandardEndpointDescriptor'> AS\n"
     ]
    }
   ],
   "source": [
    "intf_type = None\n",
    "\n",
    "for descriptor in descriptors:\n",
    "    _class, session, intf_type = get_descriptor_class(descriptor, intf_type)\n",
    "    \n",
    "    print(descriptor)\n",
    "    print(_class, intf_type)\n",
    "    \n",
    "    if _class is not None:\n",
    "        session.add(_class.from_byte_array(descriptor))\n",
    "        session.commit()"
   ]
  },
  {
   "cell_type": "markdown",
   "metadata": {},
   "source": [
    "## 各種 codes"
   ]
  },
  {
   "cell_type": "code",
   "execution_count": 26,
   "metadata": {
    "scrolled": true
   },
   "outputs": [
    {
     "data": {
      "text/plain": [
       "{'01': 'device',\n",
       " '02': 'configuration',\n",
       " '03': 'string',\n",
       " '04': 'interface',\n",
       " '05': 'endpoint',\n",
       " '06': 'device_qualifier',\n",
       " '07': 'other_speed_configuration',\n",
       " '08': 'interface_power',\n",
       " '09': 'OTG',\n",
       " '0a': 'debug',\n",
       " '0b': 'interface_association'}"
      ]
     },
     "execution_count": 26,
     "metadata": {},
     "output_type": "execute_result"
    }
   ],
   "source": [
    "descriptor_types = DescriptorType.to_dict('bDescriptorType', 'dscrpt_type', session_usb)\n",
    "descriptor_types"
   ]
  },
  {
   "cell_type": "code",
   "execution_count": 27,
   "metadata": {},
   "outputs": [
    {
     "data": {
      "text/plain": [
       "{'00': 'Use class information in the Interface Descriptors',\n",
       " '01': 'Audio',\n",
       " '02': 'Communications and CDC Control',\n",
       " '03': 'HID (Human Interface Device)',\n",
       " '05': 'Physical',\n",
       " '06': 'Image',\n",
       " '07': 'Printer',\n",
       " '08': 'Mass Storage',\n",
       " '09': 'Hub',\n",
       " '0a': 'CDC-Data',\n",
       " '0b': 'Smart Card',\n",
       " '0d': 'Content Security',\n",
       " '0e': 'Video',\n",
       " '0f': 'Personal Healthcare',\n",
       " '10': 'Audio/Video Devices',\n",
       " '11': 'Billboard Device Class',\n",
       " '12': 'USB Type-C Bridge Class',\n",
       " 'dc': 'Diagnostic Device',\n",
       " 'e0': 'Wireless Controller',\n",
       " 'ef': 'Miscellaneous',\n",
       " 'fe': 'Application Specific',\n",
       " 'ff': 'Vendor Specific'}"
      ]
     },
     "execution_count": 27,
     "metadata": {},
     "output_type": "execute_result"
    }
   ],
   "source": [
    "class_codes = ClassCode.to_dict('base_code', 'description', session_usb)\n",
    "class_codes"
   ]
  },
  {
   "cell_type": "code",
   "execution_count": 28,
   "metadata": {},
   "outputs": [
    {
     "data": {
      "text/plain": [
       "{'00': 'INTERFACE_SUBCLASS_UNDEFINED',\n",
       " '01': 'AUDIOCONTROL',\n",
       " '02': 'AUDIOSTREAMING',\n",
       " '03': 'MIDISTREAMING'}"
      ]
     },
     "execution_count": 28,
     "metadata": {},
     "output_type": "execute_result"
    }
   ],
   "source": [
    "uac_subclasses = AudioInterfaceSubclassCode.to_dict('value', 'audio_interface_subclass_code', session_uac_codes)\n",
    "uac_subclasses"
   ]
  },
  {
   "cell_type": "code",
   "execution_count": 29,
   "metadata": {
    "scrolled": true
   },
   "outputs": [
    {
     "data": {
      "text/plain": [
       "{'20': 'CS_UNDEFINED',\n",
       " '21': 'CS_DEVICE',\n",
       " '22': 'CS_CONFIGURATION',\n",
       " '23': 'CS_STRING',\n",
       " '24': 'CS_INTERFACE',\n",
       " '25': 'CS_ENDPOINT'}"
      ]
     },
     "execution_count": 29,
     "metadata": {},
     "output_type": "execute_result"
    }
   ],
   "source": [
    "ac_descriptor_types = AudioClassSpecificDescriptorType.to_dict('value', 'descriptor_type', session_uac_codes)\n",
    "ac_descriptor_types"
   ]
  },
  {
   "cell_type": "code",
   "execution_count": 30,
   "metadata": {},
   "outputs": [
    {
     "data": {
      "text/plain": [
       "{'00': 'AC_DESCRIPTOR_UNDEFINED',\n",
       " '01': 'HEADER',\n",
       " '02': 'INPUT_TERMINAL',\n",
       " '03': 'OUTPUT_TERMINAL',\n",
       " '04': 'MIXER_UNIT',\n",
       " '05': 'SELECTOR_UNIT',\n",
       " '06': 'FEATURE_UNIT',\n",
       " '07': 'EFFECT_UNIT',\n",
       " '08': 'PROCESSING_UNIT',\n",
       " '09': 'EXTENSION_UNIT',\n",
       " '0A': 'CLOCK_SOURCE',\n",
       " '0B': 'CLOCK_SELECTOR',\n",
       " '0C': 'CLOCK_MULTIPLIER',\n",
       " '0D': 'SAMPLE_RATE_CONVERTER'}"
      ]
     },
     "execution_count": 30,
     "metadata": {},
     "output_type": "execute_result"
    }
   ],
   "source": [
    "ac_descriptor_subtypes = AudioClassSpecificAcInterfaceDescriptorSubtype.to_dict('value', 'descriptor_subtype', session_uac_codes)\n",
    "ac_descriptor_subtypes"
   ]
  },
  {
   "cell_type": "code",
   "execution_count": 31,
   "metadata": {
    "scrolled": true
   },
   "outputs": [
    {
     "data": {
      "text/plain": [
       "{'00': 'AS_DESCRIPTOR_UNDEFINED',\n",
       " '01': 'AS_GENERAL',\n",
       " '02': 'FORMAT_TYPE',\n",
       " '03': 'ENCODER',\n",
       " '04': 'DECODER'}"
      ]
     },
     "execution_count": 31,
     "metadata": {},
     "output_type": "execute_result"
    }
   ],
   "source": [
    "as_descriptor_subtypes = \\\n",
    "    AudioClassSpecificAsInterfaceDescriptorSubtype.to_dict('value', 'descriptor_subtype', session_uac_codes)\n",
    "as_descriptor_subtypes"
   ]
  },
  {
   "cell_type": "code",
   "execution_count": 32,
   "metadata": {
    "scrolled": true
   },
   "outputs": [
    {
     "data": {
      "text/plain": [
       "{'00': 'DESCRIPTOR_UNDEFINED', '01': 'EP_GENERAL'}"
      ]
     },
     "execution_count": 32,
     "metadata": {},
     "output_type": "execute_result"
    }
   ],
   "source": [
    "ep_descriptor_subtypes = \\\n",
    "    AudioClassSpecificEndpointDescriptorSubtype.to_dict('value', 'descriptor_subtype', session_uac_codes)\n",
    "ep_descriptor_subtypes"
   ]
  },
  {
   "cell_type": "markdown",
   "metadata": {},
   "source": [
    "## String descriptor\n",
    "https://www.beyondlogic.org/usbnutshell/usb5.shtml#StringDescriptors  "
   ]
  },
  {
   "cell_type": "code",
   "execution_count": 33,
   "metadata": {},
   "outputs": [
    {
     "data": {
      "text/plain": [
       "['', 'GeneralPlus', 'USB Audio Device']"
      ]
     },
     "execution_count": 33,
     "metadata": {},
     "output_type": "execute_result"
    }
   ],
   "source": [
    "string_descriptors = dev.get_strings()\n",
    "string_descriptors"
   ]
  },
  {
   "cell_type": "code",
   "execution_count": 34,
   "metadata": {},
   "outputs": [],
   "source": [
    "for i in range(len(string_descriptors)): \n",
    "        if string_descriptors[i] is not None:\n",
    "            string = UnicodeStringDescriptor(len(string_descriptors[i]),\n",
    "                                             UnicodeStringDescriptor.int_to_hex(3), \n",
    "                                             string_descriptors[i], parent_id = usb_device.id)   \n",
    "            session_usb.add(string)\n",
    "        \n",
    "session_usb.commit() "
   ]
  },
  {
   "cell_type": "markdown",
   "metadata": {},
   "source": [
    "## Request code  \n",
    "https://www.beyondlogic.org/usbnutshell/usb6.shtml  "
   ]
  },
  {
   "cell_type": "code",
   "execution_count": 35,
   "metadata": {},
   "outputs": [],
   "source": [
    "dataset = [('GET_STATUS', 0), ('CLEAR_FEATURE', 1), ('Reserved for future use', 2), ('SET_FEATURE', 3),\n",
    "           ('Reserved for future use', 4), ('SET_ADDRESS', 5), ('GET_DESCRIPTOR', 6), ('SET_DESCRIPTOR', 7),\n",
    "           ('GET_CONFIGURATION', 8), ('SET_CONFIGURATION', 9), ('GET_INTERFACE', 10), ('SET_INTERFACE', 11), \n",
    "           ('SYNCH_FRAME', 12)]\n",
    "\n",
    "for row in dataset: \n",
    "    do = RequestCode(row[0], \n",
    "                   RequestCode.int_to_hex(row[1]))\n",
    "    session_usb.add(do)\n",
    "        \n",
    "session_usb.commit() "
   ]
  }
 ],
 "metadata": {
  "kernelspec": {
   "display_name": "Python 3",
   "language": "python",
   "name": "python3"
  },
  "language_info": {
   "codemirror_mode": {
    "name": "ipython",
    "version": 3
   },
   "file_extension": ".py",
   "mimetype": "text/x-python",
   "name": "python",
   "nbconvert_exporter": "python",
   "pygments_lexer": "ipython3",
   "version": "3.6.8"
  }
 },
 "nbformat": 4,
 "nbformat_minor": 2
}
