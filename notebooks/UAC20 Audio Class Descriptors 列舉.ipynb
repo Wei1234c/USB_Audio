{
 "cells": [
  {
   "cell_type": "markdown",
   "metadata": {},
   "source": [
    "# UAC20 Audio Class Descriptors 列舉"
   ]
  },
  {
   "cell_type": "markdown",
   "metadata": {},
   "source": [
    "### 需安裝\n",
    "\n",
    "```\n",
    "pip install pyusb\n",
    "\n",
    "```\n",
    "\n",
    "### Windows DLL\n",
    "[libusb-win32-devel-filter-1.2.6.0.exe](https://sourceforge.net/projects/libusb-win32/files/libusb-win32-releases/1.2.6.0/)  \n",
    "\n",
    "https://sourceforge.net/projects/libusb-win32/  \n",
    "\n",
    "\n",
    "\n",
    "### Linux 權限\n",
    "https://ubuntuforums.org/showthread.php?t=1682084  \n",
    "https://linuxconfig.org/tutorial-on-how-to-write-basic-udev-rules-in-linux  \n",
    "```\n",
    "If anyone is interested.. fixed with udev rule:\n",
    "\n",
    "cd /etc/udev/rules.d/\n",
    "\n",
    "nano 70-ch341.rules\n",
    "\n",
    "SUBSYSTEM==\"usb\", ATTRS{idVendor}==\"1a86\", GROUP=\"dialout\"\n",
    "SUBSYSTEM==\"usb\", ATTRS{idVendor}==\"1a86\", MODE=\"666\"\n",
    "\n",
    "then reloaded udev rules:\n",
    "\n",
    "$ sudo udevadm control --reload-rules  \n",
    "$ sudo udevadm trigger\n",
    "\n",
    "```"
   ]
  },
  {
   "cell_type": "code",
   "execution_count": 1,
   "metadata": {},
   "outputs": [
    {
     "name": "stdout",
     "output_type": "stream",
     "text": [
      "Populating the interactive namespace from numpy and matplotlib\n"
     ]
    }
   ],
   "source": [
    "%pylab inline  "
   ]
  },
  {
   "cell_type": "code",
   "execution_count": 2,
   "metadata": {},
   "outputs": [],
   "source": [
    "import os\n",
    "import sys\n",
    "sys.path.append(os.path.abspath(os.path.join('..', 'codes')))\n",
    "\n",
    "path = os.sep.join(['..', '..', '..', '..', '..', '..', '待處理', 'USB', 'Universal Serial Bus', 'bitbucket', 'github', 'codes'])\n",
    "sys.path.append(path) \n",
    "\n",
    "path = os.sep.join(['..', '..', '..', '..', '..', '..', '待處理', 'ORM', 'bitbucket', 'github', 'codes'])\n",
    "sys.path.append(path) \n",
    " \n",
    "import universal_serial_bus\n",
    "from universal_serial_bus import *\n",
    "from universal_serial_bus.orm import ModelBuilder\n",
    "from usb_audio.orm.uac20 import UACdevice"
   ]
  },
  {
   "cell_type": "markdown",
   "metadata": {},
   "source": [
    "## USB Descriptors"
   ]
  },
  {
   "cell_type": "code",
   "execution_count": 3,
   "metadata": {},
   "outputs": [],
   "source": [
    "from universal_serial_bus.orm.usb20.descriptors import * \n",
    "\n",
    "db_path = 'C:\\\\Users\\\\Wei\\\\Dropbox\\\\Coding\\\\notebooks\\\\專案\\\\待處理\\\\USB\\\\Universal Serial Bus\\\\bitbucket\\\\github\\\\spec\\\\usb20\\\\'\n",
    "db_path = db_path + 'usb_2_0_descriptors.sqlite'\n",
    "db_url = 'sqlite:///' + db_path  \n",
    "\n",
    "ModelBuilder._truncate_tables(db_url) \n",
    "_, _, tables, session_usb_descriptors = map_db_objects(db_url)"
   ]
  },
  {
   "cell_type": "markdown",
   "metadata": {},
   "source": [
    "## USB Codes"
   ]
  },
  {
   "cell_type": "code",
   "execution_count": 4,
   "metadata": {},
   "outputs": [],
   "source": [
    "from universal_serial_bus.orm.usb20.codes import * \n",
    "\n",
    "db_path = 'C:\\\\Users\\\\Wei\\\\Dropbox\\\\Coding\\\\notebooks\\\\專案\\\\待處理\\\\USB\\\\Universal Serial Bus\\\\bitbucket\\\\github\\\\spec\\\\usb20\\\\'\n",
    "db_path = db_path + 'usb_2_0_codes.sqlite'\n",
    "db_url = 'sqlite:///' + db_path  \n",
    "\n",
    "# ModelBuilder._truncate_tables(db_url) \n",
    "_, _, tables, session_usb_codes = map_db_objects(db_url)"
   ]
  },
  {
   "cell_type": "markdown",
   "metadata": {},
   "source": [
    "## UAC Descriptors"
   ]
  },
  {
   "cell_type": "code",
   "execution_count": 5,
   "metadata": {
    "scrolled": false
   },
   "outputs": [],
   "source": [
    "from usb_audio.orm.uac20.descriptors import *\n",
    "import usb_audio\n",
    "\n",
    "db_path = 'C:\\\\Users\\\\Wei\\\\Dropbox\\\\Coding\\\\notebooks\\\\專案\\\\待處理\\\\USB\\\\USB Audio\\\\bitbucket\\\\github\\\\spec\\\\uac20\\\\'\n",
    "db_path = db_path + 'uac_2_0_descriptors.sqlite'\n",
    "db_url = 'sqlite:///' + db_path \n",
    "\n",
    "ModelBuilder._truncate_tables(db_url)\n",
    "_, _, tables, session_uac_descriptors = map_db_objects(db_url)"
   ]
  },
  {
   "cell_type": "code",
   "execution_count": 6,
   "metadata": {},
   "outputs": [
    {
     "data": {
      "text/plain": [
       "'__main__'"
      ]
     },
     "execution_count": 6,
     "metadata": {},
     "output_type": "execute_result"
    }
   ],
   "source": [
    "__name__"
   ]
  },
  {
   "cell_type": "code",
   "execution_count": 7,
   "metadata": {
    "scrolled": false
   },
   "outputs": [],
   "source": [
    "# ModelBuilder.gen_all(db_url, True)"
   ]
  },
  {
   "cell_type": "markdown",
   "metadata": {},
   "source": [
    "## UAC Codes"
   ]
  },
  {
   "cell_type": "code",
   "execution_count": 8,
   "metadata": {},
   "outputs": [],
   "source": [
    "from usb_audio.orm.uac20.codes import *\n",
    "\n",
    "db_path = 'C:\\\\Users\\\\Wei\\\\Dropbox\\\\Coding\\\\notebooks\\\\專案\\\\待處理\\\\USB\\\\USB Audio\\\\bitbucket\\\\github\\\\spec\\\\uac20\\\\'\n",
    "db_path = db_path + 'uac_2_0_codes.sqlite'\n",
    "db_url = 'sqlite:///' + db_path \n",
    "\n",
    "_, _, tables, session_uac_codes = map_db_objects(db_url)"
   ]
  },
  {
   "cell_type": "code",
   "execution_count": 9,
   "metadata": {},
   "outputs": [],
   "source": [
    "# ModelBuilder.gen_all(db_url, True)"
   ]
  },
  {
   "cell_type": "markdown",
   "metadata": {},
   "source": [
    "## UAC Format Type Descriptors"
   ]
  },
  {
   "cell_type": "code",
   "execution_count": 10,
   "metadata": {},
   "outputs": [],
   "source": [
    "from usb_audio.orm.uac20.formats.descriptors import *\n",
    "\n",
    "db_path = 'C:\\\\Users\\\\Wei\\\\Dropbox\\\\Coding\\\\notebooks\\\\專案\\\\待處理\\\\USB\\\\USB Audio\\\\bitbucket\\\\github\\\\spec\\\\uac20\\\\'\n",
    "db_path = db_path + 'uac_2_0_data_formats_descriptors.sqlite'\n",
    "db_url = 'sqlite:///' + db_path \n",
    "\n",
    "ModelBuilder._truncate_tables(db_url)\n",
    "_, _, tables, session_uac_format_descriptors = map_db_objects(db_url)"
   ]
  },
  {
   "cell_type": "code",
   "execution_count": 11,
   "metadata": {
    "scrolled": false
   },
   "outputs": [],
   "source": [
    "# ModelBuilder.gen_all(db_url, True)"
   ]
  },
  {
   "cell_type": "markdown",
   "metadata": {},
   "source": [
    "## UAC Format Types"
   ]
  },
  {
   "cell_type": "code",
   "execution_count": 12,
   "metadata": {},
   "outputs": [],
   "source": [
    "from usb_audio.orm.uac20.formats.formats import *\n",
    "\n",
    "db_path = 'C:\\\\Users\\\\Wei\\\\Dropbox\\\\Coding\\\\notebooks\\\\專案\\\\待處理\\\\USB\\\\USB Audio\\\\bitbucket\\\\github\\\\spec\\\\uac20\\\\'\n",
    "db_path = db_path + 'uac_2_0_data_formats.sqlite'\n",
    "db_url = 'sqlite:///' + db_path \n",
    "\n",
    "_, _, tables, session_uac_formats = map_db_objects(db_url)"
   ]
  },
  {
   "cell_type": "code",
   "execution_count": 13,
   "metadata": {},
   "outputs": [],
   "source": [
    "# ModelBuilder.gen_all(db_url, True)"
   ]
  },
  {
   "cell_type": "markdown",
   "metadata": {},
   "source": [
    "## UAC Terminal Types"
   ]
  },
  {
   "cell_type": "code",
   "execution_count": 14,
   "metadata": {},
   "outputs": [],
   "source": [
    "from usb_audio.orm.uac20.terminals import *\n",
    "\n",
    "db_path = 'C:\\\\Users\\\\Wei\\\\Dropbox\\\\Coding\\\\notebooks\\\\專案\\\\待處理\\\\USB\\\\USB Audio\\\\bitbucket\\\\github\\\\spec\\\\uac20\\\\'\n",
    "db_path = db_path + 'uac_2_0_terminal_types.sqlite'\n",
    "db_url = 'sqlite:///' + db_path \n",
    "\n",
    "_, _, tables, session_uac_terminal_types = map_db_objects(db_url)"
   ]
  },
  {
   "cell_type": "code",
   "execution_count": 15,
   "metadata": {},
   "outputs": [],
   "source": [
    "# ModelBuilder.gen_all(db_url, True)"
   ]
  },
  {
   "cell_type": "markdown",
   "metadata": {},
   "source": [
    "## Devices"
   ]
  },
  {
   "cell_type": "code",
   "execution_count": 16,
   "metadata": {},
   "outputs": [
    {
     "data": {
      "text/plain": [
       "[(6975, 8199)]"
      ]
     },
     "execution_count": 16,
     "metadata": {},
     "output_type": "execute_result"
    }
   ],
   "source": [
    "devices, devices_ids = find_all_devices_by_class(DEVICE_CLASS.Audio)\n",
    "devices_ids"
   ]
  },
  {
   "cell_type": "markdown",
   "metadata": {},
   "source": [
    "## Device"
   ]
  },
  {
   "cell_type": "code",
   "execution_count": 17,
   "metadata": {},
   "outputs": [],
   "source": [
    "# idVendor = 0x1b3f\n",
    "# idProduct = 0x2008\n",
    "\n",
    "idVendor, idProduct = devices_ids[0]\n",
    "\n",
    "usb_device = UACdevice(vid = idVendor, pid = idProduct)\n",
    "usb_device.id = 1\n",
    "# print(dev)"
   ]
  },
  {
   "cell_type": "markdown",
   "metadata": {},
   "source": [
    "## Device descriptor\n",
    "https://www.beyondlogic.org/usbnutshell/usb5.shtml#DeviceDescriptors  "
   ]
  },
  {
   "cell_type": "code",
   "execution_count": 18,
   "metadata": {},
   "outputs": [],
   "source": [
    "bmRequestType = usb.util.build_request_type(CONTROL_REQUEST.DIRECTION.IN, \n",
    "                                            CONTROL_REQUEST.TYPE.STANDARD, \n",
    "                                            CONTROL_REQUEST.RECIPIENT.DEVICE)"
   ]
  },
  {
   "cell_type": "code",
   "execution_count": 19,
   "metadata": {},
   "outputs": [
    {
     "data": {
      "text/plain": [
       "array('B', [18, 1, 16, 1, 0, 0, 0, 8, 63, 27, 7, 32, 0, 1, 1, 2, 0, 1])"
      ]
     },
     "execution_count": 19,
     "metadata": {},
     "output_type": "execute_result"
    }
   ],
   "source": [
    "descriptor = usb_device.ctrl_transfer(bmRequestType = bmRequestType, \n",
    "                                      bRequest = CONTROL_REQUEST.GET_DESCRIPTOR, \n",
    "                                      wValue = DESCRIPTOR.TYPE.DEVICE << 8, \n",
    "                                      wIndex = 0, \n",
    "                                      data_or_wLength = DESCRIPTOR.SIZE.DEVICE)\n",
    "descriptor"
   ]
  },
  {
   "cell_type": "code",
   "execution_count": 20,
   "metadata": {
    "scrolled": false
   },
   "outputs": [
    {
     "data": {
      "text/plain": [
       "1"
      ]
     },
     "execution_count": 20,
     "metadata": {},
     "output_type": "execute_result"
    }
   ],
   "source": [
    "dev_dscrpt = StandardDeviceDescriptor.from_byte_array(descriptor, parent_id = usb_device.id)\n",
    "session_usb_descriptors.add(dev_dscrpt)\n",
    "session_usb_descriptors.commit()\n",
    "dev_dscrpt.id"
   ]
  },
  {
   "cell_type": "markdown",
   "metadata": {},
   "source": [
    "## Configuration descriptor\n",
    "https://www.beyondlogic.org/usbnutshell/usb5.shtml#ConfigurationDescriptors  "
   ]
  },
  {
   "cell_type": "code",
   "execution_count": 21,
   "metadata": {},
   "outputs": [
    {
     "data": {
      "text/plain": [
       "array('B', [9, 2, 253, 0, 4, 1, 0, 128, 50])"
      ]
     },
     "execution_count": 21,
     "metadata": {},
     "output_type": "execute_result"
    }
   ],
   "source": [
    "descriptor = usb_device.ctrl_transfer(bmRequestType = bmRequestType, \n",
    "                                      bRequest = CONTROL_REQUEST.GET_DESCRIPTOR, \n",
    "                                      wValue = DESCRIPTOR.TYPE.CONFIG << 8, \n",
    "                                      wIndex = 0, \n",
    "                                      data_or_wLength = DESCRIPTOR.SIZE.CONFIG)\n",
    "descriptor"
   ]
  },
  {
   "cell_type": "code",
   "execution_count": 22,
   "metadata": {
    "scrolled": false
   },
   "outputs": [
    {
     "data": {
      "text/plain": [
       "1"
      ]
     },
     "execution_count": 22,
     "metadata": {},
     "output_type": "execute_result"
    }
   ],
   "source": [
    "# config = StandardConfigurationDescriptor(*(StandardConfigurationDescriptor.get_descriptor_fields_values(descriptor)))\n",
    "config_dscrpt = StandardConfigurationDescriptor.from_byte_array(descriptor, parent_id = dev_dscrpt.id)\n",
    "session_usb_descriptors.add(config_dscrpt)\n",
    "session_usb_descriptors.commit()\n",
    "config_dscrpt.id"
   ]
  },
  {
   "cell_type": "markdown",
   "metadata": {},
   "source": [
    "### Host 再一次發送 GetDescriptor(Config類) 的請求\n",
    "完整的長度 = wTotalLength"
   ]
  },
  {
   "cell_type": "code",
   "execution_count": 23,
   "metadata": {},
   "outputs": [
    {
     "data": {
      "text/plain": [
       "array('B', [9, 2, 253, 0, 4, 1, 0, 128, 50, 9, 4, 0, 0, 0, 1, 1, 0, 0, 10, 36, 1, 0, 1, 100, 0, 2, 1, 2, 12, 36, 2, 1, 1, 1, 0, 2, 3, 0, 0, 0, 12, 36, 2, 4, 1, 2, 0, 1, 1, 0, 0, 0, 9, 36, 3, 3, 1, 3, 0, 6, 0, 9, 36, 3, 2, 1, 1, 0, 9, 0, 7, 36, 5, 9, 1, 5, 0, 10, 36, 6, 6, 8, 1, 1, 2, 2, 0, 9, 36, 6, 5, 4, 1, 67, 0, 0, 9, 36, 6, 7, 4, 1, 3, 0, 0, 13, 36, 4, 8, 2, 1, 7, 2, 3, 0, 0, 0, 0, 9, 4, 1, 0, 0, 1, 2, 0, 0, 9, 4, 1, 1, 1, 1, 2, 0, 0, 7, 36, 1, 1, 1, 1, 0, 14, 36, 2, 1, 2, 2, 16, 2, 68, 172, 0, 128, 187, 0, 9, 5, 5, 1, 192, 0, 1, 0, 0, 7, 37, 1, 1, 0, 0, 0, 9, 4, 2, 0, 0, 1, 2, 0, 0, 9, 4, 2, 1, 1, 1, 2, 0, 0, 7, 36, 1, 2, 1, 1, 0, 14, 36, 2, 1, 1, 2, 16, 2, 68, 172, 0, 128, 187, 0, 9, 5, 134, 1, 100, 0, 1, 0, 0, 7, 37, 1, 1, 0, 0, 0, 9, 4, 3, 0, 1, 3, 0, 0, 0, 9, 33, 1, 2, 0, 1, 34, 39, 0, 7, 5, 131, 3, 8, 0, 32])"
      ]
     },
     "execution_count": 23,
     "metadata": {},
     "output_type": "execute_result"
    }
   ],
   "source": [
    "descriptor = usb_device.ctrl_transfer(bmRequestType = bmRequestType, \n",
    "                                      bRequest = CONTROL_REQUEST.GET_DESCRIPTOR, \n",
    "                                      wValue = DESCRIPTOR.TYPE.CONFIG << 8, \n",
    "                                      wIndex = 0, \n",
    "                                      data_or_wLength = descriptor[2])\n",
    "descriptor"
   ]
  },
  {
   "cell_type": "code",
   "execution_count": 24,
   "metadata": {
    "scrolled": false
   },
   "outputs": [
    {
     "data": {
      "text/plain": [
       "array('B', [18, 1, 16, 1, 0, 0, 0, 8, 63, 27, 7, 32, 0, 1, 1, 2, 0, 1, 9, 2, 253, 0, 4, 1, 0, 128, 50, 9, 4, 0, 0, 0, 1, 1, 0, 0, 10, 36, 1, 0, 1, 100, 0, 2, 1, 12, 36, 2, 1, 1, 1, 0, 2, 3, 0, 0, 0, 12, 36, 2, 4, 1, 2, 0, 1, 1, 0, 0, 0, 9, 36, 3, 3, 1, 3, 0, 6, 0, 9, 36, 3, 2, 1, 1, 0, 9, 0, 7, 36, 5, 9, 1, 5, 0, 10, 36, 6, 6, 8, 1, 1, 2, 2, 0, 9, 36, 6, 5, 4, 1, 67, 0, 0, 9, 36, 6, 7, 4, 1, 3, 0, 0, 13, 36, 4, 8, 2, 1, 7, 2, 3, 0, 0, 0, 0, 9, 4, 1, 0, 0, 1, 2, 0, 0, 9, 4, 1, 1, 1, 1, 2, 0, 0, 7, 36, 1, 1, 1, 1, 0, 14, 36, 2, 1, 2, 2, 9, 5, 5, 1, 192, 0, 1, 7, 37, 1, 1, 0, 0, 0, 9, 4, 2, 0, 0, 1, 2, 0, 0, 9, 4, 2, 1, 1, 1, 2, 0, 0, 7, 36, 1, 2, 1, 1, 0, 14, 36, 2, 1, 1, 2, 9, 5, 134, 1, 100, 0, 1, 7, 37, 1, 1, 0, 0, 0, 9, 4, 3, 0, 1, 3, 0, 0, 0, 7, 5, 131, 3, 8, 0, 32])"
      ]
     },
     "execution_count": 24,
     "metadata": {},
     "output_type": "execute_result"
    }
   ],
   "source": [
    "OrmClassBase.concate_byte_arrays(usb_device.descriptors_dbos)"
   ]
  },
  {
   "cell_type": "markdown",
   "metadata": {},
   "source": [
    "## 所有的 descriptors"
   ]
  },
  {
   "cell_type": "code",
   "execution_count": 25,
   "metadata": {},
   "outputs": [
    {
     "data": {
      "text/plain": [
       "[array('B', [9, 2, 253, 0, 4, 1, 0, 128, 50]),\n",
       " array('B', [9, 4, 0, 0, 0, 1, 1, 0, 0]),\n",
       " array('B', [10, 36, 1, 0, 1, 100, 0, 2, 1, 2]),\n",
       " array('B', [12, 36, 2, 1, 1, 1, 0, 2, 3, 0, 0, 0]),\n",
       " array('B', [12, 36, 2, 4, 1, 2, 0, 1, 1, 0, 0, 0]),\n",
       " array('B', [9, 36, 3, 3, 1, 3, 0, 6, 0]),\n",
       " array('B', [9, 36, 3, 2, 1, 1, 0, 9, 0]),\n",
       " array('B', [7, 36, 5, 9, 1, 5, 0]),\n",
       " array('B', [10, 36, 6, 6, 8, 1, 1, 2, 2, 0]),\n",
       " array('B', [9, 36, 6, 5, 4, 1, 67, 0, 0]),\n",
       " array('B', [9, 36, 6, 7, 4, 1, 3, 0, 0]),\n",
       " array('B', [13, 36, 4, 8, 2, 1, 7, 2, 3, 0, 0, 0, 0]),\n",
       " array('B', [9, 4, 1, 0, 0, 1, 2, 0, 0]),\n",
       " array('B', [9, 4, 1, 1, 1, 1, 2, 0, 0]),\n",
       " array('B', [7, 36, 1, 1, 1, 1, 0]),\n",
       " array('B', [14, 36, 2, 1, 2, 2, 16, 2, 68, 172, 0, 128, 187, 0]),\n",
       " array('B', [9, 5, 5, 1, 192, 0, 1, 0, 0]),\n",
       " array('B', [7, 37, 1, 1, 0, 0, 0]),\n",
       " array('B', [9, 4, 2, 0, 0, 1, 2, 0, 0]),\n",
       " array('B', [9, 4, 2, 1, 1, 1, 2, 0, 0]),\n",
       " array('B', [7, 36, 1, 2, 1, 1, 0]),\n",
       " array('B', [14, 36, 2, 1, 1, 2, 16, 2, 68, 172, 0, 128, 187, 0]),\n",
       " array('B', [9, 5, 134, 1, 100, 0, 1, 0, 0]),\n",
       " array('B', [7, 37, 1, 1, 0, 0, 0]),\n",
       " array('B', [9, 4, 3, 0, 1, 3, 0, 0, 0]),\n",
       " array('B', [9, 33, 1, 2, 0, 1, 34, 39, 0]),\n",
       " array('B', [7, 5, 131, 3, 8, 0, 32])]"
      ]
     },
     "execution_count": 25,
     "metadata": {},
     "output_type": "execute_result"
    }
   ],
   "source": [
    "descriptors = usb_device.descriptors_from_config\n",
    "descriptors"
   ]
  },
  {
   "cell_type": "code",
   "execution_count": 26,
   "metadata": {},
   "outputs": [
    {
     "data": {
      "text/plain": [
       "[<universal_serial_bus.orm.usb20.descriptors.StandardDeviceDescriptor at 0x1af6e89f2e8>,\n",
       " <universal_serial_bus.orm.usb20.descriptors.StandardConfigurationDescriptor at 0x1af6e7fa3c8>,\n",
       " <universal_serial_bus.orm.usb20.descriptors.StandardInterfaceDescriptor at 0x1af6e805240>,\n",
       " <usb_audio.orm.uac20.descriptors.ClassSpecificAcInterfaceHeaderDescriptor at 0x1af6e805128>,\n",
       " <usb_audio.orm.uac20.descriptors.InputTerminalDescriptor at 0x1af6e83c630>,\n",
       " <usb_audio.orm.uac20.descriptors.InputTerminalDescriptor at 0x1af6e83c400>,\n",
       " <usb_audio.orm.uac20.descriptors.OutputTerminalDescriptor at 0x1af6e83cf60>,\n",
       " <usb_audio.orm.uac20.descriptors.OutputTerminalDescriptor at 0x1af6e979588>,\n",
       " <usb_audio.orm.uac20.descriptors.SelectorUnitDescriptor at 0x1af6e967240>,\n",
       " <usb_audio.orm.uac20.descriptors.FeatureUnitDescriptor at 0x1af6e967d68>,\n",
       " <usb_audio.orm.uac20.descriptors.FeatureUnitDescriptor at 0x1af6e82eac8>,\n",
       " <usb_audio.orm.uac20.descriptors.FeatureUnitDescriptor at 0x1af6e82e0f0>,\n",
       " <usb_audio.orm.uac20.descriptors.MixerUnitDescriptor at 0x1af6e825438>,\n",
       " <universal_serial_bus.orm.usb20.descriptors.StandardInterfaceDescriptor at 0x1af6e8c54a8>,\n",
       " <universal_serial_bus.orm.usb20.descriptors.StandardInterfaceDescriptor at 0x1af6e8c5668>,\n",
       " <usb_audio.orm.uac20.descriptors.ClassSpecificAsInterfaceDescriptor at 0x1af6e8c5390>,\n",
       " <usb_audio.orm.uac20.formats.descriptors.TypeIFormatTypeDescriptor at 0x1af6e8ca9e8>,\n",
       " <usb_audio.orm.uac20.descriptors.StandardAsIsochronousAudioDataEndpointDescriptor at 0x1af6e8ca400>,\n",
       " <usb_audio.orm.uac20.descriptors.ClassSpecificAsIsochronousAudioDataEndpointDescriptor at 0x1af6e8d48d0>,\n",
       " <universal_serial_bus.orm.usb20.descriptors.StandardInterfaceDescriptor at 0x1af6e8d41d0>,\n",
       " <universal_serial_bus.orm.usb20.descriptors.StandardInterfaceDescriptor at 0x1af6e8d4240>,\n",
       " <usb_audio.orm.uac20.descriptors.ClassSpecificAsInterfaceDescriptor at 0x1af6e8d4940>,\n",
       " <usb_audio.orm.uac20.formats.descriptors.TypeIFormatTypeDescriptor at 0x1af6e8e09e8>,\n",
       " <usb_audio.orm.uac20.descriptors.StandardAsIsochronousAudioDataEndpointDescriptor at 0x1af6e8e0080>,\n",
       " <usb_audio.orm.uac20.descriptors.ClassSpecificAsIsochronousAudioDataEndpointDescriptor at 0x1af6e8e0128>,\n",
       " <universal_serial_bus.orm.usb20.descriptors.StandardInterfaceDescriptor at 0x1af6e8c2be0>,\n",
       " <universal_serial_bus.orm.usb20.descriptors.StandardEndpointDescriptor at 0x1af6e8d8ef0>]"
      ]
     },
     "execution_count": 26,
     "metadata": {},
     "output_type": "execute_result"
    }
   ],
   "source": [
    "usb_device.descriptors_dbos"
   ]
  },
  {
   "cell_type": "code",
   "execution_count": 27,
   "metadata": {
    "scrolled": false
   },
   "outputs": [
    {
     "data": {
      "text/plain": [
       "[{'StandardDeviceDescriptor': {'parent_id': None,\n",
       "   'bLength': '12',\n",
       "   'bDescriptorType': '01',\n",
       "   'bcdUSB': '1001',\n",
       "   'bDeviceClass': '00',\n",
       "   'bDeviceSubClass': '00',\n",
       "   'bDeviceProtocol': '00',\n",
       "   'bMaxPacketSize0': '08',\n",
       "   'idVendor': '3f1b',\n",
       "   'idProduct': '0720',\n",
       "   'bcdDevice': '0001',\n",
       "   'iManufacturer': '01',\n",
       "   'iProduct': '02',\n",
       "   'iSerialNumber': '00',\n",
       "   'bNumConfigurations': '01'}},\n",
       " {'StandardConfigurationDescriptor': {'parent_id': None,\n",
       "   'bLength': '09',\n",
       "   'bDescriptorType': '02',\n",
       "   'wTotalLength': 'fd00',\n",
       "   'bNumInterfaces': '04',\n",
       "   'bConfigurationValue': '01',\n",
       "   'iConfiguration': '00',\n",
       "   'bmAttributes': '80',\n",
       "   'bMaxPower': '32'}},\n",
       " {'StandardInterfaceDescriptor': {'parent_id': None,\n",
       "   'bLength': '09',\n",
       "   'bDescriptorType': '04',\n",
       "   'bInterfaceNumber': '00',\n",
       "   'bAlternateSetting': '00',\n",
       "   'bNumEndpoints': '00',\n",
       "   'bInterfaceClass': '01',\n",
       "   'bInterfaceSubClass': '01',\n",
       "   'bInterfaceProtocol': '00',\n",
       "   'iInterface': '00'}},\n",
       " {'ClassSpecificAcInterfaceHeaderDescriptor': {'parent_id': None,\n",
       "   'bLength': '0a',\n",
       "   'bDescriptorType': '24',\n",
       "   'bDescriptorSubtype': '01',\n",
       "   'bcdADC': '0001',\n",
       "   'bCategory': '64',\n",
       "   'wTotalLength': '0002',\n",
       "   'bmControls': '01'}},\n",
       " {'InputTerminalDescriptor': {'parent_id': None,\n",
       "   'bLength': '0c',\n",
       "   'bDescriptorType': '24',\n",
       "   'bDescriptorSubtype': '02',\n",
       "   'bTerminalID': '01',\n",
       "   'wTerminalType': '0101',\n",
       "   'bAssocTerminal': '00',\n",
       "   'bCSourceID': '02',\n",
       "   'bNrChannels': '03',\n",
       "   'bmChannelConfig': '000000',\n",
       "   'iChannelNames': '',\n",
       "   'bmControls': '',\n",
       "   'iTerminal': ''}},\n",
       " {'InputTerminalDescriptor': {'parent_id': None,\n",
       "   'bLength': '0c',\n",
       "   'bDescriptorType': '24',\n",
       "   'bDescriptorSubtype': '02',\n",
       "   'bTerminalID': '04',\n",
       "   'wTerminalType': '0102',\n",
       "   'bAssocTerminal': '00',\n",
       "   'bCSourceID': '01',\n",
       "   'bNrChannels': '01',\n",
       "   'bmChannelConfig': '000000',\n",
       "   'iChannelNames': '',\n",
       "   'bmControls': '',\n",
       "   'iTerminal': ''}},\n",
       " {'OutputTerminalDescriptor': {'parent_id': None,\n",
       "   'bLength': '09',\n",
       "   'bDescriptorType': '24',\n",
       "   'bDescriptorSubtype': '03',\n",
       "   'bTerminalID': '03',\n",
       "   'wTerminalType': '0103',\n",
       "   'bAssocTerminal': '00',\n",
       "   'bSourceID': '06',\n",
       "   'bCSourceID': '00',\n",
       "   'bmControls': '',\n",
       "   'iTerminal': ''}},\n",
       " {'OutputTerminalDescriptor': {'parent_id': None,\n",
       "   'bLength': '09',\n",
       "   'bDescriptorType': '24',\n",
       "   'bDescriptorSubtype': '03',\n",
       "   'bTerminalID': '02',\n",
       "   'wTerminalType': '0101',\n",
       "   'bAssocTerminal': '00',\n",
       "   'bSourceID': '09',\n",
       "   'bCSourceID': '00',\n",
       "   'bmControls': '',\n",
       "   'iTerminal': ''}},\n",
       " {'SelectorUnitDescriptor': {'parent_id': None,\n",
       "   'bLength': '07',\n",
       "   'bDescriptorType': '24',\n",
       "   'bDescriptorSubtype': '05',\n",
       "   'bUnitID': '09',\n",
       "   'bNrInPins': '01',\n",
       "   'baSourceID_1_': '05',\n",
       "   'baSourceID__p_': '00',\n",
       "   'bmControls': '',\n",
       "   'iSelector': ''}},\n",
       " {'FeatureUnitDescriptor': {'parent_id': None,\n",
       "   'bLength': '0a',\n",
       "   'bDescriptorType': '24',\n",
       "   'bDescriptorSubtype': '06',\n",
       "   'bUnitID': '06',\n",
       "   'bSourceID': '08',\n",
       "   'bmaControls_0_': '01010202',\n",
       "   'bmaControls_1_': '00',\n",
       "   'bmaControls_ch_': '',\n",
       "   'iFeature': ''}},\n",
       " {'FeatureUnitDescriptor': {'parent_id': None,\n",
       "   'bLength': '09',\n",
       "   'bDescriptorType': '24',\n",
       "   'bDescriptorSubtype': '06',\n",
       "   'bUnitID': '05',\n",
       "   'bSourceID': '04',\n",
       "   'bmaControls_0_': '01430000',\n",
       "   'bmaControls_1_': '',\n",
       "   'bmaControls_ch_': '',\n",
       "   'iFeature': ''}},\n",
       " {'FeatureUnitDescriptor': {'parent_id': None,\n",
       "   'bLength': '09',\n",
       "   'bDescriptorType': '24',\n",
       "   'bDescriptorSubtype': '06',\n",
       "   'bUnitID': '07',\n",
       "   'bSourceID': '04',\n",
       "   'bmaControls_0_': '01030000',\n",
       "   'bmaControls_1_': '',\n",
       "   'bmaControls_ch_': '',\n",
       "   'iFeature': ''}},\n",
       " {'MixerUnitDescriptor': {'parent_id': None,\n",
       "   'bLength': '0d',\n",
       "   'bDescriptorType': '24',\n",
       "   'bDescriptorSubtype': '04',\n",
       "   'bUnitID': '08',\n",
       "   'bNrInPins': '02',\n",
       "   'baSourceID_1_': '01',\n",
       "   'baSourceID__p_': '07',\n",
       "   'bNrChannels': '02',\n",
       "   'bmChannelConfig': '03000000',\n",
       "   'iChannelNames': '00',\n",
       "   'bmMixerControls': '',\n",
       "   'bmControls': '',\n",
       "   'iMixer': ''}},\n",
       " {'StandardInterfaceDescriptor': {'parent_id': None,\n",
       "   'bLength': '09',\n",
       "   'bDescriptorType': '04',\n",
       "   'bInterfaceNumber': '01',\n",
       "   'bAlternateSetting': '00',\n",
       "   'bNumEndpoints': '00',\n",
       "   'bInterfaceClass': '01',\n",
       "   'bInterfaceSubClass': '02',\n",
       "   'bInterfaceProtocol': '00',\n",
       "   'iInterface': '00'}},\n",
       " {'StandardInterfaceDescriptor': {'parent_id': None,\n",
       "   'bLength': '09',\n",
       "   'bDescriptorType': '04',\n",
       "   'bInterfaceNumber': '01',\n",
       "   'bAlternateSetting': '01',\n",
       "   'bNumEndpoints': '01',\n",
       "   'bInterfaceClass': '01',\n",
       "   'bInterfaceSubClass': '02',\n",
       "   'bInterfaceProtocol': '00',\n",
       "   'iInterface': '00'}},\n",
       " {'ClassSpecificAsInterfaceDescriptor': {'parent_id': None,\n",
       "   'bLength': '07',\n",
       "   'bDescriptorType': '24',\n",
       "   'bDescriptorSubtype': '01',\n",
       "   'bTerminalLink': '01',\n",
       "   'bmControls': '01',\n",
       "   'bFormatType': '01',\n",
       "   'bmFormats': '00',\n",
       "   'bNrChannels': '',\n",
       "   'bmChannelConfig': '',\n",
       "   'iChannelNames': ''}},\n",
       " {'TypeIFormatTypeDescriptor': {'parent_id': None,\n",
       "   'bLength': '0e',\n",
       "   'bDescriptorType': '24',\n",
       "   'bDescriptorSubtype': '02',\n",
       "   'bFormatType': '01',\n",
       "   'bSubslotSize': '02',\n",
       "   'bBitResolution': '02'}},\n",
       " {'StandardAsIsochronousAudioDataEndpointDescriptor': {'parent_id': None,\n",
       "   'bLength': '09',\n",
       "   'bDescriptorType': '05',\n",
       "   'bEndpointAddress': '05',\n",
       "   'bmAttributes': '01',\n",
       "   'wMaxPacketSize': 'c000',\n",
       "   'bInterval': '01'}},\n",
       " {'ClassSpecificAsIsochronousAudioDataEndpointDescriptor': {'parent_id': None,\n",
       "   'bLength': '07',\n",
       "   'bDescriptorType': '25',\n",
       "   'bDescriptorSubtype': '01',\n",
       "   'bmAttributes': '01',\n",
       "   'bmControls': '00',\n",
       "   'bLockDelayUnits': '00',\n",
       "   'wLockDelay': '00'}},\n",
       " {'StandardInterfaceDescriptor': {'parent_id': None,\n",
       "   'bLength': '09',\n",
       "   'bDescriptorType': '04',\n",
       "   'bInterfaceNumber': '02',\n",
       "   'bAlternateSetting': '00',\n",
       "   'bNumEndpoints': '00',\n",
       "   'bInterfaceClass': '01',\n",
       "   'bInterfaceSubClass': '02',\n",
       "   'bInterfaceProtocol': '00',\n",
       "   'iInterface': '00'}},\n",
       " {'StandardInterfaceDescriptor': {'parent_id': None,\n",
       "   'bLength': '09',\n",
       "   'bDescriptorType': '04',\n",
       "   'bInterfaceNumber': '02',\n",
       "   'bAlternateSetting': '01',\n",
       "   'bNumEndpoints': '01',\n",
       "   'bInterfaceClass': '01',\n",
       "   'bInterfaceSubClass': '02',\n",
       "   'bInterfaceProtocol': '00',\n",
       "   'iInterface': '00'}},\n",
       " {'ClassSpecificAsInterfaceDescriptor': {'parent_id': None,\n",
       "   'bLength': '07',\n",
       "   'bDescriptorType': '24',\n",
       "   'bDescriptorSubtype': '01',\n",
       "   'bTerminalLink': '02',\n",
       "   'bmControls': '01',\n",
       "   'bFormatType': '01',\n",
       "   'bmFormats': '00',\n",
       "   'bNrChannels': '',\n",
       "   'bmChannelConfig': '',\n",
       "   'iChannelNames': ''}},\n",
       " {'TypeIFormatTypeDescriptor': {'parent_id': None,\n",
       "   'bLength': '0e',\n",
       "   'bDescriptorType': '24',\n",
       "   'bDescriptorSubtype': '02',\n",
       "   'bFormatType': '01',\n",
       "   'bSubslotSize': '01',\n",
       "   'bBitResolution': '02'}},\n",
       " {'StandardAsIsochronousAudioDataEndpointDescriptor': {'parent_id': None,\n",
       "   'bLength': '09',\n",
       "   'bDescriptorType': '05',\n",
       "   'bEndpointAddress': '86',\n",
       "   'bmAttributes': '01',\n",
       "   'wMaxPacketSize': '6400',\n",
       "   'bInterval': '01'}},\n",
       " {'ClassSpecificAsIsochronousAudioDataEndpointDescriptor': {'parent_id': None,\n",
       "   'bLength': '07',\n",
       "   'bDescriptorType': '25',\n",
       "   'bDescriptorSubtype': '01',\n",
       "   'bmAttributes': '01',\n",
       "   'bmControls': '00',\n",
       "   'bLockDelayUnits': '00',\n",
       "   'wLockDelay': '00'}},\n",
       " {'StandardInterfaceDescriptor': {'parent_id': None,\n",
       "   'bLength': '09',\n",
       "   'bDescriptorType': '04',\n",
       "   'bInterfaceNumber': '03',\n",
       "   'bAlternateSetting': '00',\n",
       "   'bNumEndpoints': '01',\n",
       "   'bInterfaceClass': '03',\n",
       "   'bInterfaceSubClass': '00',\n",
       "   'bInterfaceProtocol': '00',\n",
       "   'iInterface': '00'}},\n",
       " {'StandardEndpointDescriptor': {'parent_id': None,\n",
       "   'bLength': '07',\n",
       "   'bDescriptorType': '05',\n",
       "   'bEndpointAddress': '83',\n",
       "   'bmAttributes': '03',\n",
       "   'wMaxPacketSize': '0800',\n",
       "   'bInterval': '20'}}]"
      ]
     },
     "execution_count": 27,
     "metadata": {},
     "output_type": "execute_result"
    }
   ],
   "source": [
    "usb_device.descriptors_dbos_and_attributes "
   ]
  },
  {
   "cell_type": "markdown",
   "metadata": {},
   "source": [
    "## 判斷 descriptors 的種類，並儲存到 db"
   ]
  },
  {
   "cell_type": "code",
   "execution_count": 28,
   "metadata": {},
   "outputs": [],
   "source": [
    "def is_a(descpt, i, code):\n",
    "    return OrmClassBase.int_eq_hex(descpt[i], code)\n",
    "\n",
    " \n",
    "def get_descriptor_class(dscrpt, intf_type = None): \n",
    "    _class = None\n",
    "    session = None\n",
    "         \n",
    "    if is_a(dscrpt, 1, '02'):  # 如果是 config\n",
    "        _class = StandardConfigurationDescriptor  \n",
    "        session = session_usb_descriptors    \n",
    "     \n",
    "    if is_a(dscrpt, 1, '05'):  # 如果是 endpoint\n",
    "        if intf_type == \"HID\":\n",
    "            _class = StandardEndpointDescriptor\n",
    "            session = session_usb_descriptors \n",
    "        \n",
    "        if intf_type == \"AS\":\n",
    "            _class = StandardAsIsochronousAudioDataEndpointDescriptor\n",
    "            session = session_uac_descriptors\n",
    "\n",
    "    if is_a(dscrpt, 1, '04'):  # 如果是 interface\n",
    "        \n",
    "        _class = StandardInterfaceDescriptor      \n",
    "        session = session_usb_descriptors    \n",
    "        \n",
    "        if is_a(dscrpt, 5, '03'):  # 如果是 HID\n",
    "            intf_type =  \"HID\" \n",
    "                \n",
    "        if is_a(dscrpt, 5, '01'):  # 如果是 audio\n",
    "            if is_a(dscrpt, 6, '01'):  # 如果是 AC interface\n",
    "                intf_type =  \"AC\" \n",
    "            if is_a(dscrpt, 6, '02'):  # 如果是 AC interface\n",
    "                intf_type =  \"AS\" \n",
    "                        \n",
    "    if is_a(dscrpt, 1, '24'):  # 如果是 CS_INTERFACE\n",
    "        session = session_uac_descriptors\n",
    "        if intf_type == \"AC\":             \n",
    "            _classes = {'00': None,\n",
    "                        '01': ClassSpecificAcInterfaceHeaderDescriptor,\n",
    "                        '02': InputTerminalDescriptor,\n",
    "                        '03': OutputTerminalDescriptor,\n",
    "                        '04': MixerUnitDescriptor,\n",
    "                        '05': SelectorUnitDescriptor,\n",
    "                        '06': FeatureUnitDescriptor,\n",
    "                        '07': 'EFFECT_UNIT',\n",
    "                        '08': 'PROCESSING_UNIT',\n",
    "                        '09': ExtensionUnitDescriptor,\n",
    "                        '0A': ClockSourceDescriptor,\n",
    "                        '0B': ClockSelectorDescriptor,\n",
    "                        '0C': ClockMultiplierDescriptor,\n",
    "                        '0D': SamplingRateConverterUnitDescriptor}\n",
    "            \n",
    "            code = OrmClassBase.int_to_hex(dscrpt[2])\n",
    "            _class = _classes[code]            \n",
    "            \n",
    "        if intf_type == \"AS\":\n",
    "             \n",
    "            _classes = {'00': None,\n",
    "                        '01': ClassSpecificAsInterfaceDescriptor,\n",
    "                        '02': TypeIFormatTypeDescriptor,\n",
    "                        '03': EncoderDescriptor,\n",
    "                        '04': 'DECODER'}\n",
    "            \n",
    "            code = OrmClassBase.int_to_hex(dscrpt[2])\n",
    "            _class = _classes[code]            \n",
    "            if code == '02': session = session_uac_format_descriptors\n",
    "\n",
    "                        \n",
    "    if is_a(dscrpt, 1, '25'):  # 如果是 CS_ENDPOINT\n",
    "        session = session_uac_descriptors\n",
    "        if intf_type == \"AC\":  \n",
    "            pass    \n",
    "            \n",
    "        if intf_type == \"AS\":             \n",
    "            _classes = {'00': None,\n",
    "                        '01': ClassSpecificAsIsochronousAudioDataEndpointDescriptor}\n",
    "            \n",
    "            code = OrmClassBase.int_to_hex(dscrpt[2])\n",
    "            _class = _classes[code]\n",
    "            if code == '02': session = session_uac_format_descriptors\n",
    "                \n",
    "    return _class, session, intf_type "
   ]
  },
  {
   "cell_type": "code",
   "execution_count": 29,
   "metadata": {
    "scrolled": false
   },
   "outputs": [
    {
     "name": "stdout",
     "output_type": "stream",
     "text": [
      "\n",
      "0\n",
      "<class 'universal_serial_bus.orm.usb20.descriptors.StandardConfigurationDescriptor'> None\n",
      "array('B', [9, 2, 253, 0, 4, 1, 0, 128, 50])\n",
      "array('B', [9, 2, 253, 0, 4, 1, 0, 128, 50])\n",
      "\n",
      "1\n",
      "<class 'universal_serial_bus.orm.usb20.descriptors.StandardInterfaceDescriptor'> AC\n",
      "array('B', [9, 4, 0, 0, 0, 1, 1, 0, 0])\n",
      "array('B', [9, 4, 0, 0, 0, 1, 1, 0, 0])\n",
      "\n",
      "2\n",
      "<class 'usb_audio.orm.uac20.descriptors.ClassSpecificAcInterfaceHeaderDescriptor'> AC\n",
      "array('B', [10, 36, 1, 0, 1, 100, 0, 2, 1, 2])\n",
      "array('B', [10, 36, 1, 0, 1, 100, 0, 2, 1])\n",
      "\n",
      "3\n",
      "<class 'usb_audio.orm.uac20.descriptors.InputTerminalDescriptor'> AC\n",
      "array('B', [12, 36, 2, 1, 1, 1, 0, 2, 3, 0, 0, 0])\n",
      "array('B', [12, 36, 2, 1, 1, 1, 0, 2, 3, 0, 0, 0])\n",
      "\n",
      "4\n",
      "<class 'usb_audio.orm.uac20.descriptors.InputTerminalDescriptor'> AC\n",
      "array('B', [12, 36, 2, 4, 1, 2, 0, 1, 1, 0, 0, 0])\n",
      "array('B', [12, 36, 2, 4, 1, 2, 0, 1, 1, 0, 0, 0])\n",
      "\n",
      "5\n",
      "<class 'usb_audio.orm.uac20.descriptors.OutputTerminalDescriptor'> AC\n",
      "array('B', [9, 36, 3, 3, 1, 3, 0, 6, 0])\n",
      "array('B', [9, 36, 3, 3, 1, 3, 0, 6, 0])\n",
      "\n",
      "6\n",
      "<class 'usb_audio.orm.uac20.descriptors.OutputTerminalDescriptor'> AC\n",
      "array('B', [9, 36, 3, 2, 1, 1, 0, 9, 0])\n",
      "array('B', [9, 36, 3, 2, 1, 1, 0, 9, 0])\n",
      "\n",
      "7\n",
      "<class 'usb_audio.orm.uac20.descriptors.SelectorUnitDescriptor'> AC\n",
      "array('B', [7, 36, 5, 9, 1, 5, 0])\n",
      "array('B', [7, 36, 5, 9, 1, 5, 0])\n",
      "\n",
      "8\n",
      "<class 'usb_audio.orm.uac20.descriptors.FeatureUnitDescriptor'> AC\n",
      "array('B', [10, 36, 6, 6, 8, 1, 1, 2, 2, 0])\n",
      "array('B', [10, 36, 6, 6, 8, 1, 1, 2, 2, 0])\n",
      "\n",
      "9\n",
      "<class 'usb_audio.orm.uac20.descriptors.FeatureUnitDescriptor'> AC\n",
      "array('B', [9, 36, 6, 5, 4, 1, 67, 0, 0])\n",
      "array('B', [9, 36, 6, 5, 4, 1, 67, 0, 0])\n",
      "\n",
      "10\n",
      "<class 'usb_audio.orm.uac20.descriptors.FeatureUnitDescriptor'> AC\n",
      "array('B', [9, 36, 6, 7, 4, 1, 3, 0, 0])\n",
      "array('B', [9, 36, 6, 7, 4, 1, 3, 0, 0])\n",
      "\n",
      "11\n",
      "<class 'usb_audio.orm.uac20.descriptors.MixerUnitDescriptor'> AC\n",
      "array('B', [13, 36, 4, 8, 2, 1, 7, 2, 3, 0, 0, 0, 0])\n",
      "array('B', [13, 36, 4, 8, 2, 1, 7, 2, 3, 0, 0, 0, 0])\n",
      "\n",
      "12\n",
      "<class 'universal_serial_bus.orm.usb20.descriptors.StandardInterfaceDescriptor'> AS\n",
      "array('B', [9, 4, 1, 0, 0, 1, 2, 0, 0])\n",
      "array('B', [9, 4, 1, 0, 0, 1, 2, 0, 0])\n",
      "\n",
      "13\n",
      "<class 'universal_serial_bus.orm.usb20.descriptors.StandardInterfaceDescriptor'> AS\n",
      "array('B', [9, 4, 1, 1, 1, 1, 2, 0, 0])\n",
      "array('B', [9, 4, 1, 1, 1, 1, 2, 0, 0])\n",
      "\n",
      "14\n",
      "<class 'usb_audio.orm.uac20.descriptors.ClassSpecificAsInterfaceDescriptor'> AS\n",
      "array('B', [7, 36, 1, 1, 1, 1, 0])\n",
      "array('B', [7, 36, 1, 1, 1, 1, 0])\n",
      "\n",
      "15\n",
      "<class 'usb_audio.orm.uac20.formats.descriptors.TypeIFormatTypeDescriptor'> AS\n",
      "array('B', [14, 36, 2, 1, 2, 2, 16, 2, 68, 172, 0, 128, 187, 0])\n",
      "array('B', [14, 36, 2, 1, 2, 2])\n",
      "\n",
      "16\n",
      "<class 'usb_audio.orm.uac20.descriptors.StandardAsIsochronousAudioDataEndpointDescriptor'> AS\n",
      "array('B', [9, 5, 5, 1, 192, 0, 1, 0, 0])\n",
      "array('B', [9, 5, 5, 1, 192, 0, 1])\n",
      "\n",
      "17\n",
      "<class 'usb_audio.orm.uac20.descriptors.ClassSpecificAsIsochronousAudioDataEndpointDescriptor'> AS\n",
      "array('B', [7, 37, 1, 1, 0, 0, 0])\n",
      "array('B', [7, 37, 1, 1, 0, 0, 0])\n",
      "\n",
      "18\n",
      "<class 'universal_serial_bus.orm.usb20.descriptors.StandardInterfaceDescriptor'> AS\n",
      "array('B', [9, 4, 2, 0, 0, 1, 2, 0, 0])\n",
      "array('B', [9, 4, 2, 0, 0, 1, 2, 0, 0])\n",
      "\n",
      "19\n",
      "<class 'universal_serial_bus.orm.usb20.descriptors.StandardInterfaceDescriptor'> AS\n",
      "array('B', [9, 4, 2, 1, 1, 1, 2, 0, 0])\n",
      "array('B', [9, 4, 2, 1, 1, 1, 2, 0, 0])\n",
      "\n",
      "20\n",
      "<class 'usb_audio.orm.uac20.descriptors.ClassSpecificAsInterfaceDescriptor'> AS\n",
      "array('B', [7, 36, 1, 2, 1, 1, 0])\n",
      "array('B', [7, 36, 1, 2, 1, 1, 0])\n",
      "\n",
      "21\n",
      "<class 'usb_audio.orm.uac20.formats.descriptors.TypeIFormatTypeDescriptor'> AS\n",
      "array('B', [14, 36, 2, 1, 1, 2, 16, 2, 68, 172, 0, 128, 187, 0])\n",
      "array('B', [14, 36, 2, 1, 1, 2])\n",
      "\n",
      "22\n",
      "<class 'usb_audio.orm.uac20.descriptors.StandardAsIsochronousAudioDataEndpointDescriptor'> AS\n",
      "array('B', [9, 5, 134, 1, 100, 0, 1, 0, 0])\n",
      "array('B', [9, 5, 134, 1, 100, 0, 1])\n",
      "\n",
      "23\n",
      "<class 'usb_audio.orm.uac20.descriptors.ClassSpecificAsIsochronousAudioDataEndpointDescriptor'> AS\n",
      "array('B', [7, 37, 1, 1, 0, 0, 0])\n",
      "array('B', [7, 37, 1, 1, 0, 0, 0])\n",
      "\n",
      "24\n",
      "<class 'universal_serial_bus.orm.usb20.descriptors.StandardInterfaceDescriptor'> HID\n",
      "array('B', [9, 4, 3, 0, 1, 3, 0, 0, 0])\n",
      "array('B', [9, 4, 3, 0, 1, 3, 0, 0, 0])\n",
      "\n",
      "25\n",
      "None HID\n",
      "array('B', [9, 33, 1, 2, 0, 1, 34, 39, 0])\n",
      "\n",
      "26\n",
      "<class 'universal_serial_bus.orm.usb20.descriptors.StandardEndpointDescriptor'> HID\n",
      "array('B', [7, 5, 131, 3, 8, 0, 32])\n",
      "array('B', [7, 5, 131, 3, 8, 0, 32])\n"
     ]
    }
   ],
   "source": [
    "intf_type = None\n",
    "i = 0\n",
    "\n",
    "dbos = []\n",
    "\n",
    "for descriptor in descriptors:\n",
    "    _class, session, intf_type = get_descriptor_class(descriptor, intf_type)\n",
    "    \n",
    "    print()\n",
    "    print(i)\n",
    "    i+=1    \n",
    "    \n",
    "    print(_class, intf_type)\n",
    "    print(descriptor)\n",
    "\n",
    "    \n",
    "    if _class is not None:\n",
    "        dbo = _class.from_byte_array(descriptor)\n",
    "        dbos.append(dbo)\n",
    "        print(dbo.byte_array)\n",
    "        session.add(dbo)\n",
    "        session.commit()"
   ]
  },
  {
   "cell_type": "code",
   "execution_count": 30,
   "metadata": {},
   "outputs": [
    {
     "name": "stderr",
     "output_type": "stream",
     "text": [
      "C:\\Softwares\\Python\\lib\\site-packages\\networkx\\drawing\\nx_pylab.py:579: MatplotlibDeprecationWarning: \n",
      "The iterable function was deprecated in Matplotlib 3.1 and will be removed in 3.3. Use np.iterable instead.\n",
      "  if not cb.iterable(width):\n",
      "C:\\Softwares\\Python\\lib\\site-packages\\networkx\\drawing\\nx_pylab.py:676: MatplotlibDeprecationWarning: \n",
      "The iterable function was deprecated in Matplotlib 3.1 and will be removed in 3.3. Use np.iterable instead.\n",
      "  if cb.iterable(node_size):  # many node sizes\n"
     ]
    },
    {
     "data": {
      "image/png": "[encoded data removed]",
      "text/plain": [
       "<Figure size 1152x576 with 1 Axes>"
      ]
     },
     "metadata": {},
     "output_type": "display_data"
    }
   ],
   "source": [
    "plt.figure(figsize = (16, 8))\n",
    "\n",
    "usb_device.draw_topolograph()"
   ]
  },
  {
   "cell_type": "markdown",
   "metadata": {},
   "source": [
    "## 各種 codes"
   ]
  },
  {
   "cell_type": "code",
   "execution_count": 31,
   "metadata": {
    "scrolled": false
   },
   "outputs": [
    {
     "data": {
      "text/plain": [
       "{('01',): ('device',),\n",
       " ('02',): ('configuration',),\n",
       " ('03',): ('string',),\n",
       " ('04',): ('interface',),\n",
       " ('05',): ('endpoint',),\n",
       " ('06',): ('device_qualifier',),\n",
       " ('07',): ('other_speed_configuration',),\n",
       " ('08',): ('interface_power',),\n",
       " ('09',): ('OTG',),\n",
       " ('0a',): ('debug',),\n",
       " ('0b',): ('interface_association',)}"
      ]
     },
     "execution_count": 31,
     "metadata": {},
     "output_type": "execute_result"
    }
   ],
   "source": [
    "descriptor_types = DescriptorType.to_dict(['bDescriptorType'], ['dscrpt_type'], session_usb_codes)\n",
    "descriptor_types"
   ]
  },
  {
   "cell_type": "code",
   "execution_count": 32,
   "metadata": {},
   "outputs": [
    {
     "data": {
      "text/plain": [
       "{('00',): ('Use class information in the Interface Descriptors',),\n",
       " ('01',): ('Audio',),\n",
       " ('02',): ('Communications and CDC Control',),\n",
       " ('03',): ('HID (Human Interface Device)',),\n",
       " ('05',): ('Physical',),\n",
       " ('06',): ('Image',),\n",
       " ('07',): ('Printer',),\n",
       " ('08',): ('Mass Storage',),\n",
       " ('09',): ('Hub',),\n",
       " ('0a',): ('CDC-Data',),\n",
       " ('0b',): ('Smart Card',),\n",
       " ('0d',): ('Content Security',),\n",
       " ('0e',): ('Video',),\n",
       " ('0f',): ('Personal Healthcare',),\n",
       " ('10',): ('Audio/Video Devices',),\n",
       " ('11',): ('Billboard Device Class',),\n",
       " ('12',): ('USB Type-C Bridge Class',),\n",
       " ('dc',): ('Diagnostic Device',),\n",
       " ('e0',): ('Wireless Controller',),\n",
       " ('ef',): ('Miscellaneous',),\n",
       " ('fe',): ('Application Specific',),\n",
       " ('ff',): ('Vendor Specific',)}"
      ]
     },
     "execution_count": 32,
     "metadata": {},
     "output_type": "execute_result"
    }
   ],
   "source": [
    "class_codes = ClassCode.to_dict(['base_code'], ['description'], session_usb_codes)\n",
    "class_codes"
   ]
  },
  {
   "cell_type": "code",
   "execution_count": 33,
   "metadata": {},
   "outputs": [
    {
     "data": {
      "text/plain": [
       "{('00',): ('INTERFACE_SUBCLASS_UNDEFINED',),\n",
       " ('01',): ('AUDIOCONTROL',),\n",
       " ('02',): ('AUDIOSTREAMING',),\n",
       " ('03',): ('MIDISTREAMING',)}"
      ]
     },
     "execution_count": 33,
     "metadata": {},
     "output_type": "execute_result"
    }
   ],
   "source": [
    "uac_subclasses = AudioInterfaceSubclassCode.to_dict(['value'], ['audio_interface_subclass_code'], session_uac_codes)\n",
    "uac_subclasses"
   ]
  },
  {
   "cell_type": "code",
   "execution_count": 34,
   "metadata": {
    "scrolled": true
   },
   "outputs": [
    {
     "data": {
      "text/plain": [
       "{('20',): ('CS_UNDEFINED',),\n",
       " ('21',): ('CS_DEVICE',),\n",
       " ('22',): ('CS_CONFIGURATION',),\n",
       " ('23',): ('CS_STRING',),\n",
       " ('24',): ('CS_INTERFACE',),\n",
       " ('25',): ('CS_ENDPOINT',)}"
      ]
     },
     "execution_count": 34,
     "metadata": {},
     "output_type": "execute_result"
    }
   ],
   "source": [
    "ac_descriptor_types = AudioClassSpecificDescriptorType.to_dict(['value'], ['descriptor_type'], session_uac_codes)\n",
    "ac_descriptor_types"
   ]
  },
  {
   "cell_type": "code",
   "execution_count": 35,
   "metadata": {},
   "outputs": [
    {
     "data": {
      "text/plain": [
       "{('00',): ('AC_DESCRIPTOR_UNDEFINED',),\n",
       " ('01',): ('HEADER',),\n",
       " ('02',): ('INPUT_TERMINAL',),\n",
       " ('03',): ('OUTPUT_TERMINAL',),\n",
       " ('04',): ('MIXER_UNIT',),\n",
       " ('05',): ('SELECTOR_UNIT',),\n",
       " ('06',): ('FEATURE_UNIT',),\n",
       " ('07',): ('EFFECT_UNIT',),\n",
       " ('08',): ('PROCESSING_UNIT',),\n",
       " ('09',): ('EXTENSION_UNIT',),\n",
       " ('0A',): ('CLOCK_SOURCE',),\n",
       " ('0B',): ('CLOCK_SELECTOR',),\n",
       " ('0C',): ('CLOCK_MULTIPLIER',),\n",
       " ('0D',): ('SAMPLE_RATE_CONVERTER',)}"
      ]
     },
     "execution_count": 35,
     "metadata": {},
     "output_type": "execute_result"
    }
   ],
   "source": [
    "ac_descriptor_subtypes = AudioClassSpecificAcInterfaceDescriptorSubtype.to_dict(['value'], ['descriptor_subtype'], session_uac_codes)\n",
    "ac_descriptor_subtypes"
   ]
  },
  {
   "cell_type": "code",
   "execution_count": 36,
   "metadata": {
    "scrolled": true
   },
   "outputs": [
    {
     "data": {
      "text/plain": [
       "{('00',): ('AS_DESCRIPTOR_UNDEFINED',),\n",
       " ('01',): ('AS_GENERAL',),\n",
       " ('02',): ('FORMAT_TYPE',),\n",
       " ('03',): ('ENCODER',),\n",
       " ('04',): ('DECODER',)}"
      ]
     },
     "execution_count": 36,
     "metadata": {},
     "output_type": "execute_result"
    }
   ],
   "source": [
    "as_descriptor_subtypes = \\\n",
    "    AudioClassSpecificAsInterfaceDescriptorSubtype.to_dict(['value'], ['descriptor_subtype'], session_uac_codes)\n",
    "as_descriptor_subtypes"
   ]
  },
  {
   "cell_type": "code",
   "execution_count": 37,
   "metadata": {
    "scrolled": true
   },
   "outputs": [
    {
     "data": {
      "text/plain": [
       "{('00',): ('DESCRIPTOR_UNDEFINED',), ('01',): ('EP_GENERAL',)}"
      ]
     },
     "execution_count": 37,
     "metadata": {},
     "output_type": "execute_result"
    }
   ],
   "source": [
    "ep_descriptor_subtypes = \\\n",
    "    AudioClassSpecificEndpointDescriptorSubtype.to_dict(['value'], ['descriptor_subtype'], session_uac_codes)\n",
    "ep_descriptor_subtypes"
   ]
  },
  {
   "cell_type": "markdown",
   "metadata": {},
   "source": [
    "## String descriptor\n",
    "https://www.beyondlogic.org/usbnutshell/usb5.shtml#StringDescriptors  "
   ]
  },
  {
   "cell_type": "code",
   "execution_count": 38,
   "metadata": {},
   "outputs": [
    {
     "data": {
      "text/plain": [
       "['', 'GeneralPlus', 'USB Audio Device']"
      ]
     },
     "execution_count": 38,
     "metadata": {},
     "output_type": "execute_result"
    }
   ],
   "source": [
    "string_descriptors = usb_device.get_strings()\n",
    "string_descriptors"
   ]
  },
  {
   "cell_type": "code",
   "execution_count": 39,
   "metadata": {},
   "outputs": [],
   "source": [
    "for i in range(len(string_descriptors)): \n",
    "        if string_descriptors[i] is not None:\n",
    "            string = UnicodeStringDescriptor(len(string_descriptors[i]),\n",
    "                                             UnicodeStringDescriptor.int_to_hex(3), \n",
    "                                             string_descriptors[i], parent_id = usb_device.id)   \n",
    "            session_usb_descriptors.add(string)\n",
    "        \n",
    "session_usb_descriptors.commit() "
   ]
  }
 ],
 "metadata": {
  "kernelspec": {
   "display_name": "Python 3",
   "language": "python",
   "name": "python3"
  },
  "language_info": {
   "codemirror_mode": {
    "name": "ipython",
    "version": 3
   },
   "file_extension": ".py",
   "mimetype": "text/x-python",
   "name": "python",
   "nbconvert_exporter": "python",
   "pygments_lexer": "ipython3",
   "version": "3.6.9"
  }
 },
 "nbformat": 4,
 "nbformat_minor": 2
}
